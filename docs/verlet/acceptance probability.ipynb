{
 "cells": [
  {
   "cell_type": "code",
   "execution_count": 1,
   "metadata": {},
   "outputs": [],
   "source": [
    "from sympy import *"
   ]
  },
  {
   "cell_type": "code",
   "execution_count": 2,
   "metadata": {},
   "outputs": [],
   "source": [
    "q_n12, q_n1, q_n, a, b, h, M = symbols(\"q^{(n+1/2)} q^{(n+1)} q^{(n)} a b h M\")\n",
    "f_n, f_n1, eps, eps_, theta_n, theta_n1 = symbols(r\"f^{(n)} f^{(n+1)} \\epsilon \\epsilon' \\theta^{(n)} \\theta^{(n+1)}\")\n",
    "alpha, C, T = symbols(r\"\\alpha C T\")"
   ]
  },
  {
   "cell_type": "code",
   "execution_count": 3,
   "metadata": {},
   "outputs": [
    {
     "data": {
      "text/latex": [
       "$\\displaystyle \\frac{C f^{(n)}}{2} + \\alpha \\epsilon + \\sqrt{a} q^{(n)}$"
      ],
      "text/plain": [
       "C*f^{(n)}/2 + \\alpha*\\epsilon + sqrt(a)*q^{(n)}"
      ]
     },
     "execution_count": 3,
     "metadata": {},
     "output_type": "execute_result"
    }
   ],
   "source": [
    "vel1 = sqrt(a)*q_n + Rational(1, 2)*C*f_n + alpha*eps\n",
    "vel1"
   ]
  },
  {
   "cell_type": "code",
   "execution_count": 4,
   "metadata": {},
   "outputs": [
    {
     "data": {
      "text/latex": [
       "$\\displaystyle C q^{(n+1/2)} + \\theta^{(n)}$"
      ],
      "text/plain": [
       "C*q^{(n+1/2)} + \\theta^{(n)}"
      ]
     },
     "execution_count": 4,
     "metadata": {},
     "output_type": "execute_result"
    }
   ],
   "source": [
    "pos1 = theta_n + C*q_n12\n",
    "pos1"
   ]
  },
  {
   "cell_type": "code",
   "execution_count": 5,
   "metadata": {},
   "outputs": [
    {
     "data": {
      "text/latex": [
       "$\\displaystyle \\frac{C \\sqrt{a} f^{(n+1)}}{2} + \\alpha \\epsilon' + \\sqrt{a} q^{(n+1/2)}$"
      ],
      "text/plain": [
       "C*sqrt(a)*f^{(n+1)}/2 + \\alpha*\\epsilon' + sqrt(a)*q^{(n+1/2)}"
      ]
     },
     "execution_count": 5,
     "metadata": {},
     "output_type": "execute_result"
    }
   ],
   "source": [
    "vel2 = sqrt(a)*q_n12 + Rational(1, 2)*sqrt(a)*C*f_n1 + alpha*eps_\n",
    "vel2"
   ]
  },
  {
   "cell_type": "code",
   "execution_count": 6,
   "metadata": {},
   "outputs": [],
   "source": [
    "C_def =  b*h/sqrt(M)\n",
    "alpha_def = sqrt((1-a)*T)"
   ]
  },
  {
   "cell_type": "code",
   "execution_count": 7,
   "metadata": {},
   "outputs": [
    {
     "data": {
      "text/latex": [
       "$\\displaystyle \\epsilon \\sqrt{T \\left(1 - a\\right)} + \\sqrt{a} q^{(n)} + \\frac{b f^{(n)} h}{2 \\sqrt{M}}$"
      ],
      "text/plain": [
       "\\epsilon*sqrt(T*(1 - a)) + sqrt(a)*q^{(n)} + b*f^{(n)}*h/(2*sqrt(M))"
      ]
     },
     "execution_count": 7,
     "metadata": {},
     "output_type": "execute_result"
    }
   ],
   "source": [
    "vel1_expanded = vel1.subs(C, C_def).subs(alpha, alpha_def)\n",
    "vel1_expanded"
   ]
  },
  {
   "cell_type": "code",
   "execution_count": 8,
   "metadata": {},
   "outputs": [
    {
     "data": {
      "text/latex": [
       "$\\displaystyle \\theta^{(n)} + \\frac{b h q^{(n+1/2)}}{\\sqrt{M}}$"
      ],
      "text/plain": [
       "\\theta^{(n)} + b*h*q^{(n+1/2)}/sqrt(M)"
      ]
     },
     "execution_count": 8,
     "metadata": {},
     "output_type": "execute_result"
    }
   ],
   "source": [
    "pos1.subs(C, C_def)"
   ]
  },
  {
   "cell_type": "code",
   "execution_count": 9,
   "metadata": {},
   "outputs": [
    {
     "data": {
      "text/latex": [
       "$\\displaystyle \\epsilon' \\sqrt{T \\left(1 - a\\right)} + \\sqrt{a} q^{(n+1/2)} + \\frac{\\sqrt{a} b f^{(n+1)} h}{2 \\sqrt{M}}$"
      ],
      "text/plain": [
       "\\epsilon'*sqrt(T*(1 - a)) + sqrt(a)*q^{(n+1/2)} + sqrt(a)*b*f^{(n+1)}*h/(2*sqrt(M))"
      ]
     },
     "execution_count": 9,
     "metadata": {},
     "output_type": "execute_result"
    }
   ],
   "source": [
    "vel2_expanded = vel2.subs(C, C_def).subs(alpha, alpha_def)\n",
    "vel2_expanded"
   ]
  },
  {
   "cell_type": "code",
   "execution_count": 10,
   "metadata": {},
   "outputs": [
    {
     "data": {
      "text/latex": [
       "$\\displaystyle \\epsilon \\sqrt{- T a + T} + \\epsilon' \\sqrt{a} \\sqrt{- T a + T} + a q^{(n+1/2)} + \\frac{a b f^{(n+1)} h}{2 \\sqrt{M}} + \\frac{b f^{(n+1)} h}{2 \\sqrt{M}}$"
      ],
      "text/plain": [
       "\\epsilon*sqrt(-T*a + T) + \\epsilon'*sqrt(a)*sqrt(-T*a + T) + a*q^{(n+1/2)} + a*b*f^{(n+1)}*h/(2*sqrt(M)) + b*f^{(n+1)}*h/(2*sqrt(M))"
      ]
     },
     "execution_count": 10,
     "metadata": {},
     "output_type": "execute_result"
    }
   ],
   "source": [
    "expand(simplify(vel1_expanded.subs(q_n, vel2_expanded).subs(f_n, f_n1)))"
   ]
  },
  {
   "cell_type": "code",
   "execution_count": 11,
   "metadata": {},
   "outputs": [],
   "source": [
    "solution = linsolve([\n",
    "    Eq(theta_n1, pos1.subs(q_n12, vel1)),\n",
    "    Eq(q_n1, vel2.subs(q_n12, vel1))],\n",
    "    [eps, eps_])"
   ]
  },
  {
   "cell_type": "code",
   "execution_count": 12,
   "metadata": {},
   "outputs": [
    {
     "data": {
      "text/latex": [
       "$\\displaystyle \\frac{- \\frac{C^{2} f^{(n)}}{2} - C \\sqrt{a} q^{(n)} - \\theta^{(n)} + \\theta^{(n+1)}}{C \\alpha}$"
      ],
      "text/plain": [
       "(-C**2*f^{(n)}/2 - C*sqrt(a)*q^{(n)} - \\theta^{(n)} + \\theta^{(n+1)})/(C*\\alpha)"
      ]
     },
     "execution_count": 12,
     "metadata": {},
     "output_type": "execute_result"
    }
   ],
   "source": [
    "eps_def, eps__def = next(iter(solution))\n",
    "eps_def"
   ]
  },
  {
   "cell_type": "code",
   "execution_count": 23,
   "metadata": {},
   "outputs": [
    {
     "data": {
      "text/latex": [
       "$\\displaystyle - \\frac{\\sqrt{M} \\sqrt{a} q^{(n)}}{c_{2}} - \\frac{M \\theta^{(n)}}{b c_{2} h} + \\frac{M \\theta^{(n+1)}}{b c_{2} h} - \\frac{b f^{(n)} h}{2 c_{2}}$"
      ],
      "text/plain": [
       "-sqrt(M)*sqrt(a)*q^{(n)}/c_2 - M*\\theta^{(n)}/(b*c_2*h) + M*\\theta^{(n+1)}/(b*c_2*h) - b*f^{(n)}*h/(2*c_2)"
      ]
     },
     "execution_count": 23,
     "metadata": {},
     "output_type": "execute_result"
    }
   ],
   "source": [
    "c_2 = symbols(\"c_2\")\n",
    "alpha_def_c_2 = c_2 / sqrt(M)\n",
    "\n",
    "eps_def_alt = expand(eps_def).subs(C*alpha, simplify(alpha_def_c_2 * C_def))\\\n",
    "                        .subs(alpha, alpha_def_c_2).subs(C, C_def)\n",
    "eps_def_alt"
   ]
  },
  {
   "cell_type": "code",
   "execution_count": 24,
   "metadata": {},
   "outputs": [
    {
     "data": {
      "text/latex": [
       "$\\displaystyle - \\frac{\\sqrt{M} q^{(n+1)}}{c_{2}} - \\frac{M \\theta^{(n)} \\sqrt{a}}{b c_{2} h} + \\frac{M \\theta^{(n+1)} \\sqrt{a}}{b c_{2} h} + \\frac{\\sqrt{a} b f^{(n+1)} h}{2 c_{2}}$"
      ],
      "text/plain": [
       "-sqrt(M)*q^{(n+1)}/c_2 - M*\\theta^{(n)}*sqrt(a)/(b*c_2*h) + M*\\theta^{(n+1)}*sqrt(a)/(b*c_2*h) + sqrt(a)*b*f^{(n+1)}*h/(2*c_2)"
      ]
     },
     "execution_count": 24,
     "metadata": {},
     "output_type": "execute_result"
    }
   ],
   "source": [
    "eps__def_alt = -expand(eps__def).subs(C*alpha, simplify(alpha_def_c_2 * C_def))\\\n",
    "                        .subs(alpha, alpha_def_c_2).subs(C, C_def)\n",
    "eps__def_alt"
   ]
  },
  {
   "cell_type": "code",
   "execution_count": 15,
   "metadata": {},
   "outputs": [
    {
     "data": {
      "text/latex": [
       "$\\displaystyle - \\frac{\\left(- \\frac{\\sqrt{M} q^{(n+1)}}{c_{2}} - \\frac{M \\theta^{(n)} \\sqrt{a}}{b c_{2} h} + \\frac{M \\theta^{(n+1)} \\sqrt{a}}{b c_{2} h} + \\frac{\\sqrt{a} b f^{(n+1)} h}{2 c_{2}}\\right)^{2}}{2} - \\frac{\\left(- \\frac{\\sqrt{M} \\sqrt{a} q^{(n)}}{c_{2}} - \\frac{M \\theta^{(n)}}{b c_{2} h} + \\frac{M \\theta^{(n+1)}}{b c_{2} h} - \\frac{b f^{(n)} h}{2 c_{2}}\\right)^{2}}{2}$"
      ],
      "text/plain": [
       "-(-sqrt(M)*q^{(n+1)}/c_2 - M*\\theta^{(n)}*sqrt(a)/(b*c_2*h) + M*\\theta^{(n+1)}*sqrt(a)/(b*c_2*h) + sqrt(a)*b*f^{(n+1)}*h/(2*c_2))**2/2 - (-sqrt(M)*sqrt(a)*q^{(n)}/c_2 - M*\\theta^{(n)}/(b*c_2*h) + M*\\theta^{(n+1)}/(b*c_2*h) - b*f^{(n)}*h/(2*c_2))**2/2"
      ]
     },
     "execution_count": 15,
     "metadata": {},
     "output_type": "execute_result"
    }
   ],
   "source": [
    "log_density1 = -Rational(1, 2)*(eps_def_alt**2 + eps__def_alt**2)\n",
    "log_density1"
   ]
  },
  {
   "cell_type": "code",
   "execution_count": 16,
   "metadata": {},
   "outputs": [
    {
     "data": {
      "text/latex": [
       "$\\displaystyle - \\frac{\\left(\\frac{\\sqrt{M} q^{(n)}}{c_{2}} + \\frac{M \\theta^{(n)} \\sqrt{a}}{b c_{2} h} - \\frac{M \\theta^{(n+1)} \\sqrt{a}}{b c_{2} h} + \\frac{\\sqrt{a} b f^{(n)} h}{2 c_{2}}\\right)^{2}}{2} - \\frac{\\left(\\frac{\\sqrt{M} \\sqrt{a} q^{(n+1)}}{c_{2}} + \\frac{M \\theta^{(n)}}{b c_{2} h} - \\frac{M \\theta^{(n+1)}}{b c_{2} h} - \\frac{b f^{(n+1)} h}{2 c_{2}}\\right)^{2}}{2}$"
      ],
      "text/plain": [
       "-(sqrt(M)*q^{(n)}/c_2 + M*\\theta^{(n)}*sqrt(a)/(b*c_2*h) - M*\\theta^{(n+1)}*sqrt(a)/(b*c_2*h) + sqrt(a)*b*f^{(n)}*h/(2*c_2))**2/2 - (sqrt(M)*sqrt(a)*q^{(n+1)}/c_2 + M*\\theta^{(n)}/(b*c_2*h) - M*\\theta^{(n+1)}/(b*c_2*h) - b*f^{(n+1)}*h/(2*c_2))**2/2"
      ]
     },
     "execution_count": 16,
     "metadata": {},
     "output_type": "execute_result"
    }
   ],
   "source": [
    "tmp = symbols('\\text{tmp}')\n",
    "log_density2 = (log_density1\n",
    "                .subs(f_n, tmp).subs(f_n1, f_n).subs(tmp, f_n1)\n",
    "                .subs(theta_n, tmp).subs(theta_n1, theta_n).subs(tmp, theta_n1)\n",
    "                .subs(q_n, tmp).subs(q_n1, -q_n).subs(tmp, -q_n1))\n",
    "log_density2"
   ]
  },
  {
   "cell_type": "code",
   "execution_count": 17,
   "metadata": {},
   "outputs": [],
   "source": [
    "x = simplify(simplify((log_density1 - log_density2)*T).subs(c_2**2, (1-a)*M*T))"
   ]
  },
  {
   "cell_type": "code",
   "execution_count": 18,
   "metadata": {},
   "outputs": [
    {
     "data": {
      "text/latex": [
       "$\\displaystyle - \\frac{\\theta^{(n)} f^{(n)}}{2} - \\frac{\\theta^{(n)} f^{(n+1)}}{2} + \\frac{\\theta^{(n+1)} f^{(n)}}{2} + \\frac{\\theta^{(n+1)} f^{(n+1)}}{2} + \\frac{\\left(q^{(n)}\\right)^{2}}{2} - \\frac{\\left(q^{(n+1)}\\right)^{2}}{2} - \\frac{b^{2} \\left(f^{(n)}\\right)^{2} h^{2}}{8 M} + \\frac{b^{2} \\left(f^{(n+1)}\\right)^{2} h^{2}}{8 M}$"
      ],
      "text/plain": [
       "-\\theta^{(n)}*f^{(n)}/2 - \\theta^{(n)}*f^{(n+1)}/2 + \\theta^{(n+1)}*f^{(n)}/2 + \\theta^{(n+1)}*f^{(n+1)}/2 + q^{(n)}**2/2 - q^{(n+1)}**2/2 - b**2*f^{(n)}**2*h**2/(8*M) + b**2*f^{(n+1)}**2*h**2/(8*M)"
      ]
     },
     "execution_count": 18,
     "metadata": {},
     "output_type": "execute_result"
    }
   ],
   "source": [
    "x"
   ]
  },
  {
   "cell_type": "markdown",
   "metadata": {},
   "source": [
    "# SGLD version"
   ]
  },
  {
   "cell_type": "code",
   "execution_count": 64,
   "metadata": {},
   "outputs": [
    {
     "data": {
      "text/latex": [
       "$\\displaystyle - \\frac{M \\left(q^{(n+1)}\\right)^{2}}{2 c_{2}^{2}} - \\frac{\\left(- \\frac{M \\theta^{(n)}}{b c_{2} h} + \\frac{M \\theta^{(n+1)}}{b c_{2} h} - \\frac{b f^{(n)} h}{2 c_{2}}\\right)^{2}}{2}$"
      ],
      "text/plain": [
       "-M*q^{(n+1)}**2/(2*c_2**2) - (-M*\\theta^{(n)}/(b*c_2*h) + M*\\theta^{(n+1)}/(b*c_2*h) - b*f^{(n)}*h/(2*c_2))**2/2"
      ]
     },
     "execution_count": 64,
     "metadata": {},
     "output_type": "execute_result"
    }
   ],
   "source": [
    "ld1_sgld = log_density1.subs(a, 0)\n",
    "ld1_sgld"
   ]
  },
  {
   "cell_type": "code",
   "execution_count": 65,
   "metadata": {},
   "outputs": [
    {
     "data": {
      "text/latex": [
       "$\\displaystyle - \\frac{M \\left(q^{(n)}\\right)^{2}}{2 c_{2}^{2}} - \\frac{\\left(\\frac{M \\theta^{(n)}}{b c_{2} h} - \\frac{M \\theta^{(n+1)}}{b c_{2} h} - \\frac{b f^{(n+1)} h}{2 c_{2}}\\right)^{2}}{2}$"
      ],
      "text/plain": [
       "-M*q^{(n)}**2/(2*c_2**2) - (M*\\theta^{(n)}/(b*c_2*h) - M*\\theta^{(n+1)}/(b*c_2*h) - b*f^{(n+1)}*h/(2*c_2))**2/2"
      ]
     },
     "execution_count": 65,
     "metadata": {},
     "output_type": "execute_result"
    }
   ],
   "source": [
    "ld2_sgld = log_density2.subs(a, 0)\n",
    "ld2_sgld"
   ]
  },
  {
   "cell_type": "code",
   "execution_count": 67,
   "metadata": {},
   "outputs": [
    {
     "data": {
      "text/latex": [
       "$\\displaystyle - \\frac{\\theta^{(n)} f^{(n)}}{2} - \\frac{\\theta^{(n)} f^{(n+1)}}{2} + \\frac{\\theta^{(n+1)} f^{(n)}}{2} + \\frac{\\theta^{(n+1)} f^{(n+1)}}{2} + \\frac{\\left(q^{(n)}\\right)^{2}}{2} - \\frac{\\left(q^{(n+1)}\\right)^{2}}{2} - \\frac{b^{2} \\left(f^{(n)}\\right)^{2} h^{2}}{8 M} + \\frac{b^{2} \\left(f^{(n+1)}\\right)^{2} h^{2}}{8 M}$"
      ],
      "text/plain": [
       "-\\theta^{(n)}*f^{(n)}/2 - \\theta^{(n)}*f^{(n+1)}/2 + \\theta^{(n+1)}*f^{(n)}/2 + \\theta^{(n+1)}*f^{(n+1)}/2 + q^{(n)}**2/2 - q^{(n+1)}**2/2 - b**2*f^{(n)}**2*h**2/(8*M) + b**2*f^{(n+1)}**2*h**2/(8*M)"
      ]
     },
     "execution_count": 67,
     "metadata": {},
     "output_type": "execute_result"
    }
   ],
   "source": [
    "x = expand(expand((ld1_sgld - ld2_sgld)*T).subs(c_2**2, M*T))\n",
    "x"
   ]
  },
  {
   "cell_type": "code",
   "execution_count": 57,
   "metadata": {},
   "outputs": [
    {
     "data": {
      "text/latex": [
       "$\\displaystyle - \\frac{\\left(- \\theta^{(n)} + \\theta^{(n+1)} - f^{(n)} h^{2}\\right)^{2}}{4 h^{2}}$"
      ],
      "text/plain": [
       "-(-\\theta^{(n)} + \\theta^{(n+1)} - f^{(n)}*h**2)**2/(4*h**2)"
      ]
     },
     "execution_count": 57,
     "metadata": {},
     "output_type": "execute_result"
    }
   ],
   "source": [
    "ld1_sgld = -Rational(1, 4)/h**2 * (theta_n1 - theta_n - h**2 * f_n)**2\n",
    "ld1_sgld"
   ]
  },
  {
   "cell_type": "code",
   "execution_count": 58,
   "metadata": {},
   "outputs": [
    {
     "data": {
      "text/latex": [
       "$\\displaystyle - \\frac{\\left(\\theta^{(n)} - \\theta^{(n+1)} - f^{(n+1)} h^{2}\\right)^{2}}{4 h^{2}}$"
      ],
      "text/plain": [
       "-(\\theta^{(n)} - \\theta^{(n+1)} - f^{(n+1)}*h**2)**2/(4*h**2)"
      ]
     },
     "execution_count": 58,
     "metadata": {},
     "output_type": "execute_result"
    }
   ],
   "source": [
    "ld2_sgld = (ld1_sgld\n",
    "                .subs(f_n, tmp).subs(f_n1, f_n).subs(tmp, f_n1)\n",
    "                .subs(theta_n, tmp).subs(theta_n1, theta_n).subs(tmp, theta_n1)\n",
    "                .subs(q_n, tmp).subs(q_n1, -q_n).subs(tmp, -q_n1))\n",
    "ld2_sgld"
   ]
  },
  {
   "cell_type": "code",
   "execution_count": 60,
   "metadata": {},
   "outputs": [
    {
     "data": {
      "text/latex": [
       "$\\displaystyle - \\frac{\\theta^{(n)} f^{(n)}}{2} - \\frac{\\theta^{(n)} f^{(n+1)}}{2} + \\frac{\\theta^{(n+1)} f^{(n)}}{2} + \\frac{\\theta^{(n+1)} f^{(n+1)}}{2} - \\frac{\\left(f^{(n)}\\right)^{2} h^{2}}{4} + \\frac{\\left(f^{(n+1)}\\right)^{2} h^{2}}{4}$"
      ],
      "text/plain": [
       "-\\theta^{(n)}*f^{(n)}/2 - \\theta^{(n)}*f^{(n+1)}/2 + \\theta^{(n+1)}*f^{(n)}/2 + \\theta^{(n+1)}*f^{(n+1)}/2 - f^{(n)}**2*h**2/4 + f^{(n+1)}**2*h**2/4"
      ]
     },
     "execution_count": 60,
     "metadata": {},
     "output_type": "execute_result"
    }
   ],
   "source": [
    "x = simplify(expand((ld1_sgld - ld2_sgld)).subs(c_2**2, M*T))\n",
    "x"
   ]
  },
  {
   "cell_type": "code",
   "execution_count": null,
   "metadata": {},
   "outputs": [],
   "source": []
  }
 ],
 "metadata": {
  "kernelspec": {
   "display_name": "Python 3",
   "language": "python",
   "name": "python3"
  },
  "language_info": {
   "codemirror_mode": {
    "name": "ipython",
    "version": 3
   },
   "file_extension": ".py",
   "mimetype": "text/x-python",
   "name": "python",
   "nbconvert_exporter": "python",
   "pygments_lexer": "ipython3",
   "version": "3.7.7"
  }
 },
 "nbformat": 4,
 "nbformat_minor": 4
}
