{
 "cells": [
  {
   "cell_type": "code",
   "execution_count": 137,
   "metadata": {},
   "outputs": [],
   "source": [
    "from sympy import *"
   ]
  },
  {
   "cell_type": "code",
   "execution_count": 138,
   "metadata": {},
   "outputs": [],
   "source": [
    "q_n14, q_n12, q_n1, q_n34, q_n, a, h, M = symbols(\"q^{(n+1/4)} q^{(n+1/2)} q^{(n+1)} q^{(n+3/4)} q^{(n)} a h M\")\n",
    "f_n, f_n1, eps, eps_, theta_n, theta_n1 = symbols(r\"f^{(n)} f^{(n+1)} \\epsilon \\epsilon' \\theta^{(n)} \\theta^{(n+1)}\")\n",
    "alpha, C, T = symbols(r\"\\alpha C T\")\n",
    "x, x_ = symbols(\"x x'\")"
   ]
  },
  {
   "cell_type": "code",
   "execution_count": 139,
   "metadata": {},
   "outputs": [
    {
     "data": {
      "text/latex": [
       "$\\displaystyle \\frac{C f^{(n)}}{2} + \\alpha \\epsilon + \\sqrt{a} q^{(n)}$"
      ],
      "text/plain": [
       "C*f^{(n)}/2 + \\alpha*\\epsilon + sqrt(a)*q^{(n)}"
      ]
     },
     "execution_count": 139,
     "metadata": {},
     "output_type": "execute_result"
    }
   ],
   "source": [
    "vel1 = sqrt(a)*q_n + Rational(1, 2)*C*f_n + alpha*eps\n",
    "vel1"
   ]
  },
  {
   "cell_type": "code",
   "execution_count": 140,
   "metadata": {},
   "outputs": [
    {
     "data": {
      "text/latex": [
       "$\\displaystyle C q^{(n+1/2)} + \\theta^{(n)}$"
      ],
      "text/plain": [
       "C*q^{(n+1/2)} + \\theta^{(n)}"
      ]
     },
     "execution_count": 140,
     "metadata": {},
     "output_type": "execute_result"
    }
   ],
   "source": [
    "pos1 = theta_n + C*q_n12\n",
    "pos1"
   ]
  },
  {
   "cell_type": "code",
   "execution_count": 141,
   "metadata": {},
   "outputs": [
    {
     "data": {
      "text/latex": [
       "$\\displaystyle \\frac{C \\sqrt{a} f^{(n+1)}}{2} + \\alpha \\epsilon' + \\sqrt{a} q^{(n+1/2)}$"
      ],
      "text/plain": [
       "C*sqrt(a)*f^{(n+1)}/2 + \\alpha*\\epsilon' + sqrt(a)*q^{(n+1/2)}"
      ]
     },
     "execution_count": 141,
     "metadata": {},
     "output_type": "execute_result"
    }
   ],
   "source": [
    "vel2 = sqrt(a)*q_n12 + Rational(1, 2)*sqrt(a)*C*f_n1 + alpha*eps_\n",
    "vel2"
   ]
  },
  {
   "cell_type": "code",
   "execution_count": 142,
   "metadata": {},
   "outputs": [],
   "source": [
    "C_def =  h/sqrt(M)\n",
    "alpha_def = sqrt((1-a)*T)"
   ]
  },
  {
   "cell_type": "code",
   "execution_count": 143,
   "metadata": {},
   "outputs": [
    {
     "data": {
      "text/latex": [
       "$\\displaystyle \\epsilon \\sqrt{T \\left(1 - a\\right)} + \\sqrt{a} q^{(n)} + \\frac{f^{(n)} h}{2 \\sqrt{M}}$"
      ],
      "text/plain": [
       "\\epsilon*sqrt(T*(1 - a)) + sqrt(a)*q^{(n)} + f^{(n)}*h/(2*sqrt(M))"
      ]
     },
     "execution_count": 143,
     "metadata": {},
     "output_type": "execute_result"
    }
   ],
   "source": [
    "vel1_expanded = vel1.subs(C, C_def).subs(alpha, alpha_def)\n",
    "vel1_expanded"
   ]
  },
  {
   "cell_type": "code",
   "execution_count": 144,
   "metadata": {},
   "outputs": [
    {
     "data": {
      "text/latex": [
       "$\\displaystyle \\theta^{(n)} + \\frac{h q^{(n+1/2)}}{\\sqrt{M}}$"
      ],
      "text/plain": [
       "\\theta^{(n)} + h*q^{(n+1/2)}/sqrt(M)"
      ]
     },
     "execution_count": 144,
     "metadata": {},
     "output_type": "execute_result"
    }
   ],
   "source": [
    "pos1.subs(C, C_def)"
   ]
  },
  {
   "cell_type": "code",
   "execution_count": 145,
   "metadata": {},
   "outputs": [
    {
     "data": {
      "text/latex": [
       "$\\displaystyle \\epsilon' \\sqrt{T \\left(1 - a\\right)} + \\sqrt{a} q^{(n+1/2)} + \\frac{\\sqrt{a} f^{(n+1)} h}{2 \\sqrt{M}}$"
      ],
      "text/plain": [
       "\\epsilon'*sqrt(T*(1 - a)) + sqrt(a)*q^{(n+1/2)} + sqrt(a)*f^{(n+1)}*h/(2*sqrt(M))"
      ]
     },
     "execution_count": 145,
     "metadata": {},
     "output_type": "execute_result"
    }
   ],
   "source": [
    "vel2_expanded = vel2.subs(C, C_def).subs(alpha, alpha_def)\n",
    "vel2_expanded"
   ]
  },
  {
   "cell_type": "code",
   "execution_count": 146,
   "metadata": {},
   "outputs": [
    {
     "data": {
      "text/latex": [
       "$\\displaystyle \\epsilon \\sqrt{- T a + T} + \\epsilon' \\sqrt{a} \\sqrt{- T a + T} + a q^{(n+1/2)} + \\frac{a f^{(n+1)} h}{2 \\sqrt{M}} + \\frac{f^{(n+1)} h}{2 \\sqrt{M}}$"
      ],
      "text/plain": [
       "\\epsilon*sqrt(-T*a + T) + \\epsilon'*sqrt(a)*sqrt(-T*a + T) + a*q^{(n+1/2)} + a*f^{(n+1)}*h/(2*sqrt(M)) + f^{(n+1)}*h/(2*sqrt(M))"
      ]
     },
     "execution_count": 146,
     "metadata": {},
     "output_type": "execute_result"
    }
   ],
   "source": [
    "expand(simplify(vel1_expanded.subs(q_n, vel2_expanded).subs(f_n, f_n1)))"
   ]
  },
  {
   "cell_type": "code",
   "execution_count": 147,
   "metadata": {},
   "outputs": [],
   "source": [
    "solution = linsolve([\n",
    "    Eq(theta_n1, pos1.subs(q_n12, vel1)),\n",
    "    Eq(q_n1, vel2.subs(q_n12, vel1))],\n",
    "    [eps, eps_])"
   ]
  },
  {
   "cell_type": "code",
   "execution_count": 148,
   "metadata": {},
   "outputs": [
    {
     "data": {
      "text/latex": [
       "$\\displaystyle \\frac{- \\frac{C^{2} f^{(n)}}{2} - C \\sqrt{a} q^{(n)} - \\theta^{(n)} + \\theta^{(n+1)}}{C \\alpha}$"
      ],
      "text/plain": [
       "(-C**2*f^{(n)}/2 - C*sqrt(a)*q^{(n)} - \\theta^{(n)} + \\theta^{(n+1)})/(C*\\alpha)"
      ]
     },
     "execution_count": 148,
     "metadata": {},
     "output_type": "execute_result"
    }
   ],
   "source": [
    "eps_def, eps__def = next(iter(solution))\n",
    "eps_def"
   ]
  },
  {
   "cell_type": "code",
   "execution_count": 149,
   "metadata": {},
   "outputs": [
    {
     "data": {
      "text/latex": [
       "$\\displaystyle - \\frac{\\sqrt{M} \\sqrt{a} q^{(n)}}{c_{2}} - \\frac{M \\theta^{(n)}}{c_{2} h} + \\frac{M \\theta^{(n+1)}}{c_{2} h} - \\frac{f^{(n)} h}{2 c_{2}}$"
      ],
      "text/plain": [
       "-sqrt(M)*sqrt(a)*q^{(n)}/c_2 - M*\\theta^{(n)}/(c_2*h) + M*\\theta^{(n+1)}/(c_2*h) - f^{(n)}*h/(2*c_2)"
      ]
     },
     "execution_count": 149,
     "metadata": {},
     "output_type": "execute_result"
    }
   ],
   "source": [
    "c_2 = symbols(\"c_2\")\n",
    "alpha_def_c_2 = c_2 / sqrt(M)\n",
    "\n",
    "eps_def_alt = expand(eps_def).subs(C*alpha, simplify(alpha_def_c_2 * C_def))\\\n",
    "                        .subs(alpha, alpha_def_c_2).subs(C, C_def)\n",
    "eps_def_alt"
   ]
  },
  {
   "cell_type": "code",
   "execution_count": 150,
   "metadata": {},
   "outputs": [
    {
     "data": {
      "text/latex": [
       "$\\displaystyle - \\frac{\\sqrt{M} q^{(n+1)}}{c_{2}} - \\frac{M \\theta^{(n)} \\sqrt{a}}{c_{2} h} + \\frac{M \\theta^{(n+1)} \\sqrt{a}}{c_{2} h} + \\frac{\\sqrt{a} f^{(n+1)} h}{2 c_{2}}$"
      ],
      "text/plain": [
       "-sqrt(M)*q^{(n+1)}/c_2 - M*\\theta^{(n)}*sqrt(a)/(c_2*h) + M*\\theta^{(n+1)}*sqrt(a)/(c_2*h) + sqrt(a)*f^{(n+1)}*h/(2*c_2)"
      ]
     },
     "execution_count": 150,
     "metadata": {},
     "output_type": "execute_result"
    }
   ],
   "source": [
    "eps__def_alt = -expand(eps__def).subs(C*alpha, simplify(alpha_def_c_2 * C_def))\\\n",
    "                        .subs(alpha, alpha_def_c_2).subs(C, C_def)\n",
    "eps__def_alt"
   ]
  },
  {
   "cell_type": "code",
   "execution_count": 151,
   "metadata": {},
   "outputs": [
    {
     "data": {
      "text/latex": [
       "$\\displaystyle \\frac{\\left(2 M \\left(\\theta^{(n)} - \\theta^{(n+1)}\\right) + h \\left(2 \\sqrt{M} \\sqrt{a} q^{(n)} + f^{(n)} h\\right)\\right)^{2} + \\left(2 M \\sqrt{a} \\left(\\theta^{(n)} - \\theta^{(n+1)}\\right) + h \\left(2 \\sqrt{M} q^{(n+1)} - \\sqrt{a} f^{(n+1)} h\\right)\\right)^{2}}{8 M h^{2} \\left(a - 1\\right)}$"
      ],
      "text/plain": [
       "((2*M*(\\theta^{(n)} - \\theta^{(n+1)}) + h*(2*sqrt(M)*sqrt(a)*q^{(n)} + f^{(n)}*h))**2 + (2*M*sqrt(a)*(\\theta^{(n)} - \\theta^{(n+1)}) + h*(2*sqrt(M)*q^{(n+1)} - sqrt(a)*f^{(n+1)}*h))**2)/(8*M*h**2*(a - 1))"
      ]
     },
     "execution_count": 151,
     "metadata": {},
     "output_type": "execute_result"
    }
   ],
   "source": [
    "log_density1 = -Rational(1, 2)*(eps_def_alt**2 + eps__def_alt**2)\n",
    "log_density1\n",
    "simplify(simplify((log_density1)*T).subs(c_2**2, (1-a)*M*T))"
   ]
  },
  {
   "cell_type": "code",
   "execution_count": 152,
   "metadata": {},
   "outputs": [
    {
     "data": {
      "text/latex": [
       "$\\displaystyle \\frac{\\left(2 M \\left(\\theta^{(n)} - \\theta^{(n+1)}\\right) + h \\left(2 \\sqrt{M} \\sqrt{a} q^{(n+1)} - f^{(n+1)} h\\right)\\right)^{2} + \\left(2 M \\sqrt{a} \\left(\\theta^{(n)} - \\theta^{(n+1)}\\right) + h \\left(2 \\sqrt{M} q^{(n)} + \\sqrt{a} f^{(n)} h\\right)\\right)^{2}}{8 M h^{2} \\left(a - 1\\right)}$"
      ],
      "text/plain": [
       "((2*M*(\\theta^{(n)} - \\theta^{(n+1)}) + h*(2*sqrt(M)*sqrt(a)*q^{(n+1)} - f^{(n+1)}*h))**2 + (2*M*sqrt(a)*(\\theta^{(n)} - \\theta^{(n+1)}) + h*(2*sqrt(M)*q^{(n)} + sqrt(a)*f^{(n)}*h))**2)/(8*M*h**2*(a - 1))"
      ]
     },
     "execution_count": 152,
     "metadata": {},
     "output_type": "execute_result"
    }
   ],
   "source": [
    "tmp = symbols('\\text{tmp}')\n",
    "log_density2 = (log_density1\n",
    "                .subs(f_n, tmp).subs(f_n1, f_n).subs(tmp, f_n1)\n",
    "                .subs(theta_n, tmp).subs(theta_n1, theta_n).subs(tmp, theta_n1)\n",
    "                .subs(q_n, tmp).subs(q_n1, -q_n).subs(tmp, -q_n1))\n",
    "simplify(simplify((log_density2)*T).subs(c_2**2, (1-a)*M*T))"
   ]
  },
  {
   "cell_type": "code",
   "execution_count": 153,
   "metadata": {},
   "outputs": [],
   "source": [
    "x = simplify(simplify((log_density1 - log_density2)*T).subs(c_2**2, (1-a)*M*T))"
   ]
  },
  {
   "cell_type": "code",
   "execution_count": 154,
   "metadata": {},
   "outputs": [
    {
     "data": {
      "text/latex": [
       "$\\displaystyle - \\frac{\\theta^{(n)} f^{(n)}}{2} - \\frac{\\theta^{(n)} f^{(n+1)}}{2} + \\frac{\\theta^{(n+1)} f^{(n)}}{2} + \\frac{\\theta^{(n+1)} f^{(n+1)}}{2} + \\frac{\\left(q^{(n)}\\right)^{2}}{2} - \\frac{\\left(q^{(n+1)}\\right)^{2}}{2} - \\frac{\\left(f^{(n)}\\right)^{2} h^{2}}{8 M} + \\frac{\\left(f^{(n+1)}\\right)^{2} h^{2}}{8 M}$"
      ],
      "text/plain": [
       "-\\theta^{(n)}*f^{(n)}/2 - \\theta^{(n)}*f^{(n+1)}/2 + \\theta^{(n+1)}*f^{(n)}/2 + \\theta^{(n+1)}*f^{(n+1)}/2 + q^{(n)}**2/2 - q^{(n+1)}**2/2 - f^{(n)}**2*h**2/(8*M) + f^{(n+1)}**2*h**2/(8*M)"
      ]
     },
     "execution_count": 154,
     "metadata": {},
     "output_type": "execute_result"
    }
   ],
   "source": [
    "x"
   ]
  },
  {
   "cell_type": "markdown",
   "metadata": {},
   "source": [
    "# SGLD version"
   ]
  },
  {
   "cell_type": "code",
   "execution_count": 34,
   "metadata": {},
   "outputs": [
    {
     "data": {
      "text/latex": [
       "$\\displaystyle - \\frac{M \\left(q^{(n+1)}\\right)^{2}}{2 c_{2}^{2}} - \\frac{\\left(- \\frac{M \\theta^{(n)}}{c_{2} h} + \\frac{M \\theta^{(n+1)}}{c_{2} h} - \\frac{f^{(n)} h}{2 c_{2}}\\right)^{2}}{2}$"
      ],
      "text/plain": [
       "-M*q^{(n+1)}**2/(2*c_2**2) - (-M*\\theta^{(n)}/(c_2*h) + M*\\theta^{(n+1)}/(c_2*h) - f^{(n)}*h/(2*c_2))**2/2"
      ]
     },
     "execution_count": 34,
     "metadata": {},
     "output_type": "execute_result"
    }
   ],
   "source": [
    "ld1_sgld = log_density1.subs(a, 0)\n",
    "ld1_sgld"
   ]
  },
  {
   "cell_type": "code",
   "execution_count": 35,
   "metadata": {},
   "outputs": [
    {
     "data": {
      "text/latex": [
       "$\\displaystyle - \\frac{M \\left(q^{(n)}\\right)^{2}}{2 c_{2}^{2}} - \\frac{\\left(\\frac{M \\theta^{(n)}}{c_{2} h} - \\frac{M \\theta^{(n+1)}}{c_{2} h} - \\frac{f^{(n+1)} h}{2 c_{2}}\\right)^{2}}{2}$"
      ],
      "text/plain": [
       "-M*q^{(n)}**2/(2*c_2**2) - (M*\\theta^{(n)}/(c_2*h) - M*\\theta^{(n+1)}/(c_2*h) - f^{(n+1)}*h/(2*c_2))**2/2"
      ]
     },
     "execution_count": 35,
     "metadata": {},
     "output_type": "execute_result"
    }
   ],
   "source": [
    "ld2_sgld = log_density2.subs(a, 0)\n",
    "ld2_sgld"
   ]
  },
  {
   "cell_type": "code",
   "execution_count": 36,
   "metadata": {},
   "outputs": [
    {
     "data": {
      "text/latex": [
       "$\\displaystyle - \\frac{\\theta^{(n)} f^{(n)}}{2} - \\frac{\\theta^{(n)} f^{(n+1)}}{2} + \\frac{\\theta^{(n+1)} f^{(n)}}{2} + \\frac{\\theta^{(n+1)} f^{(n+1)}}{2} + \\frac{\\left(q^{(n)}\\right)^{2}}{2} - \\frac{\\left(q^{(n+1)}\\right)^{2}}{2} - \\frac{\\left(f^{(n)}\\right)^{2} h^{2}}{8 M} + \\frac{\\left(f^{(n+1)}\\right)^{2} h^{2}}{8 M}$"
      ],
      "text/plain": [
       "-\\theta^{(n)}*f^{(n)}/2 - \\theta^{(n)}*f^{(n+1)}/2 + \\theta^{(n+1)}*f^{(n)}/2 + \\theta^{(n+1)}*f^{(n+1)}/2 + q^{(n)}**2/2 - q^{(n+1)}**2/2 - f^{(n)}**2*h**2/(8*M) + f^{(n+1)}**2*h**2/(8*M)"
      ]
     },
     "execution_count": 36,
     "metadata": {},
     "output_type": "execute_result"
    }
   ],
   "source": [
    "x = expand(expand((ld1_sgld - ld2_sgld)*T).subs(c_2**2, M*T))\n",
    "x"
   ]
  },
  {
   "cell_type": "code",
   "execution_count": 37,
   "metadata": {},
   "outputs": [
    {
     "data": {
      "text/latex": [
       "$\\displaystyle - \\frac{\\left(- \\theta^{(n)} + \\theta^{(n+1)} - f^{(n)} h^{2}\\right)^{2}}{4 h^{2}}$"
      ],
      "text/plain": [
       "-(-\\theta^{(n)} + \\theta^{(n+1)} - f^{(n)}*h**2)**2/(4*h**2)"
      ]
     },
     "execution_count": 37,
     "metadata": {},
     "output_type": "execute_result"
    }
   ],
   "source": [
    "ld1_sgld = -Rational(1, 4)/h**2 * (theta_n1 - theta_n - h**2 * f_n)**2\n",
    "ld1_sgld"
   ]
  },
  {
   "cell_type": "code",
   "execution_count": 38,
   "metadata": {},
   "outputs": [
    {
     "data": {
      "text/latex": [
       "$\\displaystyle - \\frac{\\left(\\theta^{(n)} - \\theta^{(n+1)} - f^{(n+1)} h^{2}\\right)^{2}}{4 h^{2}}$"
      ],
      "text/plain": [
       "-(\\theta^{(n)} - \\theta^{(n+1)} - f^{(n+1)}*h**2)**2/(4*h**2)"
      ]
     },
     "execution_count": 38,
     "metadata": {},
     "output_type": "execute_result"
    }
   ],
   "source": [
    "ld2_sgld = (ld1_sgld\n",
    "                .subs(f_n, tmp).subs(f_n1, f_n).subs(tmp, f_n1)\n",
    "                .subs(theta_n, tmp).subs(theta_n1, theta_n).subs(tmp, theta_n1)\n",
    "                .subs(q_n, tmp).subs(q_n1, -q_n).subs(tmp, -q_n1))\n",
    "ld2_sgld"
   ]
  },
  {
   "cell_type": "code",
   "execution_count": 52,
   "metadata": {},
   "outputs": [
    {
     "data": {
      "text/latex": [
       "$\\displaystyle - \\frac{\\theta^{(n)} f^{(n)}}{2} - \\frac{\\theta^{(n)} f^{(n+1)}}{2} + \\frac{\\theta^{(n+1)} f^{(n)}}{2} + \\frac{\\theta^{(n+1)} f^{(n+1)}}{2} - \\frac{\\left(f^{(n)}\\right)^{2} h^{2}}{4} + \\frac{\\left(f^{(n+1)}\\right)^{2} h^{2}}{4}$"
      ],
      "text/plain": [
       "-\\theta^{(n)}*f^{(n)}/2 - \\theta^{(n)}*f^{(n+1)}/2 + \\theta^{(n+1)}*f^{(n)}/2 + \\theta^{(n+1)}*f^{(n+1)}/2 - f^{(n)}**2*h**2/4 + f^{(n+1)}**2*h**2/4"
      ]
     },
     "execution_count": 52,
     "metadata": {},
     "output_type": "execute_result"
    }
   ],
   "source": [
    "x = simplify(expand((ld1_sgld - ld2_sgld)).subs(c_2**2, M*T))\n",
    "x"
   ]
  },
  {
   "cell_type": "markdown",
   "metadata": {},
   "source": [
    "# Compare SGLD with HMC"
   ]
  },
  {
   "cell_type": "code",
   "execution_count": 31,
   "metadata": {},
   "outputs": [
    {
     "data": {
      "text/latex": [
       "$\\displaystyle \\frac{- \\frac{C f^{(n)}}{2} - \\alpha \\epsilon + q^{(n+1/2)}}{\\sqrt{a}}$"
      ],
      "text/plain": [
       "(-C*f^{(n)}/2 - \\alpha*\\epsilon + q^{(n+1/2)})/sqrt(a)"
      ]
     },
     "execution_count": 31,
     "metadata": {},
     "output_type": "execute_result"
    }
   ],
   "source": [
    "q_n_def = (q_n12 -  C/2*f_n - alpha*eps) / sqrt(a)\n",
    "assert vel1.subs(q_n, q_n_def) == q_n12\n",
    "q_n_def"
   ]
  },
  {
   "cell_type": "code",
   "execution_count": 88,
   "metadata": {},
   "outputs": [
    {
     "data": {
      "text/latex": [
       "$\\displaystyle \\frac{- \\frac{C \\sqrt{a} f^{(n+1)}}{2} - \\alpha \\epsilon' + q^{(n+1)}}{\\sqrt{a}}$"
      ],
      "text/plain": [
       "(-C*sqrt(a)*f^{(n+1)}/2 - \\alpha*\\epsilon' + q^{(n+1)})/sqrt(a)"
      ]
     },
     "execution_count": 88,
     "metadata": {},
     "output_type": "execute_result"
    }
   ],
   "source": [
    "q_n12_from_n1 = (q_n1 -  C*sqrt(a)/2*f_n1 - alpha*eps_) / sqrt(a)\n",
    "assert vel2.subs(q_n12, q_n12_from_n1) == q_n1\n",
    "q_n12_from_n1"
   ]
  },
  {
   "cell_type": "code",
   "execution_count": 44,
   "metadata": {},
   "outputs": [
    {
     "data": {
      "text/latex": [
       "$\\displaystyle \\frac{2 \\left(- \\alpha \\epsilon - \\sqrt{a} q^{(n)} + q^{(n+1/2)}\\right)}{C}$"
      ],
      "text/plain": [
       "2*(-\\alpha*\\epsilon - sqrt(a)*q^{(n)} + q^{(n+1/2)})/C"
      ]
     },
     "execution_count": 44,
     "metadata": {},
     "output_type": "execute_result"
    }
   ],
   "source": [
    "f_n_def = 2/C * (q_n12 - sqrt(a)*q_n - alpha*eps)\n",
    "assert vel1.subs(f_n, f_n_def) == q_n12\n",
    "f_n_def"
   ]
  },
  {
   "cell_type": "code",
   "execution_count": 45,
   "metadata": {},
   "outputs": [
    {
     "data": {
      "text/latex": [
       "$\\displaystyle \\frac{2 \\left(- \\alpha \\epsilon' - \\sqrt{a} q^{(n+1/2)} + q^{(n+1)}\\right)}{C \\sqrt{a}}$"
      ],
      "text/plain": [
       "2*(-\\alpha*\\epsilon' - sqrt(a)*q^{(n+1/2)} + q^{(n+1)})/(C*sqrt(a))"
      ]
     },
     "execution_count": 45,
     "metadata": {},
     "output_type": "execute_result"
    }
   ],
   "source": [
    "f_n1_def = 2/(C * sqrt(a)) * (q_n1 - sqrt(a)*q_n12 - alpha*eps_)\n",
    "assert vel2.subs(f_n1, f_n1_def) == q_n1\n",
    "f_n1_def"
   ]
  },
  {
   "cell_type": "code",
   "execution_count": 60,
   "metadata": {},
   "outputs": [
    {
     "data": {
      "text/latex": [
       "$\\displaystyle \\frac{C a \\left(\\theta^{(n)} - \\theta^{(n+1)}\\right) \\left(\\alpha \\epsilon' + \\sqrt{a} q^{(n+1/2)} + \\sqrt{a} \\left(\\alpha \\epsilon + \\sqrt{a} q^{(n)} - q^{(n+1/2)}\\right) - q^{(n+1)}\\right) - a^{\\frac{3}{2}} h^{2} \\left(\\alpha \\epsilon + \\sqrt{a} q^{(n)} - q^{(n+1/2)}\\right)^{2} + \\sqrt{a} h^{2} \\left(\\alpha \\epsilon' + \\sqrt{a} q^{(n+1/2)} - q^{(n+1)}\\right)^{2}}{C^{2} a^{\\frac{3}{2}}}$"
      ],
      "text/plain": [
       "(C*a*(\\theta^{(n)} - \\theta^{(n+1)})*(\\alpha*\\epsilon' + sqrt(a)*q^{(n+1/2)} + sqrt(a)*(\\alpha*\\epsilon + sqrt(a)*q^{(n)} - q^{(n+1/2)}) - q^{(n+1)}) - a**(3/2)*h**2*(\\alpha*\\epsilon + sqrt(a)*q^{(n)} - q^{(n+1/2)})**2 + sqrt(a)*h**2*(\\alpha*\\epsilon' + sqrt(a)*q^{(n+1/2)} - q^{(n+1)})**2)/(C**2*a**(3/2))"
      ]
     },
     "execution_count": 60,
     "metadata": {},
     "output_type": "execute_result"
    }
   ],
   "source": [
    "y = simplify(collect(collect(x.subs(f_n, f_n_def).subs(f_n1, f_n1_def), theta_n), theta_n1))\n",
    "y"
   ]
  },
  {
   "cell_type": "code",
   "execution_count": 93,
   "metadata": {},
   "outputs": [
    {
     "data": {
      "text/latex": [
       "$\\displaystyle \\frac{C f^{(n)} q^{(n+1/2)}}{2} + \\frac{C f^{(n+1)} q^{(n+1/2)}}{2} - \\frac{\\left(f^{(n)}\\right)^{2} h^{2}}{4} + \\frac{\\left(f^{(n+1)}\\right)^{2} h^{2}}{4}$"
      ],
      "text/plain": [
       "C*f^{(n)}*q^{(n+1/2)}/2 + C*f^{(n+1)}*q^{(n+1/2)}/2 - f^{(n)}**2*h**2/4 + f^{(n+1)}**2*h**2/4"
      ]
     },
     "execution_count": 93,
     "metadata": {},
     "output_type": "execute_result"
    }
   ],
   "source": [
    "eps_def_q = eps_def.subs(theta_n - theta_n1, -C*q_n12)\n",
    "eps__def_q = eps__def.subs(sqrt(a)*theta_n - sqrt(a)*theta_n1, -C*sqrt(a)*q_n12)\n",
    "\n",
    "z = simplify(expand(y.subs(theta_n - theta_n1, -C*q_n12).subs(eps, eps_def_q).subs(eps_, eps__def_q)))\n",
    "z"
   ]
  },
  {
   "cell_type": "code",
   "execution_count": 94,
   "metadata": {},
   "outputs": [
    {
     "data": {
      "text/latex": [
       "$\\displaystyle \\frac{h}{\\sqrt{M}}$"
      ],
      "text/plain": [
       "h/sqrt(M)"
      ]
     },
     "execution_count": 94,
     "metadata": {},
     "output_type": "execute_result"
    }
   ],
   "source": [
    "C_def"
   ]
  },
  {
   "cell_type": "code",
   "execution_count": 99,
   "metadata": {
    "scrolled": true
   },
   "outputs": [
    {
     "data": {
      "text/latex": [
       "$\\displaystyle - \\alpha^{2} \\epsilon^{2} + \\frac{\\alpha^{2} \\epsilon'^{2}}{a} - 2 \\alpha \\epsilon \\sqrt{a} q^{(n)} + \\alpha \\epsilon q^{(n+1/2)} - \\frac{2 \\alpha \\epsilon' q^{(n+1)}}{a} + \\frac{\\alpha \\epsilon' q^{(n+1/2)}}{\\sqrt{a}} + \\sqrt{a} q^{(n)} q^{(n+1/2)} - a \\left(q^{(n)}\\right)^{2} + \\frac{\\left(q^{(n+1)}\\right)^{2}}{a} - \\frac{q^{(n+1)} q^{(n+1/2)}}{\\sqrt{a}}$"
      ],
      "text/plain": [
       "-\\alpha**2*\\epsilon**2 + \\alpha**2*\\epsilon'**2/a - 2*\\alpha*\\epsilon*sqrt(a)*q^{(n)} + \\alpha*\\epsilon*q^{(n+1/2)} - 2*\\alpha*\\epsilon'*q^{(n+1)}/a + \\alpha*\\epsilon'*q^{(n+1/2)}/sqrt(a) + sqrt(a)*q^{(n)}*q^{(n+1/2)} - a*q^{(n)}**2 + q^{(n+1)}**2/a - q^{(n+1)}*q^{(n+1/2)}/sqrt(a)"
      ]
     },
     "execution_count": 99,
     "metadata": {},
     "output_type": "execute_result"
    }
   ],
   "source": [
    "expand(expand(z.subs(f_n*q_n12, f_n*vel1).subs(f_n1*q_n12, f_n1*q_n12_from_n1)).subs(C, h).subs(f_n, f_n_def).subs(f_n1, f_n1_def)).subs(C, h)"
   ]
  },
  {
   "cell_type": "code",
   "execution_count": 75,
   "metadata": {},
   "outputs": [
    {
     "data": {
      "text/latex": [
       "$\\displaystyle \\frac{- \\frac{C^{2} \\sqrt{a} f^{(n+1)}}{2} - C \\sqrt{a} q^{(n+1/2)} + C q^{(n+1)}}{C \\alpha}$"
      ],
      "text/plain": [
       "(-C**2*sqrt(a)*f^{(n+1)}/2 - C*sqrt(a)*q^{(n+1/2)} + C*q^{(n+1)})/(C*\\alpha)"
      ]
     },
     "execution_count": 75,
     "metadata": {},
     "output_type": "execute_result"
    }
   ],
   "source": [
    "eps_def_q = eps_def.subs(theta_n - theta_n1, -C*q_n12)\n",
    "eps__def_q = eps__def.subs(sqrt(a)*theta_n - sqrt(a)*theta_n1, -C*sqrt(a)*q_n12)\n",
    "\n",
    "eps__def_q"
   ]
  },
  {
   "cell_type": "code",
   "execution_count": 114,
   "metadata": {},
   "outputs": [
    {
     "data": {
      "text/latex": [
       "$\\displaystyle x^{2} \\left(a - 1\\right) + x'^{2} \\left(1 - a\\right)$"
      ],
      "text/plain": [
       "x**2*(a - 1) + x'**2*(1 - a)"
      ]
     },
     "execution_count": 114,
     "metadata": {},
     "output_type": "execute_result"
    }
   ],
   "source": [
    "collect(collect(expand((x_ - sqrt(a)*x)**2 - (x - sqrt(a)*x_)**2), x), x_)"
   ]
  },
  {
   "cell_type": "code",
   "execution_count": 134,
   "metadata": {},
   "outputs": [
    {
     "name": "stderr",
     "output_type": "stream",
     "text": [
      "/scratches/huygens/ag919/venv/py37/lib/python3.7/site-packages/ipykernel_launcher.py:5: RuntimeWarning: divide by zero encountered in true_divide\n",
      "  \"\"\"\n",
      "/scratches/huygens/ag919/venv/py37/lib/python3.7/site-packages/ipykernel_launcher.py:5: RuntimeWarning: invalid value encountered in true_divide\n",
      "  \"\"\"\n"
     ]
    },
    {
     "data": {
      "text/plain": [
       "<matplotlib.colorbar.Colorbar at 0x7fe37a5bc890>"
      ]
     },
     "execution_count": 134,
     "metadata": {},
     "output_type": "execute_result"
    },
    {
     "data": {
      "image/png": "[encoded data removed]",
      "text/plain": [
       "<Figure size 432x288 with 2 Axes>"
      ]
     },
     "metadata": {
      "needs_background": "light"
     },
     "output_type": "display_data"
    }
   ],
   "source": [
    "import numpy as np\n",
    "import matplotlib.pyplot as plt\n",
    "\n",
    "x, y = np.meshgrid(*[np.linspace(0.01, 1, 100)]*2)\n",
    "Z = -(1 - x)/(2* (1 - y)**.5) - 1/2\n",
    "\n",
    "#image = plt.imshow(Z, origin='lower', extent=(0, 1, 0, 1))\n",
    "\n",
    "cset = plt.contour(Z,np.linspace(-6., -.5, 50),linewidths=2,  extent=(0, 1, 0, 1))\n",
    "plt.clabel(cset,inline=True,fmt='%1.1f',fontsize=10) \n",
    "\n",
    "\n",
    "plt.colorbar(image)"
   ]
  },
  {
   "cell_type": "code",
   "execution_count": 116,
   "metadata": {},
   "outputs": [
    {
     "data": {
      "text/plain": [
       "[array([[0., 1.],\n",
       "        [0., 1.]]),\n",
       " array([[0., 0.],\n",
       "        [1., 1.]])]"
      ]
     },
     "execution_count": 116,
     "metadata": {},
     "output_type": "execute_result"
    }
   ],
   "source": [
    "np.meshgrid(np.linspace(0, 1, 2), np.linspace(0, 1, 2))"
   ]
  },
  {
   "cell_type": "code",
   "execution_count": 124,
   "metadata": {},
   "outputs": [
    {
     "ename": "ZeroDivisionError",
     "evalue": "float division by zero",
     "output_type": "error",
     "traceback": [
      "\u001b[0;31m---------------------------------------------------------------------------\u001b[0m",
      "\u001b[0;31mZeroDivisionError\u001b[0m                         Traceback (most recent call last)",
      "\u001b[0;32m<ipython-input-124-5fe177b072e4>\u001b[0m in \u001b[0;36m<module>\u001b[0;34m\u001b[0m\n\u001b[0;32m----> 1\u001b[0;31m \u001b[0;34m-\u001b[0m\u001b[0;34m(\u001b[0m\u001b[0;36m1\u001b[0m \u001b[0;34m-\u001b[0m \u001b[0;36m0.\u001b[0m\u001b[0;34m)\u001b[0m\u001b[0;34m/\u001b[0m\u001b[0;34m(\u001b[0m\u001b[0;36m2\u001b[0m\u001b[0;34m*\u001b[0m \u001b[0;34m(\u001b[0m\u001b[0;36m1\u001b[0m \u001b[0;34m-\u001b[0m \u001b[0;36m1\u001b[0m\u001b[0;34m)\u001b[0m\u001b[0;34m**\u001b[0m\u001b[0;36m.5\u001b[0m\u001b[0;34m)\u001b[0m\u001b[0;34m\u001b[0m\u001b[0;34m\u001b[0m\u001b[0m\n\u001b[0m",
      "\u001b[0;31mZeroDivisionError\u001b[0m: float division by zero"
     ]
    }
   ],
   "source": [
    "from numpy import exp,arange\n",
    "from pylab import meshgrid,cm,imshow,contour,clabel,colorbar,axis,title,show\n",
    "\n",
    "# the function that I'm going to plot\n",
    "def z_func(x,y):\n",
    " return (1-(x**2+y**3))*exp(-(x**2+y**2)/2)\n",
    " \n",
    "x = arange(-3.0,3.0,0.1)\n",
    "y = arange(-3.0,3.0,0.1)\n",
    "X,Y = meshgrid(x, y) # grid of point\n",
    "Z = z_func(X, Y) # evaluation of the function on the grid\n",
    "\n",
    "im = imshow(Z,cmap=cm.RdBu) # drawing the function\n",
    "# adding the Contour lines with labels\n",
    "cset = contour(Z,arange(-1,1.5,0.2),linewidths=2,cmap=cm.Set2)\n",
    "clabel(cset,inline=True,fmt='%1.1f',fontsize=10)\n",
    "colorbar(im) # adding the colobar on the right\n",
    "# latex fashion title\n",
    "title('$z=(1-x^2+y^3) e^{-(x^2+y^2)/2}$')\n",
    "show()"
   ]
  },
  {
   "cell_type": "markdown",
   "metadata": {},
   "source": [
    "# what is the acceptance ratio of momentum refreshment?"
   ]
  },
  {
   "cell_type": "code",
   "execution_count": 155,
   "metadata": {},
   "outputs": [
    {
     "data": {
      "text/latex": [
       "$\\displaystyle \\frac{\\left(- \\sqrt{a} q^{(n)} + q^{(n+1/4)}\\right)^{2}}{T \\left(2 a - 2\\right)}$"
      ],
      "text/plain": [
       "(-sqrt(a)*q^{(n)} + q^{(n+1/4)})**2/(T*(2*a - 2))"
      ]
     },
     "execution_count": 155,
     "metadata": {},
     "output_type": "execute_result"
    }
   ],
   "source": [
    "logp_fwd = (q_n14 - q_n*sqrt(a))**2 / (-2 * (1-a) * T)\n",
    "logp_fwd"
   ]
  },
  {
   "cell_type": "code",
   "execution_count": 156,
   "metadata": {},
   "outputs": [
    {
     "data": {
      "text/latex": [
       "$\\displaystyle \\frac{\\left(- \\sqrt{a} q^{(n+1/4)} + q^{(n)}\\right)^{2}}{T \\left(2 a - 2\\right)}$"
      ],
      "text/plain": [
       "(-sqrt(a)*q^{(n+1/4)} + q^{(n)})**2/(T*(2*a - 2))"
      ]
     },
     "execution_count": 156,
     "metadata": {},
     "output_type": "execute_result"
    }
   ],
   "source": [
    "logp_bak = (logp_fwd\n",
    "            .subs(q_n14, tmp).subs(q_n, q_n14).subs(tmp, q_n))\n",
    "logp_bak"
   ]
  },
  {
   "cell_type": "code",
   "execution_count": 157,
   "metadata": {},
   "outputs": [
    {
     "data": {
      "text/latex": [
       "$\\displaystyle \\frac{\\left(q^{(n)}\\right)^{2} - \\left(q^{(n+1/4)}\\right)^{2}}{2 T}$"
      ],
      "text/plain": [
       "(q^{(n)}**2 - q^{(n+1/4)}**2)/(2*T)"
      ]
     },
     "execution_count": 157,
     "metadata": {},
     "output_type": "execute_result"
    }
   ],
   "source": [
    "simplify(logp_fwd - logp_bak)"
   ]
  },
  {
   "cell_type": "code",
   "execution_count": 158,
   "metadata": {},
   "outputs": [
    {
     "data": {
      "text/latex": [
       "$\\displaystyle - \\frac{\\theta^{(n)} f^{(n)}}{2 T} - \\frac{\\theta^{(n)} f^{(n+1)}}{2 T} + \\frac{\\theta^{(n+1)} f^{(n)}}{2 T} + \\frac{\\theta^{(n+1)} f^{(n+1)}}{2 T} - \\frac{\\left(f^{(n)}\\right)^{2} h^{2}}{8 M T} + \\frac{\\left(f^{(n+1)}\\right)^{2} h^{2}}{8 M T}$"
      ],
      "text/plain": [
       "-\\theta^{(n)}*f^{(n)}/(2*T) - \\theta^{(n)}*f^{(n+1)}/(2*T) + \\theta^{(n+1)}*f^{(n)}/(2*T) + \\theta^{(n+1)}*f^{(n+1)}/(2*T) - f^{(n)}**2*h**2/(8*M*T) + f^{(n+1)}**2*h**2/(8*M*T)"
      ]
     },
     "execution_count": 158,
     "metadata": {},
     "output_type": "execute_result"
    }
   ],
   "source": [
    "expand(simplify(((q_n34**2 - q_n14**2) / (2*T))\\\n",
    ".subs(q_n14, sqrt(a)*q_n + alpha*eps_def)\\\n",
    ".subs(q_n34, (q_n1-alpha*eps__def) / sqrt(a))\\\n",
    ".subs(alpha, alpha_def)\\\n",
    ".subs(C, C_def)))"
   ]
  },
  {
   "cell_type": "code",
   "execution_count": 56,
   "metadata": {},
   "outputs": [
    {
     "data": {
      "text/latex": [
       "$\\displaystyle \\frac{\\epsilon^{2} a}{2} - \\frac{\\epsilon^{2}}{2} - \\frac{\\epsilon'^{2}}{2} + \\frac{\\epsilon'^{2}}{2 a} - \\frac{\\epsilon \\sqrt{a} q^{(n)} \\sqrt{- T a + T}}{T} - \\frac{\\epsilon' q^{(n+1)} \\sqrt{- T a + T}}{T a} - \\frac{a \\left(q^{(n)}\\right)^{2}}{2 T} + \\frac{\\left(q^{(n+1)}\\right)^{2}}{2 T a}$"
      ],
      "text/plain": [
       "\\epsilon**2*a/2 - \\epsilon**2/2 - \\epsilon'**2/2 + \\epsilon'**2/(2*a) - \\epsilon*sqrt(a)*q^{(n)}*sqrt(-T*a + T)/T - \\epsilon'*q^{(n+1)}*sqrt(-T*a + T)/(T*a) - a*q^{(n)}**2/(2*T) + q^{(n+1)}**2/(2*T*a)"
      ]
     },
     "execution_count": 56,
     "metadata": {},
     "output_type": "execute_result"
    }
   ],
   "source": [
    "expand(simplify(((q_n34**2 - q_n14**2) / (2*T))\\\n",
    ".subs(q_n14, sqrt(a)*q_n + alpha*eps)\\\n",
    ".subs(q_n34, (q_n1-alpha*eps_) / sqrt(a))\\\n",
    ".subs(alpha, alpha_def)\\\n",
    ".subs(C, C_def)))"
   ]
  },
  {
   "cell_type": "code",
   "execution_count": null,
   "metadata": {},
   "outputs": [],
   "source": []
  }
 ],
 "metadata": {
  "kernelspec": {
   "display_name": "Python 3",
   "language": "python",
   "name": "python3"
  },
  "language_info": {
   "codemirror_mode": {
    "name": "ipython",
    "version": 3
   },
   "file_extension": ".py",
   "mimetype": "text/x-python",
   "name": "python",
   "nbconvert_exporter": "python",
   "pygments_lexer": "ipython3",
   "version": "3.7.6"
  }
 },
 "nbformat": 4,
 "nbformat_minor": 4
}
