{
 "cells": [
  {
   "cell_type": "code",
   "execution_count": 66,
   "metadata": {},
   "outputs": [],
   "source": [
    "from sympy import *"
   ]
  },
  {
   "cell_type": "code",
   "execution_count": 67,
   "metadata": {},
   "outputs": [],
   "source": [
    "q_n12, q_n1, q_n, a, b, h, M = symbols(\"q^{(n+1/2)} q^{(n+1)} q^{(n)} a b h M\")\n",
    "f_n, f_n1, eps, eps_, theta_n, theta_n1 = symbols(r\"f^{(n)} f^{(n+1)} \\epsilon \\epsilon' \\theta^{(n)} \\theta^{(n+1)}\")\n",
    "alpha, C, T = symbols(r\"\\alpha C T\")"
   ]
  },
  {
   "cell_type": "code",
   "execution_count": 68,
   "metadata": {},
   "outputs": [
    {
     "data": {
      "text/latex": [
       "$\\displaystyle \\frac{C f^{(n)}}{2} + \\alpha \\epsilon + \\sqrt{a} q^{(n)}$"
      ],
      "text/plain": [
       "C*f^{(n)}/2 + \\alpha*\\epsilon + sqrt(a)*q^{(n)}"
      ]
     },
     "execution_count": 68,
     "metadata": {},
     "output_type": "execute_result"
    }
   ],
   "source": [
    "vel1 = sqrt(a)*q_n + Rational(1, 2)*C*f_n + alpha*eps\n",
    "vel1"
   ]
  },
  {
   "cell_type": "code",
   "execution_count": 69,
   "metadata": {},
   "outputs": [
    {
     "data": {
      "text/latex": [
       "$\\displaystyle C q^{(n+1/2)} + \\theta^{(n)}$"
      ],
      "text/plain": [
       "C*q^{(n+1/2)} + \\theta^{(n)}"
      ]
     },
     "execution_count": 69,
     "metadata": {},
     "output_type": "execute_result"
    }
   ],
   "source": [
    "pos1 = theta_n + C*q_n12\n",
    "pos1"
   ]
  },
  {
   "cell_type": "code",
   "execution_count": 70,
   "metadata": {},
   "outputs": [
    {
     "data": {
      "text/latex": [
       "$\\displaystyle \\frac{C \\sqrt{a} f^{(n+1)}}{2} + \\alpha \\epsilon' + \\sqrt{a} q^{(n+1/2)}$"
      ],
      "text/plain": [
       "C*sqrt(a)*f^{(n+1)}/2 + \\alpha*\\epsilon' + sqrt(a)*q^{(n+1/2)}"
      ]
     },
     "execution_count": 70,
     "metadata": {},
     "output_type": "execute_result"
    }
   ],
   "source": [
    "vel2 = sqrt(a)*q_n12 + Rational(1, 2)*sqrt(a)*C*f_n1 + alpha*eps_\n",
    "vel2"
   ]
  },
  {
   "cell_type": "code",
   "execution_count": 118,
   "metadata": {},
   "outputs": [],
   "source": [
    "C_def =  b*h/sqrt(M)\n",
    "alpha_def = sqrt((1-a)*T)"
   ]
  },
  {
   "cell_type": "code",
   "execution_count": 119,
   "metadata": {},
   "outputs": [
    {
     "data": {
      "text/latex": [
       "$\\displaystyle \\epsilon \\sqrt{T \\left(1 - a\\right)} + \\sqrt{a} q^{(n)} + \\frac{b f^{(n)} h}{2 \\sqrt{M}}$"
      ],
      "text/plain": [
       "\\epsilon*sqrt(T*(1 - a)) + sqrt(a)*q^{(n)} + b*f^{(n)}*h/(2*sqrt(M))"
      ]
     },
     "execution_count": 119,
     "metadata": {},
     "output_type": "execute_result"
    }
   ],
   "source": [
    "vel1.subs(C, C_def).subs(alpha, alpha_def)"
   ]
  },
  {
   "cell_type": "code",
   "execution_count": 120,
   "metadata": {},
   "outputs": [
    {
     "data": {
      "text/latex": [
       "$\\displaystyle \\theta^{(n)} + \\frac{b h q^{(n+1/2)}}{\\sqrt{M}}$"
      ],
      "text/plain": [
       "\\theta^{(n)} + b*h*q^{(n+1/2)}/sqrt(M)"
      ]
     },
     "execution_count": 120,
     "metadata": {},
     "output_type": "execute_result"
    }
   ],
   "source": [
    "pos1.subs(C, C_def)"
   ]
  },
  {
   "cell_type": "code",
   "execution_count": 121,
   "metadata": {},
   "outputs": [
    {
     "data": {
      "text/latex": [
       "$\\displaystyle \\epsilon' \\sqrt{T \\left(1 - a\\right)} + \\sqrt{a} q^{(n+1/2)} + \\frac{\\sqrt{a} b f^{(n+1)} h}{2 \\sqrt{M}}$"
      ],
      "text/plain": [
       "\\epsilon'*sqrt(T*(1 - a)) + sqrt(a)*q^{(n+1/2)} + sqrt(a)*b*f^{(n+1)}*h/(2*sqrt(M))"
      ]
     },
     "execution_count": 121,
     "metadata": {},
     "output_type": "execute_result"
    }
   ],
   "source": [
    "vel2.subs(C, C_def).subs(alpha, alpha_def)"
   ]
  },
  {
   "cell_type": "code",
   "execution_count": 122,
   "metadata": {},
   "outputs": [],
   "source": [
    "solution = linsolve([\n",
    "    Eq(theta_n1, pos1.subs(q_n12, vel1)),\n",
    "    Eq(q_n1, vel2.subs(q_n12, vel1))],\n",
    "    [eps, eps_])"
   ]
  },
  {
   "cell_type": "code",
   "execution_count": 123,
   "metadata": {},
   "outputs": [],
   "source": [
    "eps_def, eps__def = next(iter(solution))"
   ]
  },
  {
   "cell_type": "code",
   "execution_count": 127,
   "metadata": {},
   "outputs": [
    {
     "data": {
      "text/latex": [
       "$\\displaystyle - \\frac{\\sqrt{M} \\sqrt{a} q^{(n)}}{c_{2}} - \\frac{M \\theta^{(n)}}{b c_{2} h} + \\frac{M \\theta^{(n+1)}}{b c_{2} h} - \\frac{b f^{(n)} h}{2 c_{2}}$"
      ],
      "text/plain": [
       "-sqrt(M)*sqrt(a)*q^{(n)}/c_2 - M*\\theta^{(n)}/(b*c_2*h) + M*\\theta^{(n+1)}/(b*c_2*h) - b*f^{(n)}*h/(2*c_2)"
      ]
     },
     "execution_count": 127,
     "metadata": {},
     "output_type": "execute_result"
    }
   ],
   "source": [
    "c_2 = symbols(\"c_2\")\n",
    "eps_def_alt = expand(eps_def).subs(C*alpha, c_2*b*h/M).subs(alpha, c_2/sqrt(M)).subs(C, C_def)\n",
    "eps_def_alt"
   ]
  },
  {
   "cell_type": "code",
   "execution_count": 129,
   "metadata": {},
   "outputs": [
    {
     "data": {
      "text/latex": [
       "$\\displaystyle - \\frac{\\sqrt{M} q^{(n+1)}}{c_{2}} - \\frac{M \\theta^{(n)} \\sqrt{a}}{b c_{2} h} + \\frac{M \\theta^{(n+1)} \\sqrt{a}}{b c_{2} h} + \\frac{\\sqrt{a} b f^{(n+1)} h}{2 c_{2}}$"
      ],
      "text/plain": [
       "-sqrt(M)*q^{(n+1)}/c_2 - M*\\theta^{(n)}*sqrt(a)/(b*c_2*h) + M*\\theta^{(n+1)}*sqrt(a)/(b*c_2*h) + sqrt(a)*b*f^{(n+1)}*h/(2*c_2)"
      ]
     },
     "execution_count": 129,
     "metadata": {},
     "output_type": "execute_result"
    }
   ],
   "source": [
    "eps__def_alt = -expand(eps__def).subs(C*alpha, c_2*b*h/M).subs(alpha, c_2/sqrt(M)).subs(C, C_def)\n",
    "eps__def_alt"
   ]
  },
  {
   "cell_type": "code",
   "execution_count": 130,
   "metadata": {},
   "outputs": [
    {
     "data": {
      "text/latex": [
       "$\\displaystyle - \\frac{\\left(- \\frac{\\sqrt{M} q^{(n+1)}}{c_{2}} - \\frac{M \\theta^{(n)} \\sqrt{a}}{b c_{2} h} + \\frac{M \\theta^{(n+1)} \\sqrt{a}}{b c_{2} h} + \\frac{\\sqrt{a} b f^{(n+1)} h}{2 c_{2}}\\right)^{2}}{2} - \\frac{\\left(- \\frac{\\sqrt{M} \\sqrt{a} q^{(n)}}{c_{2}} - \\frac{M \\theta^{(n)}}{b c_{2} h} + \\frac{M \\theta^{(n+1)}}{b c_{2} h} - \\frac{b f^{(n)} h}{2 c_{2}}\\right)^{2}}{2}$"
      ],
      "text/plain": [
       "-(-sqrt(M)*q^{(n+1)}/c_2 - M*\\theta^{(n)}*sqrt(a)/(b*c_2*h) + M*\\theta^{(n+1)}*sqrt(a)/(b*c_2*h) + sqrt(a)*b*f^{(n+1)}*h/(2*c_2))**2/2 - (-sqrt(M)*sqrt(a)*q^{(n)}/c_2 - M*\\theta^{(n)}/(b*c_2*h) + M*\\theta^{(n+1)}/(b*c_2*h) - b*f^{(n)}*h/(2*c_2))**2/2"
      ]
     },
     "execution_count": 130,
     "metadata": {},
     "output_type": "execute_result"
    }
   ],
   "source": [
    "log_density1 = -Rational(1, 2)*(eps_def_alt**2 + eps__def_alt**2)\n",
    "log_density1"
   ]
  },
  {
   "cell_type": "code",
   "execution_count": 198,
   "metadata": {},
   "outputs": [
    {
     "data": {
      "text/latex": [
       "$\\displaystyle - \\frac{\\left(\\frac{\\sqrt{M} q^{(n)}}{c_{2}} + \\frac{M \\theta^{(n)} \\sqrt{a}}{b c_{2} h} - \\frac{M \\theta^{(n+1)} \\sqrt{a}}{b c_{2} h} + \\frac{\\sqrt{a} b f^{(n)} h}{2 c_{2}}\\right)^{2}}{2} - \\frac{\\left(\\frac{\\sqrt{M} \\sqrt{a} q^{(n+1)}}{c_{2}} + \\frac{M \\theta^{(n)}}{b c_{2} h} - \\frac{M \\theta^{(n+1)}}{b c_{2} h} - \\frac{b f^{(n+1)} h}{2 c_{2}}\\right)^{2}}{2}$"
      ],
      "text/plain": [
       "-(sqrt(M)*q^{(n)}/c_2 + M*\\theta^{(n)}*sqrt(a)/(b*c_2*h) - M*\\theta^{(n+1)}*sqrt(a)/(b*c_2*h) + sqrt(a)*b*f^{(n)}*h/(2*c_2))**2/2 - (sqrt(M)*sqrt(a)*q^{(n+1)}/c_2 + M*\\theta^{(n)}/(b*c_2*h) - M*\\theta^{(n+1)}/(b*c_2*h) - b*f^{(n+1)}*h/(2*c_2))**2/2"
      ]
     },
     "execution_count": 198,
     "metadata": {},
     "output_type": "execute_result"
    }
   ],
   "source": [
    "tmp = symbols('\\text{tmp}')\n",
    "log_density2 = (log_density1\n",
    "                .subs(f_n, tmp).subs(f_n1, f_n).subs(tmp, f_n1)\n",
    "                .subs(theta_n, tmp).subs(theta_n1, theta_n).subs(tmp, theta_n1)\n",
    "                .subs(q_n, tmp).subs(q_n1, -q_n).subs(tmp, -q_n1))\n",
    "log_density2"
   ]
  },
  {
   "cell_type": "code",
   "execution_count": 199,
   "metadata": {},
   "outputs": [],
   "source": [
    "x = simplify(simplify((log_density1 - log_density2)*T).subs(c_2**2, (1-a)*M*T))"
   ]
  },
  {
   "cell_type": "code",
   "execution_count": 200,
   "metadata": {},
   "outputs": [
    {
     "data": {
      "text/latex": [
       "$\\displaystyle - \\frac{\\theta^{(n)} f^{(n)}}{2} - \\frac{\\theta^{(n)} f^{(n+1)}}{2} + \\frac{\\theta^{(n+1)} f^{(n)}}{2} + \\frac{\\theta^{(n+1)} f^{(n+1)}}{2} + \\frac{\\left(q^{(n)}\\right)^{2}}{2} - \\frac{\\left(q^{(n+1)}\\right)^{2}}{2} - \\frac{b^{2} \\left(f^{(n)}\\right)^{2} h^{2}}{8 M} + \\frac{b^{2} \\left(f^{(n+1)}\\right)^{2} h^{2}}{8 M}$"
      ],
      "text/plain": [
       "-\\theta^{(n)}*f^{(n)}/2 - \\theta^{(n)}*f^{(n+1)}/2 + \\theta^{(n+1)}*f^{(n)}/2 + \\theta^{(n+1)}*f^{(n+1)}/2 + q^{(n)}**2/2 - q^{(n+1)}**2/2 - b**2*f^{(n)}**2*h**2/(8*M) + b**2*f^{(n+1)}**2*h**2/(8*M)"
      ]
     },
     "execution_count": 200,
     "metadata": {},
     "output_type": "execute_result"
    }
   ],
   "source": [
    "x"
   ]
  },
  {
   "cell_type": "code",
   "execution_count": null,
   "metadata": {},
   "outputs": [],
   "source": []
  }
 ],
 "metadata": {
  "kernelspec": {
   "display_name": "Python 3",
   "language": "python",
   "name": "python3"
  },
  "language_info": {
   "codemirror_mode": {
    "name": "ipython",
    "version": 3
   },
   "file_extension": ".py",
   "mimetype": "text/x-python",
   "name": "python",
   "nbconvert_exporter": "python",
   "pygments_lexer": "ipython3",
   "version": "3.7.7"
  }
 },
 "nbformat": 4,
 "nbformat_minor": 4
}
