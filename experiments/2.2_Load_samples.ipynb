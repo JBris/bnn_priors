{
 "cells": [
  {
   "cell_type": "code",
   "execution_count": 34,
   "metadata": {},
   "outputs": [],
   "source": [
    "import os\n",
    "import math\n",
    "import json\n",
    "\n",
    "import numpy as np\n",
    "import torch as t\n",
    "from pathlib import Path\n",
    "from pyro.infer.mcmc import NUTS, HMC\n",
    "from pyro.infer.mcmc.api import MCMC\n",
    "from sacred import Experiment\n",
    "from sacred.utils import apply_backspaces_and_linefeeds\n",
    "from sacred.observers import FileStorageObserver\n",
    "\n",
    "from bnn_priors.data import UCI, CIFAR10\n",
    "from bnn_priors.models import RaoBDenseNet, DenseNet, PreActResNet18, PreActResNet34\n",
    "from bnn_priors.prior import LogNormal\n",
    "from bnn_priors import prior\n",
    "from bnn_priors.inference import SGLDRunner"
   ]
  },
  {
   "cell_type": "code",
   "execution_count": 3,
   "metadata": {},
   "outputs": [],
   "source": [
    "ex = Experiment(\"bnn_evaluation\", interactive=True)"
   ]
  },
  {
   "cell_type": "code",
   "execution_count": 39,
   "metadata": {},
   "outputs": [],
   "source": [
    "config_file = \"../logs/10/config.json\""
   ]
  },
  {
   "cell_type": "code",
   "execution_count": 40,
   "metadata": {},
   "outputs": [],
   "source": [
    "ex.add_config(config_file)"
   ]
  },
  {
   "cell_type": "code",
   "execution_count": 41,
   "metadata": {},
   "outputs": [],
   "source": [
    "log_dir = os.path.dirname(config_file)\n",
    "\n",
    "eval_dir = os.path.join(log_dir, \"eval\")\n",
    "\n",
    "os.makedirs(eval_dir, exist_ok=True)"
   ]
  },
  {
   "cell_type": "code",
   "execution_count": 42,
   "metadata": {},
   "outputs": [],
   "source": [
    "runfile = os.path.join(log_dir, \"run.json\")\n",
    "\n",
    "with open(runfile) as infile:\n",
    "    run_data = json.load(infile)\n",
    "\n",
    "run_data[\"artifacts\"]\n",
    "\n",
    "assert \"samples.pt\" in run_data[\"artifacts\"], \"No samples found\"\n",
    "\n",
    "assert \"bn_params.pt\" in run_data[\"artifacts\"], \"No bn_params found\"\n",
    "\n",
    "samples = t.load(os.path.join(log_dir, \"samples.pt\"))\n",
    "\n",
    "bn_params = t.load(os.path.join(log_dir, \"bn_params.pt\"))"
   ]
  },
  {
   "cell_type": "code",
   "execution_count": 54,
   "metadata": {},
   "outputs": [
    {
     "data": {
      "text/plain": [
       "['__class__',\n",
       " '__delattr__',\n",
       " '__dict__',\n",
       " '__dir__',\n",
       " '__doc__',\n",
       " '__eq__',\n",
       " '__format__',\n",
       " '__ge__',\n",
       " '__getattribute__',\n",
       " '__gt__',\n",
       " '__hash__',\n",
       " '__init__',\n",
       " '__init_subclass__',\n",
       " '__le__',\n",
       " '__lt__',\n",
       " '__module__',\n",
       " '__ne__',\n",
       " '__new__',\n",
       " '__reduce__',\n",
       " '__reduce_ex__',\n",
       " '__repr__',\n",
       " '__setattr__',\n",
       " '__sizeof__',\n",
       " '__str__',\n",
       " '__subclasshook__',\n",
       " '__weakref__',\n",
       " '_add_named_config',\n",
       " '_check_command',\n",
       " '_create_config_dict',\n",
       " '_create_run',\n",
       " '_handle_help',\n",
       " '_is_traversing',\n",
       " 'add_artifact',\n",
       " 'add_config',\n",
       " 'add_named_config',\n",
       " 'add_package_dependency',\n",
       " 'add_resource',\n",
       " 'add_source_file',\n",
       " 'additional_cli_options',\n",
       " 'additional_host_info',\n",
       " 'all_cli_options',\n",
       " 'automain',\n",
       " 'base_dir',\n",
       " 'capture',\n",
       " 'captured_functions',\n",
       " 'captured_out_filter',\n",
       " 'command',\n",
       " 'commands',\n",
       " 'config',\n",
       " 'config_hook',\n",
       " 'config_hooks',\n",
       " 'configurations',\n",
       " 'current_run',\n",
       " 'default_command',\n",
       " 'dependencies',\n",
       " 'doc',\n",
       " 'gather_commands',\n",
       " 'gather_named_configs',\n",
       " 'get_default_options',\n",
       " 'get_experiment_info',\n",
       " 'get_usage',\n",
       " 'info',\n",
       " 'ingredients',\n",
       " 'log_scalar',\n",
       " 'logger',\n",
       " 'main',\n",
       " 'mainfile',\n",
       " 'named_config',\n",
       " 'named_configs',\n",
       " 'observers',\n",
       " 'open_resource',\n",
       " 'option_hook',\n",
       " 'option_hooks',\n",
       " 'path',\n",
       " 'post_process_name',\n",
       " 'post_run_hook',\n",
       " 'post_run_hooks',\n",
       " 'pre_run_hook',\n",
       " 'pre_run_hooks',\n",
       " 'run',\n",
       " 'run_commandline',\n",
       " 'save_git_info',\n",
       " 'sources',\n",
       " 'traverse_ingredients']"
      ]
     },
     "execution_count": 54,
     "metadata": {},
     "output_type": "execute_result"
    }
   ],
   "source": [
    "dir(ex)"
   ]
  },
  {
   "cell_type": "code",
   "execution_count": 60,
   "metadata": {},
   "outputs": [
    {
     "data": {
      "text/plain": [
       "{'batch_size': None,\n",
       " 'batchnorm': True,\n",
       " 'bias_loc': 0.0,\n",
       " 'bias_prior': 'gaussian',\n",
       " 'bias_scale': 1.0,\n",
       " 'burnin': 10,\n",
       " 'cycles': 1,\n",
       " 'data': 'UCI_boston',\n",
       " 'device': 'try_cuda',\n",
       " 'inference': 'SGLD',\n",
       " 'lr': 0.0005,\n",
       " 'model': 'densenet',\n",
       " 'momentum': 0.9,\n",
       " 'n_samples': 5,\n",
       " 'precond_update': None,\n",
       " 'save_samples': True,\n",
       " 'seed': 155011633,\n",
       " 'skip': 1,\n",
       " 'temperature': 1.0,\n",
       " 'warmup': 10,\n",
       " 'weight_loc': 0.0,\n",
       " 'weight_prior': 'gaussian',\n",
       " 'weight_scale': 1.4142135623730951,\n",
       " 'width': 50}"
      ]
     },
     "execution_count": 60,
     "metadata": {},
     "output_type": "execute_result"
    }
   ],
   "source": [
    "ex.configurations[2]._conf"
   ]
  },
  {
   "cell_type": "code",
   "execution_count": null,
   "metadata": {},
   "outputs": [],
   "source": []
  }
 ],
 "metadata": {
  "kernelspec": {
   "display_name": "Python 3",
   "language": "python",
   "name": "python3"
  },
  "language_info": {
   "codemirror_mode": {
    "name": "ipython",
    "version": 3
   },
   "file_extension": ".py",
   "mimetype": "text/x-python",
   "name": "python",
   "nbconvert_exporter": "python",
   "pygments_lexer": "ipython3",
   "version": "3.7.7"
  }
 },
 "nbformat": 4,
 "nbformat_minor": 4
}
