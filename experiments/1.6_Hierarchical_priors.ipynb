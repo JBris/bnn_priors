{
 "cells": [
  {
   "cell_type": "code",
   "execution_count": 1,
   "metadata": {},
   "outputs": [],
   "source": [
    "import torch\n",
    "import torch.distributions as td\n",
    "from gpytorch.utils.transforms import inv_softplus\n",
    "import numpy as np\n",
    "\n",
    "from bnn_priors.models import DenseNet\n",
    "from bnn_priors.prior import Prior, LocScale, Normal, Gamma, Uniform, Laplace"
   ]
  },
  {
   "cell_type": "code",
   "execution_count": 2,
   "metadata": {},
   "outputs": [],
   "source": [
    "from bnn_priors.prior import NormalGamma"
   ]
  },
  {
   "cell_type": "markdown",
   "metadata": {},
   "source": [
    "## Debug priors on CUDA"
   ]
  },
  {
   "cell_type": "code",
   "execution_count": 3,
   "metadata": {},
   "outputs": [],
   "source": [
    "torch.random.manual_seed(1337)\n",
    "\n",
    "prior_n = Normal([2,3], 0., 1.)\n",
    "prior_l = Laplace([2,3], 0., 1.)\n",
    "prior_g = Gamma([2,3], 1., 1.)\n",
    "prior_u = Uniform([2,3], 0., 1.)"
   ]
  },
  {
   "cell_type": "code",
   "execution_count": 4,
   "metadata": {},
   "outputs": [
    {
     "name": "stdout",
     "output_type": "stream",
     "text": [
      "tensor(-11.9458, grad_fn=<SumBackward0>)\n",
      "tensor(-9.9780, grad_fn=<SumBackward0>)\n",
      "tensor(-6.4006, grad_fn=<SumBackward0>)\n",
      "-0.0\n"
     ]
    }
   ],
   "source": [
    "print(prior_n.log_prob())\n",
    "print(prior_l.log_prob())\n",
    "print(prior_g.log_prob())\n",
    "print(prior_u.log_prob())"
   ]
  },
  {
   "cell_type": "code",
   "execution_count": 5,
   "metadata": {},
   "outputs": [],
   "source": [
    "prior_n.cuda();\n",
    "prior_l.cuda();\n",
    "prior_g.cuda();\n",
    "prior_u.cuda();"
   ]
  },
  {
   "cell_type": "code",
   "execution_count": 6,
   "metadata": {},
   "outputs": [
    {
     "name": "stdout",
     "output_type": "stream",
     "text": [
      "tensor(-11.9458, device='cuda:0', grad_fn=<SumBackward0>)\n",
      "tensor(-9.9780, device='cuda:0', grad_fn=<SumBackward0>)\n",
      "tensor(-6.4006, grad_fn=<SumBackward0>)\n",
      "-0.0\n"
     ]
    }
   ],
   "source": [
    "print(prior_n.log_prob())\n",
    "print(prior_l.log_prob())\n",
    "print(prior_g.log_prob())\n",
    "print(prior_u.log_prob())"
   ]
  },
  {
   "cell_type": "markdown",
   "metadata": {},
   "source": [
    "Doesn't work for the Gamma prior..."
   ]
  },
  {
   "cell_type": "markdown",
   "metadata": {},
   "source": [
    "## NormalGamma prior"
   ]
  },
  {
   "cell_type": "code",
   "execution_count": 7,
   "metadata": {},
   "outputs": [],
   "source": [
    "# class NormalGamma(Normal):\n",
    "#     def __init__(self, shape, loc, scale, rate=1., gradient_scaling=0.001):\n",
    "#         scale_prior = Gamma(shape=[], concentration=scale, rate=rate)\n",
    "#         super().__init__(shape, loc, scale_prior)\n",
    "#         self.scale.p.register_hook(self.hook)\n",
    "#         self.gradient_scaling = gradient_scaling\n",
    "        \n",
    "#     def log_prob(self):\n",
    "#         return super().log_prob() + self.scale.log_prob()\n",
    "    \n",
    "#     def hook(self, grad):\n",
    "#         return grad*self.gradient_scaling"
   ]
  },
  {
   "cell_type": "markdown",
   "metadata": {},
   "source": [
    "## Horseshoe prior"
   ]
  },
  {
   "cell_type": "code",
   "execution_count": 78,
   "metadata": {},
   "outputs": [],
   "source": [
    "class HalfCauchy(Prior):\n",
    "    _dist = td.HalfCauchy\n",
    "    def __init__(self, shape, scale=1., multiplyer=1.):\n",
    "        super().__init__(shape, scale)\n",
    "        self.multiplyer = multiplyer\n",
    "\n",
    "    def _sample_value(self, shape: torch.Size):\n",
    "        x = super()._sample_value(shape)\n",
    "        return inv_softplus(x)\n",
    "\n",
    "    def forward(self):\n",
    "        return torch.nn.functional.softplus(self.p) * self.multiplyer\n",
    "\n",
    "    def log_prob(self):\n",
    "        return self._dist_obj().log_prob(self()).sum()"
   ]
  },
  {
   "cell_type": "code",
   "execution_count": 79,
   "metadata": {},
   "outputs": [],
   "source": [
    "class Horseshoe(Normal):\n",
    "    def __init__(self, shape, loc, scale, hyperscale=1., gradient_clip=1.):\n",
    "        scale_prior = HalfCauchy(shape=[], scale=hyperscale, multiplyer=scale)\n",
    "        with torch.no_grad():\n",
    "            scale_prior.p.data = inv_softplus(torch.tensor(1.))\n",
    "        super().__init__(shape, loc, scale_prior)\n",
    "        self.scale.p.register_hook(self.hook)\n",
    "        self.clip = gradient_clip\n",
    "        \n",
    "    def log_prob(self):\n",
    "        # TODO: it seems like the log prob is too high compared to the other loss terms...\n",
    "        return super().log_prob() + self.scale.log_prob()\n",
    "    \n",
    "    def hook(self, grad):\n",
    "        # TODO: This somehow affects the downstream gradients of the parameters, which it shouldn't\n",
    "        # It should only affect the actual scale.p parameter\n",
    "        return torch.clamp(grad, -self.clip, self.clip)"
   ]
  },
  {
   "cell_type": "code",
   "execution_count": 80,
   "metadata": {},
   "outputs": [],
   "source": [
    "prior_hs = Horseshoe([2,3], 0., 1.)"
   ]
  },
  {
   "cell_type": "code",
   "execution_count": 87,
   "metadata": {},
   "outputs": [
    {
     "data": {
      "text/plain": [
       "tensor(-10.5488, grad_fn=<AddBackward0>)"
      ]
     },
     "execution_count": 87,
     "metadata": {},
     "output_type": "execute_result"
    }
   ],
   "source": [
    "prior_hs.log_prob()"
   ]
  },
  {
   "cell_type": "code",
   "execution_count": 88,
   "metadata": {},
   "outputs": [
    {
     "data": {
      "text/plain": [
       "Horseshoe(\n",
       "  (scale): HalfCauchy()\n",
       ")"
      ]
     },
     "execution_count": 88,
     "metadata": {},
     "output_type": "execute_result"
    }
   ],
   "source": [
    "prior_hs.cuda()"
   ]
  },
  {
   "cell_type": "code",
   "execution_count": 90,
   "metadata": {},
   "outputs": [
    {
     "data": {
      "text/plain": [
       "tensor(-10.5488, device='cuda:0', grad_fn=<AddBackward0>)"
      ]
     },
     "execution_count": 90,
     "metadata": {},
     "output_type": "execute_result"
    }
   ],
   "source": [
    "prior_hs.log_prob()"
   ]
  },
  {
   "cell_type": "code",
   "execution_count": 91,
   "metadata": {},
   "outputs": [
    {
     "data": {
      "text/plain": [
       "tensor(-1.1447, grad_fn=<SumBackward0>)"
      ]
     },
     "execution_count": 91,
     "metadata": {},
     "output_type": "execute_result"
    }
   ],
   "source": [
    "prior_hs.scale.log_prob()"
   ]
  },
  {
   "cell_type": "markdown",
   "metadata": {},
   "source": [
    "## Test hierarchical priors"
   ]
  },
  {
   "cell_type": "code",
   "execution_count": 8,
   "metadata": {},
   "outputs": [],
   "source": [
    "torch.random.manual_seed(1337)\n",
    "\n",
    "prior_n = Normal([12,10], 0., 1.)\n",
    "prior_ng = NormalGamma([12,10], 0., 1.)"
   ]
  },
  {
   "cell_type": "code",
   "execution_count": 9,
   "metadata": {},
   "outputs": [
    {
     "data": {
      "text/plain": [
       "tensor(-170.5845, grad_fn=<SumBackward0>)"
      ]
     },
     "execution_count": 9,
     "metadata": {},
     "output_type": "execute_result"
    }
   ],
   "source": [
    "prior_n.log_prob()"
   ]
  },
  {
   "cell_type": "code",
   "execution_count": 10,
   "metadata": {},
   "outputs": [
    {
     "data": {
      "text/plain": [
       "tensor(-176.1476, grad_fn=<AddBackward0>)"
      ]
     },
     "execution_count": 10,
     "metadata": {},
     "output_type": "execute_result"
    }
   ],
   "source": [
    "prior_ng.log_prob()"
   ]
  },
  {
   "cell_type": "code",
   "execution_count": 11,
   "metadata": {},
   "outputs": [],
   "source": [
    "prior_ng.scale.p.grad"
   ]
  },
  {
   "cell_type": "code",
   "execution_count": 12,
   "metadata": {},
   "outputs": [],
   "source": [
    "prior_ng.log_prob().backward()"
   ]
  },
  {
   "cell_type": "code",
   "execution_count": 13,
   "metadata": {},
   "outputs": [
    {
     "data": {
      "text/plain": [
       "tensor(1.)"
      ]
     },
     "execution_count": 13,
     "metadata": {},
     "output_type": "execute_result"
    }
   ],
   "source": [
    "prior_ng.scale.p.grad"
   ]
  },
  {
   "cell_type": "code",
   "execution_count": 14,
   "metadata": {},
   "outputs": [
    {
     "data": {
      "text/plain": [
       "torch.Size([12, 10])"
      ]
     },
     "execution_count": 14,
     "metadata": {},
     "output_type": "execute_result"
    }
   ],
   "source": [
    "prior_n.p.shape"
   ]
  },
  {
   "cell_type": "code",
   "execution_count": 15,
   "metadata": {},
   "outputs": [
    {
     "data": {
      "text/plain": [
       "torch.Size([12, 10])"
      ]
     },
     "execution_count": 15,
     "metadata": {},
     "output_type": "execute_result"
    }
   ],
   "source": [
    "prior_ng.p.shape"
   ]
  },
  {
   "cell_type": "code",
   "execution_count": 16,
   "metadata": {},
   "outputs": [
    {
     "data": {
      "text/plain": [
       "Parameter containing:\n",
       "tensor(0.5413, requires_grad=True)"
      ]
     },
     "execution_count": 16,
     "metadata": {},
     "output_type": "execute_result"
    }
   ],
   "source": [
    "prior_ng.scale.p"
   ]
  },
  {
   "cell_type": "code",
   "execution_count": 17,
   "metadata": {},
   "outputs": [],
   "source": [
    "model = DenseNet(32, 10, 50, prior_w=Normal)"
   ]
  },
  {
   "cell_type": "code",
   "execution_count": 18,
   "metadata": {},
   "outputs": [
    {
     "data": {
      "text/plain": [
       "tensor(364.1306, grad_fn=<AddBackward0>)"
      ]
     },
     "execution_count": 18,
     "metadata": {},
     "output_type": "execute_result"
    }
   ],
   "source": [
    "model.log_prior()"
   ]
  },
  {
   "cell_type": "code",
   "execution_count": 19,
   "metadata": {},
   "outputs": [
    {
     "data": {
      "text/plain": [
       "tensor([[ 2.1409,  0.1275, -0.7249,  1.2202, -0.8064, -3.7940, -2.1093,  2.6775,\n",
       "          0.3134, -0.4981],\n",
       "        [ 3.4943,  0.0230, -1.6881,  1.2467, -0.3613, -0.2536, -1.3516, -0.0400,\n",
       "          0.4567, -1.9111],\n",
       "        [ 0.6680,  1.5745,  2.3277,  2.6311, -0.7459, -4.7640, -0.7433,  1.1683,\n",
       "          1.6391, -0.9630],\n",
       "        [ 0.9653,  0.7864,  1.8622,  2.1716, -1.0020, -4.4027,  1.5087,  0.6254,\n",
       "          2.7809,  0.2992]], grad_fn=<AddmmBackward>)"
      ]
     },
     "execution_count": 19,
     "metadata": {},
     "output_type": "execute_result"
    }
   ],
   "source": [
    "model(torch.randn([4,32])).mean"
   ]
  },
  {
   "cell_type": "code",
   "execution_count": 20,
   "metadata": {},
   "outputs": [
    {
     "data": {
      "text/plain": [
       "Parameter containing:\n",
       "tensor([[-0.1778,  0.2452,  0.3774,  ...,  0.1315, -0.2403,  0.3801],\n",
       "        [ 0.2772, -0.4970,  0.4337,  ..., -0.4379, -0.1111,  0.2818],\n",
       "        [-0.5138, -0.1108,  0.3719,  ..., -0.0855, -0.2493,  0.0977],\n",
       "        ...,\n",
       "        [ 0.0446, -0.2535,  0.6553,  ..., -0.0486,  0.4600, -0.0555],\n",
       "        [-0.2814,  0.2355,  0.2276,  ...,  0.2829,  0.0587,  0.3589],\n",
       "        [ 0.1625, -0.0182,  0.5648,  ..., -0.0262,  0.1577,  0.4172]],\n",
       "       requires_grad=True)"
      ]
     },
     "execution_count": 20,
     "metadata": {},
     "output_type": "execute_result"
    }
   ],
   "source": [
    "model.net[0].weight_prior.p"
   ]
  },
  {
   "cell_type": "code",
   "execution_count": 21,
   "metadata": {},
   "outputs": [],
   "source": [
    "model.log_prior().backward()"
   ]
  },
  {
   "cell_type": "code",
   "execution_count": 22,
   "metadata": {},
   "outputs": [],
   "source": [
    "model = DenseNet(32, 10, 50, prior_w=NormalGamma)"
   ]
  },
  {
   "cell_type": "code",
   "execution_count": 23,
   "metadata": {},
   "outputs": [
    {
     "data": {
      "text/plain": [
       "tensor(311.8788, grad_fn=<AddBackward0>)"
      ]
     },
     "execution_count": 23,
     "metadata": {},
     "output_type": "execute_result"
    }
   ],
   "source": [
    "model.log_prior()"
   ]
  },
  {
   "cell_type": "code",
   "execution_count": 24,
   "metadata": {},
   "outputs": [
    {
     "data": {
      "text/plain": [
       "tensor([[-3.7128, -0.0110,  1.3462, -2.3352,  0.2479, -3.1084,  0.1465,  1.3793,\n",
       "         -0.3899,  1.1232],\n",
       "        [-3.1499,  2.5128,  2.5549, -0.0200, -1.5431, -3.4215,  0.1247,  0.5477,\n",
       "         -0.8605,  0.8787],\n",
       "        [-3.7309,  0.5399,  1.8505, -1.3321, -0.6675,  0.1075,  1.9791,  0.1731,\n",
       "         -1.0120,  0.3939],\n",
       "        [-1.4584,  3.0402,  3.1238, -0.1705, -0.9159, -3.5089, -1.3441, -0.6013,\n",
       "          0.5770,  0.0358]], grad_fn=<AddmmBackward>)"
      ]
     },
     "execution_count": 24,
     "metadata": {},
     "output_type": "execute_result"
    }
   ],
   "source": [
    "model(torch.randn([4,32])).mean"
   ]
  },
  {
   "cell_type": "code",
   "execution_count": 25,
   "metadata": {},
   "outputs": [
    {
     "data": {
      "text/plain": [
       "Parameter containing:\n",
       "tensor([[-0.0391, -0.0748,  0.4394,  ...,  0.0997, -0.2732, -0.4596],\n",
       "        [ 0.1924, -0.4597,  0.6601,  ...,  0.2342,  0.0754, -0.1371],\n",
       "        [-0.2355,  0.1034,  0.2625,  ...,  0.1294, -0.4172,  0.3931],\n",
       "        ...,\n",
       "        [ 0.5610, -0.2617,  0.1028,  ..., -0.0586, -0.5406, -0.1236],\n",
       "        [ 0.1791, -0.2281,  0.2730,  ...,  0.0107,  0.4770,  0.1286],\n",
       "        [ 0.0903, -0.2282,  0.1181,  ...,  0.1988,  0.1022, -0.1525]],\n",
       "       requires_grad=True)"
      ]
     },
     "execution_count": 25,
     "metadata": {},
     "output_type": "execute_result"
    }
   ],
   "source": [
    "model.net[0].weight_prior.p"
   ]
  },
  {
   "cell_type": "code",
   "execution_count": 26,
   "metadata": {},
   "outputs": [],
   "source": [
    "model.log_prior().backward()"
   ]
  },
  {
   "cell_type": "code",
   "execution_count": null,
   "metadata": {},
   "outputs": [],
   "source": []
  },
  {
   "cell_type": "code",
   "execution_count": null,
   "metadata": {},
   "outputs": [],
   "source": []
  },
  {
   "cell_type": "code",
   "execution_count": null,
   "metadata": {},
   "outputs": [],
   "source": []
  },
  {
   "cell_type": "code",
   "execution_count": 27,
   "metadata": {},
   "outputs": [
    {
     "data": {
      "text/plain": [
       "RegressionModel(\n",
       "  (net): Sequential(\n",
       "    (0): Linear(\n",
       "      in_features=32, out_features=50, bias=True\n",
       "      (weight_prior): NormalGamma(\n",
       "        (scale): Gamma()\n",
       "      )\n",
       "      (bias_prior): Normal()\n",
       "    )\n",
       "    (1): ReLU()\n",
       "    (2): Linear(\n",
       "      in_features=50, out_features=50, bias=True\n",
       "      (weight_prior): NormalGamma(\n",
       "        (scale): Gamma()\n",
       "      )\n",
       "      (bias_prior): Normal()\n",
       "    )\n",
       "    (3): ReLU()\n",
       "    (4): Linear(\n",
       "      in_features=50, out_features=10, bias=True\n",
       "      (weight_prior): NormalGamma(\n",
       "        (scale): Gamma()\n",
       "      )\n",
       "      (bias_prior): Normal()\n",
       "    )\n",
       "  )\n",
       ")"
      ]
     },
     "execution_count": 27,
     "metadata": {},
     "output_type": "execute_result"
    }
   ],
   "source": [
    "model.cuda()"
   ]
  },
  {
   "cell_type": "code",
   "execution_count": 28,
   "metadata": {},
   "outputs": [
    {
     "data": {
      "text/plain": [
       "Parameter containing:\n",
       "tensor([[-0.0391, -0.0748,  0.4394,  ...,  0.0997, -0.2732, -0.4596],\n",
       "        [ 0.1924, -0.4597,  0.6601,  ...,  0.2342,  0.0754, -0.1371],\n",
       "        [-0.2355,  0.1034,  0.2625,  ...,  0.1294, -0.4172,  0.3931],\n",
       "        ...,\n",
       "        [ 0.5610, -0.2617,  0.1028,  ..., -0.0586, -0.5406, -0.1236],\n",
       "        [ 0.1791, -0.2281,  0.2730,  ...,  0.0107,  0.4770,  0.1286],\n",
       "        [ 0.0903, -0.2282,  0.1181,  ...,  0.1988,  0.1022, -0.1525]],\n",
       "       device='cuda:0', requires_grad=True)"
      ]
     },
     "execution_count": 28,
     "metadata": {},
     "output_type": "execute_result"
    }
   ],
   "source": [
    "model.net[0].weight_prior.p"
   ]
  },
  {
   "cell_type": "code",
   "execution_count": 29,
   "metadata": {},
   "outputs": [
    {
     "data": {
      "text/plain": [
       "Parameter containing:\n",
       "tensor(-1.2587, device='cuda:0', requires_grad=True)"
      ]
     },
     "execution_count": 29,
     "metadata": {},
     "output_type": "execute_result"
    }
   ],
   "source": [
    "model.net[0].weight_prior.scale.p"
   ]
  },
  {
   "cell_type": "code",
   "execution_count": 30,
   "metadata": {},
   "outputs": [
    {
     "data": {
      "text/plain": [
       "tensor(0.2500, device='cuda:0', grad_fn=<SoftplusBackward>)"
      ]
     },
     "execution_count": 30,
     "metadata": {},
     "output_type": "execute_result"
    }
   ],
   "source": [
    "model.net[0].weight_prior.scale()"
   ]
  },
  {
   "cell_type": "code",
   "execution_count": 31,
   "metadata": {},
   "outputs": [
    {
     "data": {
      "text/plain": [
       "tensor(311.8788, device='cuda:0', grad_fn=<AddBackward0>)"
      ]
     },
     "execution_count": 31,
     "metadata": {},
     "output_type": "execute_result"
    }
   ],
   "source": [
    "model.log_prior()"
   ]
  },
  {
   "cell_type": "code",
   "execution_count": 32,
   "metadata": {},
   "outputs": [
    {
     "data": {
      "text/plain": [
       "tensor(-111.6239, device='cuda:0', grad_fn=<AddBackward0>)"
      ]
     },
     "execution_count": 32,
     "metadata": {},
     "output_type": "execute_result"
    }
   ],
   "source": [
    "model.net[0].weight_prior.log_prob()"
   ]
  },
  {
   "cell_type": "code",
   "execution_count": 33,
   "metadata": {},
   "outputs": [
    {
     "data": {
      "text/plain": [
       "tensor(-0.4983, grad_fn=<SumBackward0>)"
      ]
     },
     "execution_count": 33,
     "metadata": {},
     "output_type": "execute_result"
    }
   ],
   "source": [
    "model.net[0].weight_prior.scale.log_prob()"
   ]
  },
  {
   "cell_type": "code",
   "execution_count": 34,
   "metadata": {},
   "outputs": [
    {
     "data": {
      "text/plain": [
       "tensor(0., device='cuda:0')"
      ]
     },
     "execution_count": 34,
     "metadata": {},
     "output_type": "execute_result"
    }
   ],
   "source": [
    "model.net[0].weight_prior._dist_obj().mean"
   ]
  },
  {
   "cell_type": "code",
   "execution_count": 35,
   "metadata": {},
   "outputs": [
    {
     "data": {
      "text/plain": [
       "tensor(0.2500)"
      ]
     },
     "execution_count": 35,
     "metadata": {},
     "output_type": "execute_result"
    }
   ],
   "source": [
    "model.net[0].weight_prior.scale._dist_obj().mean"
   ]
  },
  {
   "cell_type": "code",
   "execution_count": null,
   "metadata": {},
   "outputs": [],
   "source": []
  },
  {
   "cell_type": "code",
   "execution_count": 36,
   "metadata": {},
   "outputs": [],
   "source": [
    "torch.random.manual_seed(1337)\n",
    "\n",
    "prior_n = Normal([12,10], 0., 1.)\n",
    "prior_ng = NormalGamma([12,10], 0., 1.)"
   ]
  },
  {
   "cell_type": "code",
   "execution_count": 37,
   "metadata": {},
   "outputs": [
    {
     "data": {
      "text/plain": [
       "tensor(0.)"
      ]
     },
     "execution_count": 37,
     "metadata": {},
     "output_type": "execute_result"
    }
   ],
   "source": [
    "prior_n._dist_obj().mean"
   ]
  },
  {
   "cell_type": "code",
   "execution_count": 38,
   "metadata": {},
   "outputs": [
    {
     "data": {
      "text/plain": [
       "tensor(0.)"
      ]
     },
     "execution_count": 38,
     "metadata": {},
     "output_type": "execute_result"
    }
   ],
   "source": [
    "prior_ng._dist_obj().mean"
   ]
  },
  {
   "cell_type": "code",
   "execution_count": 39,
   "metadata": {},
   "outputs": [
    {
     "data": {
      "text/plain": [
       "NormalGamma(\n",
       "  (scale): Gamma()\n",
       ")"
      ]
     },
     "execution_count": 39,
     "metadata": {},
     "output_type": "execute_result"
    }
   ],
   "source": [
    "prior_n.cuda()\n",
    "prior_ng.cuda()"
   ]
  },
  {
   "cell_type": "code",
   "execution_count": 40,
   "metadata": {},
   "outputs": [
    {
     "data": {
      "text/plain": [
       "tensor(-170.5846, device='cuda:0', grad_fn=<SumBackward0>)"
      ]
     },
     "execution_count": 40,
     "metadata": {},
     "output_type": "execute_result"
    }
   ],
   "source": [
    "prior_n.log_prob()"
   ]
  },
  {
   "cell_type": "code",
   "execution_count": 41,
   "metadata": {},
   "outputs": [
    {
     "data": {
      "text/plain": [
       "tensor(-176.1476, device='cuda:0', grad_fn=<AddBackward0>)"
      ]
     },
     "execution_count": 41,
     "metadata": {},
     "output_type": "execute_result"
    }
   ],
   "source": [
    "prior_ng.log_prob()"
   ]
  },
  {
   "cell_type": "code",
   "execution_count": 42,
   "metadata": {},
   "outputs": [
    {
     "data": {
      "text/plain": [
       "tensor(-1., grad_fn=<SumBackward0>)"
      ]
     },
     "execution_count": 42,
     "metadata": {},
     "output_type": "execute_result"
    }
   ],
   "source": [
    "prior_ng.scale.log_prob()"
   ]
  },
  {
   "cell_type": "code",
   "execution_count": 43,
   "metadata": {},
   "outputs": [
    {
     "data": {
      "text/plain": [
       "[Parameter containing:\n",
       " tensor([[ 0.1808, -0.0700, -0.3596, -0.9152,  0.6258,  0.0255,  0.9545,  0.0643,\n",
       "           0.3612,  1.1679],\n",
       "         [-1.3499, -0.5102,  0.2360, -0.2398, -0.9211,  1.5433,  1.3488, -0.1396,\n",
       "           0.2858,  0.9651],\n",
       "         [-2.0371,  0.4931,  1.4870,  0.5910,  0.1260, -1.5627, -1.1601, -0.3348,\n",
       "           0.4478, -0.8016],\n",
       "         [ 1.5236,  2.5086, -0.6631, -0.2513,  1.0101,  0.1215,  0.1584,  1.1340,\n",
       "          -1.1539, -0.2984],\n",
       "         [-0.5075, -0.9239,  0.5467, -1.4948, -1.2057,  0.5718, -0.5974, -0.6937,\n",
       "           1.6455, -0.8030],\n",
       "         [ 1.3514, -0.2759, -1.5108,  2.1048,  2.7630, -1.7465,  1.4516, -1.5103,\n",
       "           0.8212, -0.2115],\n",
       "         [ 0.7789,  1.5333,  1.6097, -0.4032, -0.8345,  0.5978, -0.0514, -0.0646,\n",
       "          -0.4970,  0.4658],\n",
       "         [-0.2573, -1.0673,  2.0089, -0.5370,  0.2228,  0.6971, -1.4267,  0.9059,\n",
       "           0.1446,  0.2280],\n",
       "         [ 2.4900, -1.2237,  1.0107,  0.5560, -1.5935, -1.2706,  0.6903, -0.1961,\n",
       "           0.3449, -0.3419],\n",
       "         [ 0.4759, -0.7663, -0.4190, -0.4370, -1.0012, -0.4094, -1.6669, -1.3651,\n",
       "          -0.1655,  0.9623],\n",
       "         [ 0.0315, -0.7419, -0.2978,  0.0172,  0.5873,  0.2861,  0.0083, -0.2523,\n",
       "          -1.3247,  0.1892],\n",
       "         [ 0.0211,  0.9404, -0.5577, -0.6939, -0.3252,  1.2439, -1.1672, -0.4091,\n",
       "           1.2601, -1.5630]], device='cuda:0', requires_grad=True)]"
      ]
     },
     "execution_count": 43,
     "metadata": {},
     "output_type": "execute_result"
    }
   ],
   "source": [
    "list(prior_n.parameters())"
   ]
  },
  {
   "cell_type": "code",
   "execution_count": 44,
   "metadata": {},
   "outputs": [
    {
     "data": {
      "text/plain": [
       "[Gamma()]"
      ]
     },
     "execution_count": 44,
     "metadata": {},
     "output_type": "execute_result"
    }
   ],
   "source": [
    "list(prior_ng.children())"
   ]
  },
  {
   "cell_type": "code",
   "execution_count": 45,
   "metadata": {},
   "outputs": [],
   "source": [
    "prior_g = Gamma([12,10], concentration=1., rate=1.)"
   ]
  },
  {
   "cell_type": "code",
   "execution_count": 46,
   "metadata": {},
   "outputs": [
    {
     "data": {
      "text/plain": [
       "tensor(-109.7370, grad_fn=<SumBackward0>)"
      ]
     },
     "execution_count": 46,
     "metadata": {},
     "output_type": "execute_result"
    }
   ],
   "source": [
    "prior_g.log_prob()"
   ]
  },
  {
   "cell_type": "code",
   "execution_count": 47,
   "metadata": {},
   "outputs": [
    {
     "data": {
      "text/plain": [
       "Gamma()"
      ]
     },
     "execution_count": 47,
     "metadata": {},
     "output_type": "execute_result"
    }
   ],
   "source": [
    "prior_g.cuda()"
   ]
  },
  {
   "cell_type": "code",
   "execution_count": 48,
   "metadata": {},
   "outputs": [
    {
     "data": {
      "text/plain": [
       "tensor(-109.7370, grad_fn=<SumBackward0>)"
      ]
     },
     "execution_count": 48,
     "metadata": {},
     "output_type": "execute_result"
    }
   ],
   "source": [
    "prior_g.log_prob()"
   ]
  },
  {
   "cell_type": "code",
   "execution_count": 49,
   "metadata": {},
   "outputs": [],
   "source": [
    "prior_u = Uniform([12,10], low=0., high=1.)"
   ]
  },
  {
   "cell_type": "code",
   "execution_count": 50,
   "metadata": {},
   "outputs": [
    {
     "data": {
      "text/plain": [
       "-0.0"
      ]
     },
     "execution_count": 50,
     "metadata": {},
     "output_type": "execute_result"
    }
   ],
   "source": [
    "prior_u.log_prob()"
   ]
  },
  {
   "cell_type": "code",
   "execution_count": 51,
   "metadata": {},
   "outputs": [
    {
     "data": {
      "text/plain": [
       "Uniform()"
      ]
     },
     "execution_count": 51,
     "metadata": {},
     "output_type": "execute_result"
    }
   ],
   "source": [
    "prior_u.cuda()"
   ]
  },
  {
   "cell_type": "code",
   "execution_count": 52,
   "metadata": {},
   "outputs": [
    {
     "data": {
      "text/plain": [
       "-0.0"
      ]
     },
     "execution_count": 52,
     "metadata": {},
     "output_type": "execute_result"
    }
   ],
   "source": [
    "prior_u.log_prob()"
   ]
  },
  {
   "cell_type": "code",
   "execution_count": null,
   "metadata": {},
   "outputs": [],
   "source": []
  }
 ],
 "metadata": {
  "kernelspec": {
   "display_name": "Python 3",
   "language": "python",
   "name": "python3"
  },
  "language_info": {
   "codemirror_mode": {
    "name": "ipython",
    "version": 3
   },
   "file_extension": ".py",
   "mimetype": "text/x-python",
   "name": "python",
   "nbconvert_exporter": "python",
   "pygments_lexer": "ipython3",
   "version": "3.7.7"
  }
 },
 "nbformat": 4,
 "nbformat_minor": 4
}
