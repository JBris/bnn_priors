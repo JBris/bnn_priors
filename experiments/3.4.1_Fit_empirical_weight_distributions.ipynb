{
 "cells": [
  {
   "cell_type": "code",
   "execution_count": 11,
   "metadata": {},
   "outputs": [],
   "source": [
    "import os\n",
    "from glob import glob\n",
    "import pandas as pd\n",
    "import numpy as np\n",
    "from scipy import stats\n",
    "from matplotlib import pyplot as plt\n",
    "from matplotlib.colors import Normalize\n",
    "from matplotlib.backends.backend_pdf import PdfPages\n",
    "from matplotlib import gridspec\n",
    "import json\n",
    "import torch\n",
    "import gpytorch\n",
    "import h5py\n",
    "import collections\n",
    "import scipy\n",
    "import torch\n",
    "import math\n",
    "import seaborn as sns\n",
    "\n",
    "from bnn_priors import prior\n",
    "\n",
    "from bnn_priors.exp_utils import load_samples\n",
    "\n",
    "%matplotlib inline\n",
    "%config InlineBackend.print_figure_kwargs = {'bbox_inches':None}"
   ]
  },
  {
   "cell_type": "code",
   "execution_count": 2,
   "metadata": {
    "scrolled": true
   },
   "outputs": [],
   "source": [
    "if False:\n",
    "    from bnn_priors.exp_utils import get_model\n",
    "\n",
    "    model = get_model(torch.zeros((1, 28**2)), torch.zeros((1,), dtype=torch.int64)+9,\n",
    "                  \"datadrivendoublegammaconv\", 64, 3, \"datadrivencorrdoublegamma\", 0,\n",
    "                 0, \"datadrivencorrdoublegamma\", 0, 0, True,\n",
    "                 {}, {})\n"
   ]
  },
  {
   "cell_type": "code",
   "execution_count": 3,
   "metadata": {},
   "outputs": [],
   "source": [
    "if False:\n",
    "\n",
    "    sd = []\n",
    "    for i in range(11):\n",
    "        model.sample_all_priors()\n",
    "        sd.append(model.state_dict())"
   ]
  },
  {
   "cell_type": "code",
   "execution_count": 4,
   "metadata": {},
   "outputs": [],
   "source": [
    "if False:\n",
    "\n",
    "    prior_samples = {}\n",
    "    for k in param_keys:\n",
    "        l = []\n",
    "        for s in sd:\n",
    "            l.append(s[k])\n",
    "        prior_samples[k] = torch.stack(l).numpy()"
   ]
  },
  {
   "cell_type": "markdown",
   "metadata": {},
   "source": [
    "# Explore weights of the MNIST network, that doesn't have batchnorm"
   ]
  },
  {
   "cell_type": "code",
   "execution_count": 5,
   "metadata": {},
   "outputs": [],
   "source": [
    "directories = [*map(str, range(8))]\n",
    "samples = collections.defaultdict(lambda: [], {})\n",
    "param_keys = None\n",
    "\n",
    "for d in directories:\n",
    "    with h5py.File(f\"../logs/sgd-no-weight-decay/mnist_classificationconvnet/{d}/samples.pt\", \"r\") as f:\n",
    "        if param_keys is None:\n",
    "            param_keys = [k for k in f.keys() if k.endswith(\".p\")]\n",
    "            \n",
    "        for key in param_keys:\n",
    "            samples[key].append(f[key][-1])"
   ]
  },
  {
   "cell_type": "code",
   "execution_count": 6,
   "metadata": {},
   "outputs": [],
   "source": [
    "for k in samples.keys():\n",
    "    samples[k] = np.stack(samples[k])"
   ]
  },
  {
   "cell_type": "code",
   "execution_count": 7,
   "metadata": {},
   "outputs": [
    {
     "data": {
      "text/plain": [
       "dict_keys(['net.module.1.bias_prior.p', 'net.module.1.weight_prior.p', 'net.module.4.bias_prior.p', 'net.module.4.weight_prior.p', 'net.module.8.bias_prior.p', 'net.module.8.weight_prior.p'])"
      ]
     },
     "execution_count": 7,
     "metadata": {},
     "output_type": "execute_result"
    }
   ],
   "source": [
    "samples.keys()"
   ]
  },
  {
   "cell_type": "code",
   "execution_count": 8,
   "metadata": {},
   "outputs": [],
   "source": [
    "samples_reshaped = {}\n",
    "mean_covs = {}\n",
    "\n",
    "for k in samples.keys():\n",
    "    if k in [\"net.module.1.weight_prior.p\", \"net.module.4.weight_prior.p\"]:\n",
    "        #if k == \"net.module.8.weight_prior.p\":\n",
    "        #    samples_reshaped[k] = samples[k].transpose((0, 2, 1)).reshape((-1, 10))\n",
    "        #else:\n",
    "        samples_reshaped[k] = samples[k].reshape((-1, 9))\n",
    "        mean_covs[k] = (np.mean(samples_reshaped[k], 0), np.cov(samples_reshaped[k], rowvar=False))\n",
    "    else:\n",
    "        samples_reshaped[k] = samples[k]    \n",
    "        mean_covs[k] = (np.mean(samples[k]), np.var(samples[k]))"
   ]
  },
  {
   "cell_type": "code",
   "execution_count": 9,
   "metadata": {},
   "outputs": [
    {
     "ename": "NameError",
     "evalue": "name 'prior_samples' is not defined",
     "output_type": "error",
     "traceback": [
      "\u001b[0;31m---------------------------------------------------------------------------\u001b[0m",
      "\u001b[0;31mNameError\u001b[0m                                 Traceback (most recent call last)",
      "\u001b[0;32m<ipython-input-9-836dd83d37f7>\u001b[0m in \u001b[0;36m<module>\u001b[0;34m\u001b[0m\n\u001b[1;32m     10\u001b[0m         \u001b[0mprior_mean_covs\u001b[0m\u001b[0;34m[\u001b[0m\u001b[0mk\u001b[0m\u001b[0;34m]\u001b[0m \u001b[0;34m=\u001b[0m \u001b[0;34m(\u001b[0m\u001b[0mnp\u001b[0m\u001b[0;34m.\u001b[0m\u001b[0mmean\u001b[0m\u001b[0;34m(\u001b[0m\u001b[0mprior_samples_reshaped\u001b[0m\u001b[0;34m[\u001b[0m\u001b[0mk\u001b[0m\u001b[0;34m]\u001b[0m\u001b[0;34m,\u001b[0m \u001b[0;36m0\u001b[0m\u001b[0;34m)\u001b[0m\u001b[0;34m,\u001b[0m \u001b[0mnp\u001b[0m\u001b[0;34m.\u001b[0m\u001b[0mcov\u001b[0m\u001b[0;34m(\u001b[0m\u001b[0mprior_samples_reshaped\u001b[0m\u001b[0;34m[\u001b[0m\u001b[0mk\u001b[0m\u001b[0;34m]\u001b[0m\u001b[0;34m,\u001b[0m \u001b[0mrowvar\u001b[0m\u001b[0;34m=\u001b[0m\u001b[0;32mFalse\u001b[0m\u001b[0;34m)\u001b[0m\u001b[0;34m)\u001b[0m\u001b[0;34m\u001b[0m\u001b[0;34m\u001b[0m\u001b[0m\n\u001b[1;32m     11\u001b[0m     \u001b[0;32melse\u001b[0m\u001b[0;34m:\u001b[0m\u001b[0;34m\u001b[0m\u001b[0;34m\u001b[0m\u001b[0m\n\u001b[0;32m---> 12\u001b[0;31m         \u001b[0mprior_samples_reshaped\u001b[0m\u001b[0;34m[\u001b[0m\u001b[0mk\u001b[0m\u001b[0;34m]\u001b[0m \u001b[0;34m=\u001b[0m \u001b[0mprior_samples\u001b[0m\u001b[0;34m[\u001b[0m\u001b[0mk\u001b[0m\u001b[0;34m]\u001b[0m\u001b[0;34m\u001b[0m\u001b[0;34m\u001b[0m\u001b[0m\n\u001b[0m\u001b[1;32m     13\u001b[0m         \u001b[0mprior_mean_covs\u001b[0m\u001b[0;34m[\u001b[0m\u001b[0mk\u001b[0m\u001b[0;34m]\u001b[0m \u001b[0;34m=\u001b[0m \u001b[0;34m(\u001b[0m\u001b[0mnp\u001b[0m\u001b[0;34m.\u001b[0m\u001b[0mmean\u001b[0m\u001b[0;34m(\u001b[0m\u001b[0mprior_samples\u001b[0m\u001b[0;34m[\u001b[0m\u001b[0mk\u001b[0m\u001b[0;34m]\u001b[0m\u001b[0;34m)\u001b[0m\u001b[0;34m,\u001b[0m \u001b[0mnp\u001b[0m\u001b[0;34m.\u001b[0m\u001b[0mvar\u001b[0m\u001b[0;34m(\u001b[0m\u001b[0mprior_samples\u001b[0m\u001b[0;34m[\u001b[0m\u001b[0mk\u001b[0m\u001b[0;34m]\u001b[0m\u001b[0;34m)\u001b[0m\u001b[0;34m)\u001b[0m\u001b[0;34m\u001b[0m\u001b[0;34m\u001b[0m\u001b[0m\n",
      "\u001b[0;31mNameError\u001b[0m: name 'prior_samples' is not defined"
     ]
    }
   ],
   "source": [
    "prior_samples_reshaped = {}\n",
    "prior_mean_covs = {}\n",
    "\n",
    "for k in samples.keys():\n",
    "    if k in [\"net.module.1.weight_prior.p\", \"net.module.4.weight_prior.p\"]:\n",
    "        #if k == \"net.module.8.weight_prior.p\":\n",
    "        #    samples_reshaped[k] = samples[k].transpose((0, 2, 1)).reshape((-1, 10))\n",
    "        #else:\n",
    "        prior_samples_reshaped[k] = prior_samples[k].reshape((-1, 9))\n",
    "        prior_mean_covs[k] = (np.mean(prior_samples_reshaped[k], 0), np.cov(prior_samples_reshaped[k], rowvar=False))\n",
    "    else:\n",
    "        prior_samples_reshaped[k] = prior_samples[k]    \n",
    "        prior_mean_covs[k] = (np.mean(prior_samples[k]), np.var(prior_samples[k]))"
   ]
  },
  {
   "cell_type": "code",
   "execution_count": null,
   "metadata": {},
   "outputs": [],
   "source": [
    "for k, (_, cov) in mean_covs.items():\n",
    "    if isinstance(cov, float) or cov.shape == ():\n",
    "        print(k, \"empirical std.dev.\", cov**.5, samples[k].shape)\n",
    "    else:\n",
    "        print(k, \"empirical std.dev.\", np.diag(cov).mean()**.5, \"\", samples[k].shape)"
   ]
  },
  {
   "cell_type": "code",
   "execution_count": null,
   "metadata": {},
   "outputs": [],
   "source": [
    "#pd.to_pickle(mean_covs, \"mean_covs.pkl.gz\")"
   ]
  },
  {
   "cell_type": "code",
   "execution_count": null,
   "metadata": {},
   "outputs": [],
   "source": [
    "_, axes = plt.subplots(4, 3, figsize=(12, 16))\n",
    "for i, s in enumerate(samples[\"net.module.8.weight_prior.p\"].reshape((11, -1))):\n",
    "    axes.flat[i].hist(s, bins=40)\n",
    "    axes.flat[i].set_title(f\"network {i}, layer 1, bias hist.\")"
   ]
  },
  {
   "cell_type": "code",
   "execution_count": null,
   "metadata": {},
   "outputs": [],
   "source": [
    "_, axes = plt.subplots(1, 3, figsize=(12, 3))\n",
    "ax = axes[0]\n",
    "key = \"net.module.1.bias_prior.p\"\n",
    "dist = \"burr12\"\n",
    "\n",
    "rvs = getattr(scipy.stats, dist).rvs(*fits_dict[key][dist], size=len(samples[key].flat))\n",
    "heights, bins, _ = ax.hist(rvs, bins=40)\n",
    "area = (bins[1:] - bins[:-1]) @ heights\n",
    "\n",
    "x = np.linspace(samples[key].min(), samples[key].max(), 300)\n",
    "y = getattr(scipy.stats, dist).pdf(x, *fits_dict[key][dist]) * area\n",
    "ax.plot(x, y)\n",
    "ax.set_title(\"Lay. 1 bias hist.\")\n",
    "\n",
    "\n",
    "ax = axes[1]\n",
    "key = \"net.module.4.bias_prior.p\"\n",
    "dist = \"burr12\"\n",
    "\n",
    "rvs = getattr(scipy.stats, dist).rvs(*fits_dict[key][dist], size=len(samples[key].flat))\n",
    "heights, bins, _ = ax.hist(rvs, bins=40)\n",
    "area = (bins[1:] - bins[:-1]) @ heights\n",
    "\n",
    "x = np.linspace(samples[key].min(), samples[key].max(), 300)\n",
    "y = getattr(scipy.stats, dist).pdf(x, *fits_dict[key][dist]) * area\n",
    "ax.plot(x, y)\n",
    "ax.set_title(\"Lay. 2 bias hist.\")\n"
   ]
  },
  {
   "cell_type": "code",
   "execution_count": null,
   "metadata": {},
   "outputs": [],
   "source": [
    "_, axes = plt.subplots(1, 3, figsize=(12, 3))\n",
    "axes[0].hist(samples[\"net.module.1.bias_prior.p\"].flat, bins=40)\n",
    "axes[0].set_title(\"Lay. 1 bias hist.\")\n",
    "axes[1].hist(samples[\"net.module.4.bias_prior.p\"].flat, bins=40)\n",
    "axes[1].set_title(\"Lay. 2 bias hist.\")\n",
    "axes[2].hist(samples[\"net.module.8.bias_prior.p\"].flat, bins=30)\n",
    "axes[2].set_title(\"Lay. 3 bias hist.\")"
   ]
  },
  {
   "cell_type": "code",
   "execution_count": null,
   "metadata": {},
   "outputs": [],
   "source": [
    "_, axes = plt.subplots(1, 3, figsize=(12, 3))\n",
    "axes[0].hist(prior_samples[\"net.module.1.bias_prior.p\"].flat, bins=40)\n",
    "axes[0].set_title(\"Lay. 1 bias hist.\")\n",
    "axes[1].hist(prior_samples[\"net.module.4.bias_prior.p\"].flat, bins=40)\n",
    "axes[1].set_title(\"Lay. 2 bias hist.\")\n",
    "axes[2].hist(prior_samples[\"net.module.8.bias_prior.p\"].flat, bins=30)\n",
    "axes[2].set_title(\"Lay. 3 bias hist.\")"
   ]
  },
  {
   "cell_type": "code",
   "execution_count": null,
   "metadata": {},
   "outputs": [],
   "source": [
    "_, axes = plt.subplots(1, 3, figsize=(12, 3))\n",
    "for i in range(11):\n",
    "    axes[0].plot(samples[\"net.module.1.bias_prior.p\"][i])\n",
    "    axes[1].plot(samples[\"net.module.4.bias_prior.p\"][i])\n",
    "    axes[2].plot(samples[\"net.module.8.bias_prior.p\"][i])\n",
    "\n",
    "axes[0].set_title(\"Lay. 1 biases\")\n",
    "axes[1].set_title(\"Lay. 2 biases\")\n",
    "axes[2].set_title(\"Lay. 3 biases\")\n"
   ]
  },
  {
   "cell_type": "code",
   "execution_count": null,
   "metadata": {},
   "outputs": [],
   "source": [
    "samples[\"net.module.1.weight_prior.p\"].shape"
   ]
  },
  {
   "cell_type": "code",
   "execution_count": null,
   "metadata": {},
   "outputs": [],
   "source": [
    "sns.set(context=\"paper\", style=\"white\", font_scale=1.5)\n",
    "\n",
    "fig = plt.figure()\n",
    "\n",
    "norm = Normalize(-0.27, 0.27)\n",
    "\n",
    "ticks = [1, 3, 5, 7, 9]\n",
    "tick_labels=[\"(1, 1)\", \"(1, 3)\", \"(2, 2)\", \"(3, 1)\", \"(3, 3)\"]\n",
    "\n",
    "ax = fig.add_axes(\n",
    "    [0.0, 0.0, 0.6, 1.0],\n",
    "    title=\"Layer 2 spatial covariance\",\n",
    "    yticks=range(1, 10),\n",
    "    yticklabels=[f\"({i//3+1}, {i%3+1})\" for i in range(9)],\n",
    "    xticks=ticks,\n",
    "    xticklabels=tick_labels)\n",
    "\n",
    "key = \"net.module.4.weight_prior.p\"\n",
    "print(np.max(np.abs(mean_covs[key][1]*64)))\n",
    "mappable = ax.imshow(mean_covs[key][1]*64, cmap=plt.get_cmap('RdBu'),\n",
    "                     extent=[0.5, 9.5, 9.5, 0.5], norm=norm)\n",
    "\n",
    "wsep = 0.01\n",
    "height = 0.25\n",
    "\n",
    "for axes_i, i in enumerate([1, 4, 6]):\n",
    "    if axes_i == 2:\n",
    "        bottom = 0\n",
    "    else:\n",
    "        bottom = (height + 0.1) * (2-axes_i)\n",
    "    ax = fig.add_axes([0.6+wsep, bottom, height, height], xticks=[], yticks=[],\n",
    "                      title=f\"cov. with ({i//3 + 1}, {i%3+1})\")\n",
    "    ax.imshow(mean_covs[key][1][i, :].reshape((3, 3))*64,\n",
    "              cmap=plt.get_cmap('RdBu'),\n",
    "              extent=[0.5, 3.5, 3.5, 0.5], norm=norm)\n",
    "    \n",
    "cbar_ax = fig.add_axes([0.6+wsep+height+wsep, 0.0, 0.03, 1.0])\n",
    "fig.colorbar(mappable, cax=cbar_ax)\n",
    "plt.savefig(\"mnist_covariances_l2.pdf\", bbox_inches='tight')"
   ]
  },
  {
   "cell_type": "code",
   "execution_count": null,
   "metadata": {},
   "outputs": [],
   "source": [
    "sns.set(context=\"paper\", style=\"white\", font_scale=1.5)\n",
    "\n",
    "fig = plt.figure()\n",
    "\n",
    "ticks = [1, 3, 5, 7, 9]\n",
    "tick_labels=[\"(1, 1)\", \"(1, 3)\", \"(2, 2)\", \"(3, 1)\", \"(3, 3)\"]\n",
    "\n",
    "ax = fig.add_axes(\n",
    "    [0.0, 0.0, 0.6, 1.0],\n",
    "    title=\"Layer 1 spatial covariance\",\n",
    "    yticks=range(1, 10),\n",
    "    yticklabels=[f\"({i//3+1}, {i%3+1})\" for i in range(9)],\n",
    "    xticks=ticks,\n",
    "    xticklabels=tick_labels)\n",
    "\n",
    "key = \"net.module.1.weight_prior.p\"\n",
    "mappable = ax.imshow((mean_covs[key][1]), cmap=plt.get_cmap('RdBu'),\n",
    "                     extent=[0.5, 9.5, 9.5, 0.5], norm=norm)\n",
    "\n",
    "wsep = 0.01\n",
    "height = 0.25\n",
    "\n",
    "for axes_i, i in enumerate([1, 4, 6]):\n",
    "    if axes_i == 2:\n",
    "        bottom = 0\n",
    "    else:\n",
    "        bottom = (height + 0.1) * (2-axes_i)\n",
    "    ax = fig.add_axes([0.6+wsep, bottom, height, height], xticks=[], yticks=[],\n",
    "                      title=f\"cov. with ({i//3 + 1}, {i%3+1})\")\n",
    "    ax.imshow(mean_covs[key][1][i, :].reshape((3, 3)),\n",
    "              cmap=plt.get_cmap('RdBu'),\n",
    "              extent=[0.5, 3.5, 3.5, 0.5], norm=norm)\n",
    "    \n",
    "#cbar_ax = fig.add_axes([0.6+wsep+height+wsep, 0.0, 0.03, 1.0])\n",
    "#fig.colorbar(mappable, cax=cbar_ax)\n",
    "\n",
    "\n",
    "plt.savefig(\"mnist_covariances_l1.pdf\", bbox_inches='tight')"
   ]
  },
  {
   "cell_type": "code",
   "execution_count": 15,
   "metadata": {},
   "outputs": [],
   "source": []
  },
  {
   "cell_type": "code",
   "execution_count": 16,
   "metadata": {},
   "outputs": [
    {
     "data": {
      "image/png": "[encoded data removed]",
      "text/plain": [
       "<Figure size 975x472.875 with 19 Axes>"
      ]
     },
     "metadata": {},
     "output_type": "display_data"
    }
   ],
   "source": [
    "sns.set(context=\"paper\", style=\"white\", font_scale=1.0)\n",
    "plt.rcParams[\"font.sans-serif\"].insert(0, \"DejaVu Sans\")\n",
    "plt.rcParams.update({\n",
    "    \"font.family\": \"sans-serif\",  # use serif/main font for text elements\n",
    "    \"text.usetex\": False,     # use inline math for ticks\n",
    "    \"pgf.rcfonts\": True,     # don't setup fonts from rc parameters\n",
    "    \"font.size\": 10,\n",
    "    \"axes.linewidth\": 0.5,\n",
    "    'ytick.major.width': 0.5,\n",
    "    'ytick.major.size': 0,\n",
    "    'xtick.major.width': 0.5,\n",
    "    'xtick.major.size': 0,\n",
    "    \"figure.dpi\": 300,\n",
    "\n",
    "})\n",
    "\n",
    "fig_width_pt = 234.8775\n",
    "inches_per_pt = 1.0/72.27               # Convert pt to inches\n",
    "fig_width = fig_width_pt*inches_per_pt  # width in inches\n",
    "\n",
    "norm = Normalize(-0.27, 0.27)\n",
    "\n",
    "margins = dict(\n",
    "    left=0.04,\n",
    "    right=0.1,\n",
    "    top=0.08,\n",
    "    bottom=0.05)\n",
    "\n",
    "plots_x = 2\n",
    "wsep = hsep = 0.015\n",
    "w_cov_sep = 0.04\n",
    "cbar_width = 0.03\n",
    "cbar_wsep = 0.01\n",
    "height = width = (1 - w_cov_sep*plots_x - wsep*3*plots_x - cbar_wsep - cbar_width\n",
    "         - margins['left'] - margins['right'])/plots_x / 3\n",
    "ttl_marg=10\n",
    "\n",
    "fig_height_mult = (margins['bottom'] + height*3 + hsep*2 + margins['top'])\n",
    "\n",
    "# make figure rectangular and correct vertical sizes\n",
    "hsep /= fig_height_mult\n",
    "height /= fig_height_mult\n",
    "margins['bottom'] /= fig_height_mult\n",
    "margins['top'] /= fig_height_mult\n",
    "\n",
    "fig = plt.figure(figsize=(fig_width, fig_width *fig_height_mult))\n",
    "\n",
    "\n",
    "\n",
    "cbar_height = height*3 + hsep*2\n",
    "\n",
    "key = \"net.module.1.weight_prior.p\"\n",
    "\n",
    "for y in range(3):\n",
    "    for x in range(3):\n",
    "        bottom = margins['bottom'] + (height + hsep) * (2-y)\n",
    "        left = margins['left'] + (width +wsep) * x\n",
    "        \n",
    "        if x == 0:\n",
    "            yticks = [1, 2, 3]\n",
    "        else:\n",
    "            yticks = []\n",
    "            \n",
    "        if y == 2:\n",
    "            xticks = [1, 2, 3]\n",
    "        else:\n",
    "            xticks = []\n",
    "        ax = fig.add_axes([left, bottom, width, height], xticks=xticks, yticks=yticks)\n",
    "                          #title=f\"cov. w/ ({x + 1}, {y +1})\")\n",
    "        ax.imshow(mean_covs[key][1][y*3+x, :].reshape((3, 3)),\n",
    "                  cmap=plt.get_cmap('RdBu'),\n",
    "                  extent=[0.5, 3.5, 3.5, 0.5], norm=norm)\n",
    "        ax.plot([x+1], [y+1], marker='x', ls='none', color='white', ms=3)\n",
    "        \n",
    "        if y==0 and x==1:\n",
    "            ttl = ax.set_title(\"Layer 1 covariance\", pad=ttl_marg)\n",
    "\n",
    "\n",
    "key = \"net.module.4.weight_prior.p\"\n",
    "\n",
    "for y in range(3):\n",
    "    for x in range(3):\n",
    "        bottom = margins['bottom'] + (height + hsep) * (2-y)\n",
    "        left = margins['left'] + (width+wsep)*3 + w_cov_sep + (width +wsep) * x\n",
    "       \n",
    "        yticks = []\n",
    "            \n",
    "        if y == 2: \n",
    "            xticks = [1, 2, 3]\n",
    "        else:\n",
    "            xticks = []\n",
    "        ax = fig.add_axes([left, bottom, width, height], xticks=xticks, yticks=yticks)\n",
    "                          #title=f\"cov. w/ ({x + 1}, {y +1})\")\n",
    "        mappable = ax.imshow(mean_covs[key][1][y*3+x, :].reshape((3, 3))*64,\n",
    "                  cmap=plt.get_cmap('RdBu'),\n",
    "                  extent=[0.5, 3.5, 3.5, 0.5], norm=norm)\n",
    "        ax.plot([x+1], [y+1], marker='x', ls='none', color='white', markersize=3)\n",
    "        \n",
    "        if y==0 and x==1:\n",
    "            ttl = ax.set_title(\"Layer 2 covariance\", pad=ttl_marg)\n",
    "        \n",
    "cbar_ax = fig.add_axes([margins['left'] + (width+wsep)*3*2 + w_cov_sep + cbar_wsep,\n",
    "                        margins['bottom'], cbar_width, cbar_height])\n",
    "fig.colorbar(mappable, cax=cbar_ax,\n",
    "             ticks=[-0.27, -0.15, 0, 0.15, 0.27])\n",
    "fig.savefig(\"../figures/210126-mnist-covariances-all.pdf\")"
   ]
  },
  {
   "cell_type": "code",
   "execution_count": null,
   "metadata": {},
   "outputs": [],
   "source": [
    "fig, axes = plt.subplots(1, 2, figsize=(13, 4))\n",
    "covs = {}\n",
    "weights_reshaped = {}\n",
    "\n",
    "ax = axes[0]\n",
    "key = \"net.module.1.weight_prior.p\"\n",
    "mappable = ax.imshow(prior_mean_covs[key][1], cmap=plt.get_cmap('viridis'))\n",
    "fig.colorbar(mappable, ax=ax)\n",
    "ax.set_title(\"Lay. 1 spatial cov.\")\n",
    "\n",
    "ax = axes[1]\n",
    "key = \"net.module.4.weight_prior.p\"\n",
    "mappable = ax.imshow(prior_mean_covs[key][1], cmap=plt.get_cmap('viridis'))\n",
    "fig.colorbar(mappable, ax=ax)\n",
    "ax.set_title(\"Lay. 2 spatial cov.\")\n"
   ]
  },
  {
   "cell_type": "code",
   "execution_count": null,
   "metadata": {},
   "outputs": [],
   "source": [
    "def plot_weightdist(weights, title=None, num_bins=50):\n",
    "    fig, axes = plt.subplots(ncols=2, figsize=(8,3))\n",
    "    #vmin = np.min([weight for weight in samples_reshaped.values()])\n",
    "    #vmax = np.max([weight for weight in samples_reshaped.values()])\n",
    "    #xlim = (vmin, vmax)\n",
    "    for (name, weight), ax in zip(weights.items(), axes):\n",
    "        sns.distplot(weight.flatten(), ax=ax, bins=num_bins, kde=False, norm_hist=True)\n",
    "        ax.set_xlabel(name)\n",
    "        #gauss_pdf = make_pdf(stats.norm, stats.norm.fit(weight), start=xlim[0], end=xlim[1])\n",
    "        #sns.lineplot(data=gauss_pdf, label=\"gaussian_fit\", ax=ax)\n",
    "        ax.legend(loc=\"upper right\")\n",
    "        #ax.set_xlim(xlim)\n",
    "    if title is not None:\n",
    "        fig.suptitle(title)\n",
    "        fig.tight_layout(rect=[0, 0, 1, 0.97])\n",
    "    else:\n",
    "        fig.tight_layout()\n",
    "    return fig\n",
    "\n",
    "plot_weightdist({\"w1\": samples_reshaped[\"net.module.1.weight_prior.p\"],\n",
    "                 \"w2\": samples_reshaped[\"net.module.4.weight_prior.p\"]})"
   ]
  },
  {
   "cell_type": "code",
   "execution_count": null,
   "metadata": {},
   "outputs": [],
   "source": [
    "samples_reshaped.keys()"
   ]
  },
  {
   "cell_type": "code",
   "execution_count": null,
   "metadata": {},
   "outputs": [],
   "source": [
    "fig, axes = plt.subplots(1, 2, figsize=(13, 4), sharex=True)\n",
    "\n",
    "whites = {}\n",
    "\n",
    "ax = axes[0]\n",
    "key = \"net.module.1.weight_prior.p\"\n",
    "a = samples_reshaped[key] - mean_covs[key][0]\n",
    "vals, vecs = np.linalg.eig(mean_covs[key][1])\n",
    "whites[key] = a_white = a @ (vecs * vals**-.5)\n",
    "ax.hist(a_white.flat, bins=40)\n",
    "ax.set_title(\"Lay. 1 whitened weights\")\n",
    "\n",
    "ax = axes[1]\n",
    "key = \"net.module.4.weight_prior.p\"\n",
    "a = samples_reshaped[key] - mean_covs[key][0]\n",
    "vals, vecs = np.linalg.eig(mean_covs[key][1])\n",
    "whites[key] = a_white = a @ (vecs * vals**-.5)\n",
    "ax.hist(a_white.flat, bins=40)\n",
    "ax.set_title(\"Lay. 2 whitened weights\")"
   ]
  },
  {
   "cell_type": "code",
   "execution_count": null,
   "metadata": {},
   "outputs": [],
   "source": [
    "sorted_w = np.sort(whites[key].flatten())\n",
    "\n",
    "x = np.stack([sorted_w]*2, axis=1).flatten()\n",
    "y = np.stack([np.arange(0, len(sorted_w)), np.arange(1, len(sorted_w)+1)], axis=1).flatten()\n",
    "\n",
    "plt.plot(x, y)"
   ]
  },
  {
   "cell_type": "code",
   "execution_count": null,
   "metadata": {},
   "outputs": [],
   "source": [
    "plt.subplot(121)\n",
    "plt.scatter(whites[ \"net.module.1.weight_prior.p\"][:len(whites[ \"net.module.1.weight_prior.p\"])//11, 0],\n",
    "            whites[ \"net.module.1.weight_prior.p\"][:len(whites[ \"net.module.1.weight_prior.p\"])//11, 2])\n",
    "plt.subplot(122)\n",
    "\n",
    "plt.scatter(whites[ \"net.module.1.weight_prior.p\"][:len(whites[ \"net.module.1.weight_prior.p\"])//11, 0],\n",
    "            whites[ \"net.module.1.weight_prior.p\"][:len(whites[ \"net.module.1.weight_prior.p\"])//11, 8])"
   ]
  },
  {
   "cell_type": "code",
   "execution_count": null,
   "metadata": {},
   "outputs": [],
   "source": [
    "plt.subplot(121)\n",
    "plt.scatter(whites[ \"net.module.1.weight_prior.p\"][:, 0],\n",
    "            whites[ \"net.module.1.weight_prior.p\"][:, 2])\n",
    "plt.subplot(122)\n",
    "\n",
    "plt.scatter(whites[ \"net.module.1.weight_prior.p\"][:, 0],\n",
    "            whites[ \"net.module.1.weight_prior.p\"][:, 8])"
   ]
  },
  {
   "cell_type": "code",
   "execution_count": null,
   "metadata": {},
   "outputs": [],
   "source": [
    "plt.scatter(prior_whites[ \"net.module.1.weight_prior.p\"][:, 0],\n",
    "            prior_whites[ \"net.module.1.weight_prior.p\"][:, 2])"
   ]
  },
  {
   "cell_type": "code",
   "execution_count": null,
   "metadata": {},
   "outputs": [],
   "source": [
    "fig, axes = plt.subplots(1, 2, figsize=(13, 4), sharex=True)\n",
    "\n",
    "prior_whites = {}\n",
    "\n",
    "ax = axes[0]\n",
    "key = \"net.module.1.weight_prior.p\"\n",
    "a = prior_samples_reshaped[key] - prior_mean_covs[key][0]\n",
    "vals, vecs = np.linalg.eig(prior_mean_covs[key][1])\n",
    "prior_whites[key] = a_white = a @ (vecs * vals**-.5)\n",
    "ax.hist(a_white.flat, bins=40)\n",
    "ax.set_title(\"Lay. 1 whitened weights\")\n",
    "\n",
    "ax = axes[1]\n",
    "key = \"net.module.4.weight_prior.p\"\n",
    "a = prior_samples_reshaped[key] - prior_mean_covs[key][0]\n",
    "vals, vecs = np.linalg.eig(prior_mean_covs[key][1])\n",
    "prior_whites[key] = a_white = a @ (vecs * vals**-.5)\n",
    "ax.hist(a_white.flat, bins=40)\n",
    "ax.set_title(\"Lay. 2 whitened weights\")"
   ]
  },
  {
   "cell_type": "code",
   "execution_count": null,
   "metadata": {},
   "outputs": [],
   "source": [
    "fig, axes = plt.subplots(1, 3, figsize=(13, 4))\n",
    "covs_big = {}\n",
    "\n",
    "ax = axes[0]\n",
    "key = \"net.module.1.weight_prior.p\"\n",
    "a = samples[key].transpose((0, 2, 3, 4, 1)).reshape((99, -1))\n",
    "covs_big[key] = a.T @ a / len(a)\n",
    "mappable = ax.imshow(covs_big[key], cmap=plt.get_cmap('viridis'))\n",
    "fig.colorbar(mappable, ax=ax)\n",
    "ax.set_title(\"Lay. 1 filter-wise cov.\")\n",
    "\n",
    "\n",
    "ax = axes[1]\n",
    "key = \"net.module.4.weight_prior.p\"\n",
    "a = samples[key].transpose((0, 2, 3, 4, 1)).reshape((99, -1))\n",
    "covs_big[key] = a.T @ a / len(a)\n",
    "mappable = ax.imshow(covs_big[key], cmap=plt.get_cmap('viridis'))\n",
    "fig.colorbar(mappable, ax=ax)\n",
    "ax.set_title(\"Lay. 2 filter-wise cov.\")\n",
    "\n",
    "ax = axes[2]\n",
    "key = \"net.module.8.weight_prior.p\"\n",
    "a = samples[key].reshape((11*10, -1))\n",
    "covs_big[key] = a.T @ a / len(a)\n",
    "mappable = ax.imshow(covs_big[key], cmap=plt.get_cmap('viridis'))\n",
    "fig.colorbar(mappable, ax=ax)\n",
    "ax.set_title(\"Lay. 3 filter-wise cov.\")"
   ]
  },
  {
   "cell_type": "code",
   "execution_count": null,
   "metadata": {},
   "outputs": [],
   "source": [
    "fig, ax = plt.subplots(1, 1, figsize=(20, 20))\n",
    "\n",
    "key = \"net.module.4.weight_prior.p\"\n",
    "a = samples[key].transpose((0, 2, 3, 4, 1)).reshape((99, -1))\n",
    "covs[key] = a.T @ a / len(a)\n",
    "mappable = ax.imshow(covs[key], cmap=plt.get_cmap('viridis'))\n",
    "fig.colorbar(mappable, ax=ax)\n",
    "plt.title(\"Layer 2 filter-wise cov\")"
   ]
  },
  {
   "cell_type": "markdown",
   "metadata": {},
   "source": [
    "# Fit any scipy.stats distribution to the biases"
   ]
  },
  {
   "cell_type": "code",
   "execution_count": null,
   "metadata": {
    "scrolled": true
   },
   "outputs": [],
   "source": [
    "from scipy.stats import rv_continuous\n",
    "\n",
    "def fit_1d_dist(data, whitelist=None):\n",
    "    fits = []\n",
    "    data = data.ravel()\n",
    "    if whitelist is None:\n",
    "        whitelist = dir(scipy.stats)\n",
    "    for attr in whitelist:\n",
    "        try:\n",
    "            dist_class = getattr(scipy.stats, attr)\n",
    "            if isinstance(dist_class, rv_continuous) and attr != \"levy_stable\":\n",
    "                args = dist_class.fit(data)\n",
    "                likelihood = dist_class.logpdf(data, *args).sum()\n",
    "                fits.append((attr, likelihood, args))\n",
    "        except Exception as e:\n",
    "            print(f\"{attr} raised exception {e}\")\n",
    "            \n",
    "    fits.sort(key=lambda x: -x[1])\n",
    "    fits_dict = dict((name, args) for (name, _, args) in fits)\n",
    "    return fits, fits_dict"
   ]
  },
  {
   "cell_type": "code",
   "execution_count": null,
   "metadata": {},
   "outputs": [],
   "source": [
    "def plot_top_fits(data, fits, title, idx):\n",
    "    data = data.ravel()\n",
    "\n",
    "    _, ax = plt.subplots(1, 1, figsize=(10, 8))\n",
    "    heights, bins, _ = ax.hist(data, bins=40)\n",
    "    area = (bins[1:] - bins[:-1]) @ heights\n",
    "\n",
    "    x = np.linspace(data.min(), data.max(), 5000)\n",
    "\n",
    "    for attr, _, args in fits[idx]:\n",
    "        y = getattr(scipy.stats, attr).pdf(x, *args) * area\n",
    "        ax.plot(x, y, label=attr)\n",
    "    ax.set_title(title)\n",
    "    ax.legend()"
   ]
  },
  {
   "cell_type": "code",
   "execution_count": null,
   "metadata": {},
   "outputs": [],
   "source": [
    "fits = {}\n",
    "fits_dict = {}"
   ]
  },
  {
   "cell_type": "code",
   "execution_count": null,
   "metadata": {
    "scrolled": false
   },
   "outputs": [],
   "source": [
    "key = \"net.module.1.bias_prior.p\"\n",
    "fits[key], fits_dict[key] = fit_1d_dist(samples[key], whitelist=[\"johnsonsu\", \"norminvgauss\", \"burr\", \"alpha\", \"gennorm\", \"nct\", \"burr12\", \"dgamma\", \"dweibull\"])\n",
    "plot_top_fits(samples[key], fits[key], \"Layer 1 biases\", slice(0, 10))"
   ]
  },
  {
   "cell_type": "code",
   "execution_count": null,
   "metadata": {
    "scrolled": false
   },
   "outputs": [],
   "source": [
    "key = \"net.module.4.bias_prior.p\"\n",
    "fits[key], fits_dict[key] = fit_1d_dist(samples[key], whitelist=[\"norminvgauss\", \"burr\", \"alpha\", \"gennorm\", \"nct\", \"burr12\", \"dgamma\", \"dweibull\"])\n",
    "plot_top_fits(samples[key], fits[key], \"Layer 2 biases\", slice(0, 10))"
   ]
  },
  {
   "cell_type": "code",
   "execution_count": null,
   "metadata": {},
   "outputs": [],
   "source": [
    "key = \"net.module.8.bias_prior.p\"\n",
    "fits[key], fits_dict[key] = fit_1d_dist(samples[key], whitelist=[\"uniform\"])\n",
    "plot_top_fits(samples[key], new_fits, \"Layer 3 biases\", slice(0, 10))"
   ]
  },
  {
   "cell_type": "markdown",
   "metadata": {},
   "source": [
    "# Fit whitened weights"
   ]
  },
  {
   "cell_type": "code",
   "execution_count": null,
   "metadata": {},
   "outputs": [],
   "source": [
    "(0.6218022739172522*(1+0.6218022739172522))**-.5"
   ]
  },
  {
   "cell_type": "code",
   "execution_count": null,
   "metadata": {},
   "outputs": [],
   "source": [
    "fits[\"net.module.4.weight_prior.p\"][:4]"
   ]
  },
  {
   "cell_type": "code",
   "execution_count": null,
   "metadata": {},
   "outputs": [],
   "source": [
    "whites[\"net.module.1.weight_prior.p\"].mean()"
   ]
  },
  {
   "cell_type": "code",
   "execution_count": null,
   "metadata": {},
   "outputs": [],
   "source": [
    "key = \"net.module.1.weight_prior.p\"\n",
    "#fits[key], fits_dict[key] = fit_1d_dist(whites[key])\n",
    "plot_top_fits(whites[key], fits[key], \"Layer 1 white weights\", slice(2, 6))"
   ]
  },
  {
   "cell_type": "code",
   "execution_count": null,
   "metadata": {},
   "outputs": [],
   "source": [
    "key = \"net.module.4.weight_prior.p\"\n",
    "#fits[key], fits_dict[key] = fit_1d_dist(whites[key], whitelist=[\"dgamma\", \"dweibull\", \"gennorm\", \"johnsonsu\", \"norminvgauss\", \"tukeylambda\", \"nct\", \"t\", \"laplace\"])\n",
    "plot_top_fits(whites[key], fits[key], \"Layer 2 white weights\", slice(0, 10))"
   ]
  },
  {
   "cell_type": "code",
   "execution_count": null,
   "metadata": {},
   "outputs": [],
   "source": [
    "import math\n",
    "math.sqrt(1/ (0.5818346034143134 * (1+ 0.5818346034143134)))"
   ]
  },
  {
   "cell_type": "code",
   "execution_count": null,
   "metadata": {},
   "outputs": [],
   "source": [
    "fits[\"net.module.8.weight_prior.p\"][0]"
   ]
  },
  {
   "cell_type": "code",
   "execution_count": null,
   "metadata": {},
   "outputs": [],
   "source": [
    "fits[\"net.module.8.weight_prior.p\"][0]"
   ]
  },
  {
   "cell_type": "code",
   "execution_count": null,
   "metadata": {},
   "outputs": [],
   "source": [
    "key = \"net.module.8.weight_prior.p\"\n",
    "this_whites = (samples[key] - mean_covs[key][0]) * mean_covs[key][1]**-.5\n",
    "\n",
    "#fits[key], fits_dict[key] = fit_1d_dist(this_whites, whitelist=[\"dgamma\", \"laplace\", \"t\", \"gennorm\"])\n",
    "plot_top_fits(this_whites, fits[key], \"Layer 3 white weights\", slice(0, 5))"
   ]
  },
  {
   "cell_type": "code",
   "execution_count": null,
   "metadata": {},
   "outputs": [],
   "source": [
    "fits_dict[\"net.module.8.weight_prior.p\"][\"dgamma\"]"
   ]
  },
  {
   "cell_type": "code",
   "execution_count": null,
   "metadata": {},
   "outputs": [],
   "source": [
    "pd.to_pickle((fits, fits_dict), \"../bnn_priors/models/fits.pkl.gz\")"
   ]
  },
  {
   "cell_type": "markdown",
   "metadata": {},
   "source": [
    "# Fit the kernel matrix to the covariances"
   ]
  },
  {
   "cell_type": "code",
   "execution_count": null,
   "metadata": {},
   "outputs": [],
   "source": [
    "class ConvFitter(torch.nn.Module):\n",
    "    def __init__(self, kern, weights):\n",
    "        super().__init__()\n",
    "        self.inputs = torch.from_numpy(np.mgrid[:3, :3].reshape(2, -1).T.astype(np.float32))\n",
    "        self.kern = kern\n",
    "        #self.raw_std = torch.nn.Parameter(torch.randn(9))\n",
    "        #self.raw_std_constraint = gpytorch.constraints.Positive()\n",
    "        \n",
    "        self.register_buffer(\"weights\", torch.from_numpy(weights).to(self.inputs, copy=True))\n",
    "        \n",
    "        cov = self.weights.t() @ self.weights / len(self.weights)\n",
    "        std = cov.diag()**.5\n",
    "        self.weights /= std\n",
    "        \n",
    "        self.register_buffer(\"std\", std)\n",
    "        self.register_buffer(\"cov\", cov)\n",
    "                        \n",
    "    def forward(self):\n",
    "        #std = self.raw_std_constraint.transform(self.raw_std)\n",
    "        #std = self.std\n",
    "        #L = std.unsqueeze(-1) * self.kern(self.inputs).cholesky().evaluate()\n",
    "        dist = gpytorch.distributions.MultivariateNormal(\n",
    "            torch.zeros(len(self.inputs)), self.kern(self.inputs))\n",
    "        return dist\n",
    "    \n",
    "    def closure(self):\n",
    "        self.zero_grad()\n",
    "        dist = self()\n",
    "        loss = -dist.log_prob(self.weights).sum(0)\n",
    "        loss.backward()\n",
    "        return loss"
   ]
  },
  {
   "cell_type": "code",
   "execution_count": null,
   "metadata": {},
   "outputs": [],
   "source": [
    "samples_reshaped.keys()"
   ]
  },
  {
   "cell_type": "code",
   "execution_count": null,
   "metadata": {},
   "outputs": [],
   "source": [
    "opt_states = {}\n",
    "\n",
    "for key in ['net.module.1.weight_prior.p', 'net.module.4.weight_prior.p']:\n",
    "    max_lik = -np.inf\n",
    "    for name, kern in [#(\"matern_12\",gpytorch.kernels.MaternKernel(nu=1/2)),\n",
    "                       #(\"matern_32\",gpytorch.kernels.MaternKernel(nu=3/2)),\n",
    "                       #(\"matern_52\",gpytorch.kernels.MaternKernel(nu=5/2)),\n",
    "                       (\"rbf\", gpytorch.kernels.RBFKernel())]:\n",
    "        cf = ConvFitter(kern, samples_reshaped[key])\n",
    "        optim = torch.optim.LBFGS(cf.parameters())\n",
    "        for _ in range(10):\n",
    "            loss = optim.step(cf.closure)\n",
    "        ls = cf.kern.lengthscale.item()\n",
    "        lik = -loss.item()\n",
    "        \n",
    "        if lik > max_lik:\n",
    "            max_ls = ls\n",
    "            max_lik = lik\n",
    "            max_name = name\n",
    "            max_sd = cf.state_dict()\n",
    "            del max_sd[\"weights\"]\n",
    "    opt_states[key] = (max_name, max_sd)\n",
    "    print(f\"For {key}, {max_name} with ls={max_ls}\")"
   ]
  },
  {
   "cell_type": "code",
   "execution_count": null,
   "metadata": {},
   "outputs": [],
   "source": [
    "samples_reshaped"
   ]
  },
  {
   "cell_type": "code",
   "execution_count": null,
   "metadata": {},
   "outputs": [],
   "source": [
    "_, axes = plt.subplots(2, 2, figsize=(10, 10))"
   ]
  }
 ],
 "metadata": {
  "kernelspec": {
   "display_name": "Python 3",
   "language": "python",
   "name": "python3"
  },
  "language_info": {
   "codemirror_mode": {
    "name": "ipython",
    "version": 3
   },
   "file_extension": ".py",
   "mimetype": "text/x-python",
   "name": "python",
   "nbconvert_exporter": "python",
   "pygments_lexer": "ipython3",
   "version": "3.7.6"
  }
 },
 "nbformat": 4,
 "nbformat_minor": 4
}
