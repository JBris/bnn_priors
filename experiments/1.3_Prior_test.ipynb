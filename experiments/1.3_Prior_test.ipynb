{
 "cells": [
  {
   "cell_type": "code",
   "execution_count": 1,
   "metadata": {},
   "outputs": [],
   "source": [
    "import numpy as np\n",
    "import torch\n",
    "import torch.distributions as td\n",
    "\n",
    "from bnn_priors import prior"
   ]
  },
  {
   "cell_type": "markdown",
   "metadata": {},
   "source": [
    "## Standard Gaussian"
   ]
  },
  {
   "cell_type": "code",
   "execution_count": 2,
   "metadata": {},
   "outputs": [],
   "source": [
    "td_normal = td.Normal(loc=0., scale=1.)\n",
    "\n",
    "prior_normal = prior.Normal(shape=[1], loc=0., scale=1.)\n",
    "prior_normal.sample()"
   ]
  },
  {
   "cell_type": "code",
   "execution_count": 3,
   "metadata": {},
   "outputs": [
    {
     "name": "stdout",
     "output_type": "stream",
     "text": [
      "-1.396287202835083\n",
      "-1.396287202835083\n"
     ]
    }
   ],
   "source": [
    "print(prior_normal.log_prob().item())\n",
    "print(td_normal.log_prob(prior_normal()).item())"
   ]
  },
  {
   "cell_type": "markdown",
   "metadata": {},
   "source": [
    "## Reparameterized Gaussian"
   ]
  },
  {
   "cell_type": "code",
   "execution_count": 4,
   "metadata": {},
   "outputs": [],
   "source": [
    "td_normal = td.Normal(loc=10., scale=10.)\n",
    "\n",
    "prior_normal = prior.Normal(shape=[1], loc=10., scale=10.)\n",
    "prior_normal.sample()"
   ]
  },
  {
   "cell_type": "code",
   "execution_count": 5,
   "metadata": {},
   "outputs": [
    {
     "name": "stdout",
     "output_type": "stream",
     "text": [
      "-1.8572571277618408\n",
      "-4.159842014312744\n"
     ]
    }
   ],
   "source": [
    "print(prior_normal.log_prob().item())\n",
    "print(td_normal.log_prob(prior_normal()).item())"
   ]
  },
  {
   "cell_type": "code",
   "execution_count": null,
   "metadata": {},
   "outputs": [],
   "source": []
  }
 ],
 "metadata": {
  "kernelspec": {
   "display_name": "Python 3",
   "language": "python",
   "name": "python3"
  },
  "language_info": {
   "codemirror_mode": {
    "name": "ipython",
    "version": 3
   },
   "file_extension": ".py",
   "mimetype": "text/x-python",
   "name": "python",
   "nbconvert_exporter": "python",
   "pygments_lexer": "ipython3",
   "version": "3.7.7"
  }
 },
 "nbformat": 4,
 "nbformat_minor": 4
}
