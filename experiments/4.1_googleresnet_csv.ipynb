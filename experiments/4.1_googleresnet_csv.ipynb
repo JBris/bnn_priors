{
 "cells": [
  {
   "cell_type": "code",
   "execution_count": 1,
   "metadata": {},
   "outputs": [],
   "source": [
    "import os\n",
    "from glob import glob\n",
    "import pandas as pd\n",
    "import numpy as np\n",
    "from pathlib import Path\n",
    "from scipy import stats\n",
    "from matplotlib import pyplot as plt\n",
    "from matplotlib.colors import Normalize\n",
    "from matplotlib.backends.backend_pdf import PdfPages\n",
    "from matplotlib import gridspec\n",
    "import json\n",
    "import torch\n",
    "import gpytorch\n",
    "import h5py\n",
    "import collections\n",
    "import scipy\n",
    "import torch\n",
    "import subprocess\n",
    "import sys\n",
    "\n",
    "from bnn_priors import prior\n",
    "\n",
    "from bnn_priors.exp_utils import load_samples\n",
    "\n",
    "%matplotlib inline\n",
    "%config InlineBackend.print_figure_kwargs = {'bbox_inches':None}"
   ]
  },
  {
   "cell_type": "code",
   "execution_count": 2,
   "metadata": {},
   "outputs": [
    {
     "data": {
      "text/plain": [
       "RcParams({'_internal.classic_mode': False,\n",
       "          'agg.path.chunksize': 0,\n",
       "          'animation.avconv_args': [],\n",
       "          'animation.avconv_path': 'avconv',\n",
       "          'animation.bitrate': -1,\n",
       "          'animation.codec': 'h264',\n",
       "          'animation.convert_args': [],\n",
       "          'animation.convert_path': 'convert',\n",
       "          'animation.embed_limit': 20.0,\n",
       "          'animation.ffmpeg_args': [],\n",
       "          'animation.ffmpeg_path': 'ffmpeg',\n",
       "          'animation.frame_format': 'png',\n",
       "          'animation.html': 'none',\n",
       "          'animation.html_args': [],\n",
       "          'animation.writer': 'ffmpeg',\n",
       "          'axes.autolimit_mode': 'data',\n",
       "          'axes.axisbelow': 'line',\n",
       "          'axes.edgecolor': 'black',\n",
       "          'axes.facecolor': 'white',\n",
       "          'axes.formatter.limits': [-5, 6],\n",
       "          'axes.formatter.min_exponent': 0,\n",
       "          'axes.formatter.offset_threshold': 4,\n",
       "          'axes.formatter.use_locale': False,\n",
       "          'axes.formatter.use_mathtext': False,\n",
       "          'axes.formatter.useoffset': True,\n",
       "          'axes.grid': False,\n",
       "          'axes.grid.axis': 'both',\n",
       "          'axes.grid.which': 'major',\n",
       "          'axes.labelcolor': 'black',\n",
       "          'axes.labelpad': 4.0,\n",
       "          'axes.labelsize': 'medium',\n",
       "          'axes.labelweight': 'normal',\n",
       "          'axes.linewidth': 0.8,\n",
       "          'axes.prop_cycle': cycler('color', ['#1f77b4', '#ff7f0e', '#2ca02c', '#d62728', '#9467bd', '#8c564b', '#e377c2', '#7f7f7f', '#bcbd22', '#17becf']),\n",
       "          'axes.spines.bottom': True,\n",
       "          'axes.spines.left': True,\n",
       "          'axes.spines.right': True,\n",
       "          'axes.spines.top': True,\n",
       "          'axes.titlecolor': 'auto',\n",
       "          'axes.titlelocation': 'center',\n",
       "          'axes.titlepad': 6.0,\n",
       "          'axes.titlesize': 'large',\n",
       "          'axes.titleweight': 'normal',\n",
       "          'axes.titley': None,\n",
       "          'axes.unicode_minus': True,\n",
       "          'axes.xmargin': 0.05,\n",
       "          'axes.ymargin': 0.05,\n",
       "          'axes3d.grid': True,\n",
       "          'backend': 'module://ipykernel.pylab.backend_inline',\n",
       "          'backend_fallback': True,\n",
       "          'boxplot.bootstrap': None,\n",
       "          'boxplot.boxprops.color': 'black',\n",
       "          'boxplot.boxprops.linestyle': '-',\n",
       "          'boxplot.boxprops.linewidth': 1.0,\n",
       "          'boxplot.capprops.color': 'black',\n",
       "          'boxplot.capprops.linestyle': '-',\n",
       "          'boxplot.capprops.linewidth': 1.0,\n",
       "          'boxplot.flierprops.color': 'black',\n",
       "          'boxplot.flierprops.linestyle': 'none',\n",
       "          'boxplot.flierprops.linewidth': 1.0,\n",
       "          'boxplot.flierprops.marker': 'o',\n",
       "          'boxplot.flierprops.markeredgecolor': 'black',\n",
       "          'boxplot.flierprops.markeredgewidth': 1.0,\n",
       "          'boxplot.flierprops.markerfacecolor': 'none',\n",
       "          'boxplot.flierprops.markersize': 6.0,\n",
       "          'boxplot.meanline': False,\n",
       "          'boxplot.meanprops.color': 'C2',\n",
       "          'boxplot.meanprops.linestyle': '--',\n",
       "          'boxplot.meanprops.linewidth': 1.0,\n",
       "          'boxplot.meanprops.marker': '^',\n",
       "          'boxplot.meanprops.markeredgecolor': 'C2',\n",
       "          'boxplot.meanprops.markerfacecolor': 'C2',\n",
       "          'boxplot.meanprops.markersize': 6.0,\n",
       "          'boxplot.medianprops.color': 'C1',\n",
       "          'boxplot.medianprops.linestyle': '-',\n",
       "          'boxplot.medianprops.linewidth': 1.0,\n",
       "          'boxplot.notch': False,\n",
       "          'boxplot.patchartist': False,\n",
       "          'boxplot.showbox': True,\n",
       "          'boxplot.showcaps': True,\n",
       "          'boxplot.showfliers': True,\n",
       "          'boxplot.showmeans': False,\n",
       "          'boxplot.vertical': True,\n",
       "          'boxplot.whiskerprops.color': 'black',\n",
       "          'boxplot.whiskerprops.linestyle': '-',\n",
       "          'boxplot.whiskerprops.linewidth': 1.0,\n",
       "          'boxplot.whiskers': 1.5,\n",
       "          'contour.corner_mask': True,\n",
       "          'contour.linewidth': None,\n",
       "          'contour.negative_linestyle': 'dashed',\n",
       "          'date.autoformatter.day': '%Y-%m-%d',\n",
       "          'date.autoformatter.hour': '%m-%d %H',\n",
       "          'date.autoformatter.microsecond': '%M:%S.%f',\n",
       "          'date.autoformatter.minute': '%d %H:%M',\n",
       "          'date.autoformatter.month': '%Y-%m',\n",
       "          'date.autoformatter.second': '%H:%M:%S',\n",
       "          'date.autoformatter.year': '%Y',\n",
       "          'date.epoch': '1970-01-01T00:00:00',\n",
       "          'docstring.hardcopy': False,\n",
       "          'errorbar.capsize': 0.0,\n",
       "          'figure.autolayout': False,\n",
       "          'figure.constrained_layout.h_pad': 0.04167,\n",
       "          'figure.constrained_layout.hspace': 0.02,\n",
       "          'figure.constrained_layout.use': False,\n",
       "          'figure.constrained_layout.w_pad': 0.04167,\n",
       "          'figure.constrained_layout.wspace': 0.02,\n",
       "          'figure.dpi': 72.0,\n",
       "          'figure.edgecolor': (1, 1, 1, 0),\n",
       "          'figure.facecolor': (1, 1, 1, 0),\n",
       "          'figure.figsize': [6.0, 4.0],\n",
       "          'figure.frameon': True,\n",
       "          'figure.max_open_warning': 20,\n",
       "          'figure.raise_window': True,\n",
       "          'figure.subplot.bottom': 0.125,\n",
       "          'figure.subplot.hspace': 0.2,\n",
       "          'figure.subplot.left': 0.125,\n",
       "          'figure.subplot.right': 0.9,\n",
       "          'figure.subplot.top': 0.88,\n",
       "          'figure.subplot.wspace': 0.2,\n",
       "          'figure.titlesize': 'large',\n",
       "          'figure.titleweight': 'normal',\n",
       "          'font.cursive': ['Apple Chancery',\n",
       "                           'Textile',\n",
       "                           'Zapf Chancery',\n",
       "                           'Sand',\n",
       "                           'Script MT',\n",
       "                           'Felipa',\n",
       "                           'cursive'],\n",
       "          'font.family': ['sans-serif'],\n",
       "          'font.fantasy': ['Comic Neue',\n",
       "                           'Comic Sans MS',\n",
       "                           'Chicago',\n",
       "                           'Charcoal',\n",
       "                           'ImpactWestern',\n",
       "                           'Humor Sans',\n",
       "                           'xkcd',\n",
       "                           'fantasy'],\n",
       "          'font.monospace': ['DejaVu Sans Mono',\n",
       "                             'Bitstream Vera Sans Mono',\n",
       "                             'Computer Modern Typewriter',\n",
       "                             'Andale Mono',\n",
       "                             'Nimbus Mono L',\n",
       "                             'Courier New',\n",
       "                             'Courier',\n",
       "                             'Fixed',\n",
       "                             'Terminal',\n",
       "                             'monospace'],\n",
       "          'font.sans-serif': ['DejaVu Sans',\n",
       "                              'Bitstream Vera Sans',\n",
       "                              'Computer Modern Sans Serif',\n",
       "                              'Lucida Grande',\n",
       "                              'Verdana',\n",
       "                              'Geneva',\n",
       "                              'Lucid',\n",
       "                              'Arial',\n",
       "                              'Helvetica',\n",
       "                              'Avant Garde',\n",
       "                              'sans-serif'],\n",
       "          'font.serif': ['DejaVu Serif',\n",
       "                         'Bitstream Vera Serif',\n",
       "                         'Computer Modern Roman',\n",
       "                         'New Century Schoolbook',\n",
       "                         'Century Schoolbook L',\n",
       "                         'Utopia',\n",
       "                         'ITC Bookman',\n",
       "                         'Bookman',\n",
       "                         'Nimbus Roman No9 L',\n",
       "                         'Times New Roman',\n",
       "                         'Times',\n",
       "                         'Palatino',\n",
       "                         'Charter',\n",
       "                         'serif'],\n",
       "          'font.size': 10.0,\n",
       "          'font.stretch': 'normal',\n",
       "          'font.style': 'normal',\n",
       "          'font.variant': 'normal',\n",
       "          'font.weight': 'normal',\n",
       "          'grid.alpha': 1.0,\n",
       "          'grid.color': '#b0b0b0',\n",
       "          'grid.linestyle': '-',\n",
       "          'grid.linewidth': 0.8,\n",
       "          'hatch.color': 'black',\n",
       "          'hatch.linewidth': 1.0,\n",
       "          'hist.bins': 10,\n",
       "          'image.aspect': 'equal',\n",
       "          'image.cmap': 'viridis',\n",
       "          'image.composite_image': True,\n",
       "          'image.interpolation': 'antialiased',\n",
       "          'image.lut': 256,\n",
       "          'image.origin': 'upper',\n",
       "          'image.resample': True,\n",
       "          'interactive': True,\n",
       "          'keymap.all_axes': ['a'],\n",
       "          'keymap.back': ['left', 'c', 'backspace', 'MouseButton.BACK'],\n",
       "          'keymap.copy': ['ctrl+c', 'cmd+c'],\n",
       "          'keymap.forward': ['right', 'v', 'MouseButton.FORWARD'],\n",
       "          'keymap.fullscreen': ['f', 'ctrl+f'],\n",
       "          'keymap.grid': ['g'],\n",
       "          'keymap.grid_minor': ['G'],\n",
       "          'keymap.help': ['f1'],\n",
       "          'keymap.home': ['h', 'r', 'home'],\n",
       "          'keymap.pan': ['p'],\n",
       "          'keymap.quit': ['ctrl+w', 'cmd+w', 'q'],\n",
       "          'keymap.quit_all': [],\n",
       "          'keymap.save': ['s', 'ctrl+s'],\n",
       "          'keymap.xscale': ['k', 'L'],\n",
       "          'keymap.yscale': ['l'],\n",
       "          'keymap.zoom': ['o'],\n",
       "          'legend.borderaxespad': 0.5,\n",
       "          'legend.borderpad': 0.4,\n",
       "          'legend.columnspacing': 2.0,\n",
       "          'legend.edgecolor': '0.8',\n",
       "          'legend.facecolor': 'inherit',\n",
       "          'legend.fancybox': True,\n",
       "          'legend.fontsize': 'medium',\n",
       "          'legend.framealpha': 0.8,\n",
       "          'legend.frameon': True,\n",
       "          'legend.handleheight': 0.7,\n",
       "          'legend.handlelength': 2.0,\n",
       "          'legend.handletextpad': 0.8,\n",
       "          'legend.labelspacing': 0.5,\n",
       "          'legend.loc': 'best',\n",
       "          'legend.markerscale': 1.0,\n",
       "          'legend.numpoints': 1,\n",
       "          'legend.scatterpoints': 1,\n",
       "          'legend.shadow': False,\n",
       "          'legend.title_fontsize': None,\n",
       "          'lines.antialiased': True,\n",
       "          'lines.color': 'C0',\n",
       "          'lines.dash_capstyle': 'butt',\n",
       "          'lines.dash_joinstyle': 'round',\n",
       "          'lines.dashdot_pattern': [6.4, 1.6, 1.0, 1.6],\n",
       "          'lines.dashed_pattern': [3.7, 1.6],\n",
       "          'lines.dotted_pattern': [1.0, 1.65],\n",
       "          'lines.linestyle': '-',\n",
       "          'lines.linewidth': 1.5,\n",
       "          'lines.marker': 'None',\n",
       "          'lines.markeredgecolor': 'auto',\n",
       "          'lines.markeredgewidth': 1.0,\n",
       "          'lines.markerfacecolor': 'auto',\n",
       "          'lines.markersize': 6.0,\n",
       "          'lines.scale_dashes': True,\n",
       "          'lines.solid_capstyle': 'projecting',\n",
       "          'lines.solid_joinstyle': 'round',\n",
       "          'markers.fillstyle': 'full',\n",
       "          'mathtext.bf': 'sans:bold',\n",
       "          'mathtext.cal': 'cursive',\n",
       "          'mathtext.default': 'it',\n",
       "          'mathtext.fallback': 'cm',\n",
       "          'mathtext.fallback_to_cm': None,\n",
       "          'mathtext.fontset': 'dejavusans',\n",
       "          'mathtext.it': 'sans:italic',\n",
       "          'mathtext.rm': 'sans',\n",
       "          'mathtext.sf': 'sans',\n",
       "          'mathtext.tt': 'monospace',\n",
       "          'mpl_toolkits.legacy_colorbar': True,\n",
       "          'patch.antialiased': True,\n",
       "          'patch.edgecolor': 'black',\n",
       "          'patch.facecolor': 'C0',\n",
       "          'patch.force_edgecolor': False,\n",
       "          'patch.linewidth': 1.0,\n",
       "          'path.effects': [],\n",
       "          'path.simplify': True,\n",
       "          'path.simplify_threshold': 0.111111111111,\n",
       "          'path.sketch': None,\n",
       "          'path.snap': True,\n",
       "          'pcolor.shading': 'flat',\n",
       "          'pdf.compression': 6,\n",
       "          'pdf.fonttype': 3,\n",
       "          'pdf.inheritcolor': False,\n",
       "          'pdf.use14corefonts': False,\n",
       "          'pgf.preamble': '',\n",
       "          'pgf.rcfonts': True,\n",
       "          'pgf.texsystem': 'xelatex',\n",
       "          'polaraxes.grid': True,\n",
       "          'ps.distiller.res': 6000,\n",
       "          'ps.fonttype': 3,\n",
       "          'ps.papersize': 'letter',\n",
       "          'ps.useafm': False,\n",
       "          'ps.usedistiller': None,\n",
       "          'savefig.bbox': None,\n",
       "          'savefig.directory': '~',\n",
       "          'savefig.dpi': 'figure',\n",
       "          'savefig.edgecolor': 'auto',\n",
       "          'savefig.facecolor': 'auto',\n",
       "          'savefig.format': 'png',\n",
       "          'savefig.jpeg_quality': 95,\n",
       "          'savefig.orientation': 'portrait',\n",
       "          'savefig.pad_inches': 0.1,\n",
       "          'savefig.transparent': False,\n",
       "          'scatter.edgecolors': 'face',\n",
       "          'scatter.marker': 'o',\n",
       "          'svg.fonttype': 'path',\n",
       "          'svg.hashsalt': None,\n",
       "          'svg.image_inline': True,\n",
       "          'text.antialiased': True,\n",
       "          'text.color': 'black',\n",
       "          'text.hinting': 'force_autohint',\n",
       "          'text.hinting_factor': 8,\n",
       "          'text.kerning_factor': 0,\n",
       "          'text.latex.preamble': '',\n",
       "          'text.latex.preview': False,\n",
       "          'text.usetex': False,\n",
       "          'timezone': 'UTC',\n",
       "          'tk.window_focus': False,\n",
       "          'toolbar': 'toolbar2',\n",
       "          'webagg.address': '127.0.0.1',\n",
       "          'webagg.open_in_browser': True,\n",
       "          'webagg.port': 8988,\n",
       "          'webagg.port_retries': 50,\n",
       "          'xaxis.labellocation': 'center',\n",
       "          'xtick.alignment': 'center',\n",
       "          'xtick.bottom': True,\n",
       "          'xtick.color': 'black',\n",
       "          'xtick.direction': 'out',\n",
       "          'xtick.labelbottom': True,\n",
       "          'xtick.labelsize': 'medium',\n",
       "          'xtick.labeltop': False,\n",
       "          'xtick.major.bottom': True,\n",
       "          'xtick.major.pad': 3.5,\n",
       "          'xtick.major.size': 3.5,\n",
       "          'xtick.major.top': True,\n",
       "          'xtick.major.width': 0.8,\n",
       "          'xtick.minor.bottom': True,\n",
       "          'xtick.minor.pad': 3.4,\n",
       "          'xtick.minor.size': 2.0,\n",
       "          'xtick.minor.top': True,\n",
       "          'xtick.minor.visible': False,\n",
       "          'xtick.minor.width': 0.6,\n",
       "          'xtick.top': False,\n",
       "          'yaxis.labellocation': 'center',\n",
       "          'ytick.alignment': 'center_baseline',\n",
       "          'ytick.color': 'black',\n",
       "          'ytick.direction': 'out',\n",
       "          'ytick.labelleft': True,\n",
       "          'ytick.labelright': False,\n",
       "          'ytick.labelsize': 'medium',\n",
       "          'ytick.left': True,\n",
       "          'ytick.major.left': True,\n",
       "          'ytick.major.pad': 3.5,\n",
       "          'ytick.major.right': True,\n",
       "          'ytick.major.size': 3.5,\n",
       "          'ytick.major.width': 0.8,\n",
       "          'ytick.minor.left': True,\n",
       "          'ytick.minor.pad': 3.4,\n",
       "          'ytick.minor.right': True,\n",
       "          'ytick.minor.size': 2.0,\n",
       "          'ytick.minor.visible': False,\n",
       "          'ytick.minor.width': 0.6,\n",
       "          'ytick.right': False})"
      ]
     },
     "execution_count": 2,
     "metadata": {},
     "output_type": "execute_result"
    }
   ],
   "source": [
    "plt.rcParams"
   ]
  },
  {
   "cell_type": "code",
   "execution_count": 3,
   "metadata": {},
   "outputs": [],
   "source": [
    "\n",
    "def flatten(in_dict):\n",
    "    out_dict = {}\n",
    "    for k, v in in_dict.items():\n",
    "        if isinstance(v, dict):\n",
    "            v_flat = flatten(v)\n",
    "            out_dict.update({k+\".\"+v_k: v_v for v_k, v_v in v_flat.items()})\n",
    "        else:\n",
    "            out_dict[k] = v\n",
    "    return out_dict\n",
    "\n",
    "def collect_runs(base_log_dir, metrics_must_exist=True):\n",
    "    base_log_dir = Path(base_log_dir)\n",
    "    series_list = []\n",
    "    \n",
    "    for run in os.listdir(base_log_dir):\n",
    "        if run in [\"_sources\", \"jugdir\"]:\n",
    "            continue\n",
    "            \n",
    "        if metrics_must_exist and not os.path.exists(base_log_dir/run/\"metrics.h5\"):\n",
    "            continue\n",
    "            \n",
    "        try:\n",
    "            with open(base_log_dir/run/\"run.json\") as f:\n",
    "                s2 = pd.Series(flatten(json.load(f)))\n",
    "            with open(base_log_dir/run/\"config.json\") as f:\n",
    "                s1 = pd.Series(flatten(json.load(f)))\n",
    "        except FileNotFoundError:\n",
    "            continue\n",
    "\n",
    "        s2[\"the_dir\"] = base_log_dir/run\n",
    "        series_list.append(pd.concat([s1, s2]))\n",
    "        \n",
    "    return pd.DataFrame(series_list)\n",
    "\n",
    "\n",
    "def unique_cols(df, blacklist=set([\n",
    "     'heartbeat',\n",
    "     'log_dir',\n",
    "     'run_id',\n",
    "     'host.cpu',\n",
    "     'host.gpus.driver_version',\n",
    "     'host.hostname',\n",
    "     'host.python_version',\n",
    "     'start_time',\n",
    "     'status',\n",
    "     'stop_time',\n",
    "     'the_dir',\n",
    "     'result.acc_last',\n",
    "     'result.acc_mean',\n",
    "     'result.acc_std',\n",
    "     'result.acc_stderr',\n",
    "     'result.lp_ensemble',\n",
    "     'result.lp_ensemble_std',\n",
    "     'result.lp_ensemble_stderr',\n",
    "     'result.lp_last',\n",
    "     'result.lp_mean',\n",
    "     'result.lp_std',\n",
    "     'result.lp_stderr'])):\n",
    "\n",
    "    different_cols = []\n",
    "    for col in df:\n",
    "        if col in blacklist or col.startswith(\"meta.options\") or col.startswith(\"result.\"):\n",
    "            continue\n",
    "        try:\n",
    "            if len(df[col].unique()) > 1:\n",
    "                different_cols.append(col)\n",
    "\n",
    "        except TypeError:\n",
    "            pass\n",
    "    return different_cols"
   ]
  },
  {
   "cell_type": "markdown",
   "metadata": {},
   "source": [
    "# SGD runs for various data sets\n",
    "\n",
    "Run `eval_bnn.py` and construct the overall dataframe"
   ]
  },
  {
   "cell_type": "code",
   "execution_count": 4,
   "metadata": {},
   "outputs": [],
   "source": [
    "df = collect_runs(\"../logs/0_31_googleresnet_cifar10_sgd\")"
   ]
  },
  {
   "cell_type": "code",
   "execution_count": 5,
   "metadata": {},
   "outputs": [],
   "source": [
    "good_runs = df[(df[\"n_epochs\"] == 600) & (df[\"status\"] == \"COMPLETED\")]"
   ]
  },
  {
   "cell_type": "code",
   "execution_count": 6,
   "metadata": {},
   "outputs": [
    {
     "data": {
      "text/plain": [
       "Index(['lr', 'momentum', 'model', 'data', 'width', 'temperature',\n",
       "       'weight_decay', 'sampling_decay', 'n_epochs', 'status', 'the_dir',\n",
       "       'result.lp_ensemble', 'result.lp_last', 'result.acc_ensemble',\n",
       "       'result.acc_last', 'result.ece', 'result.ace', 'result.rmsce'],\n",
       "      dtype='object')"
      ]
     },
     "execution_count": 6,
     "metadata": {},
     "output_type": "execute_result"
    }
   ],
   "source": [
    "df.columns"
   ]
  },
  {
   "cell_type": "code",
   "execution_count": 7,
   "metadata": {
    "scrolled": true
   },
   "outputs": [],
   "source": [
    "def eval_bnn(**config):\n",
    "    args = [sys.executable, \"eval_bnn.py\", \"with\",\n",
    "                               *[f\"{k}={v}\" for k, v in config.items()]]\n",
    "    print(\" \".join(args))\n",
    "    complete = subprocess.run(args)\n",
    "    if complete.returncode != 0:\n",
    "        raise SystemError(f\"Process returned with code {complete.returncode}\")\n",
    "\n",
    "#for i, (_, run) in enumerate(good_runs.iterrows()):\n",
    "if False:\n",
    "    print(f\"run {i}/{len(good_runs)}\")\n",
    "    config_file = str(run[\"the_dir\"]/\"config.json\")\n",
    "    \n",
    "    calibration_data = {\n",
    "        \"mnist\": \"rotated_mnist\",\n",
    "        \"fashion_mnist\": \"fashion_mnist\",\n",
    "        \"cifar10\": \"cifar10c-gaussian_blur\",\n",
    "        \"cifar10_augmented\": \"cifar10c-gaussian_blur\",\n",
    "    }[run[\"data\"]]\n",
    "    \n",
    "    eval_bnn(is_run_sgd=True, calibration_eval=True, eval_data=calibration_data,\n",
    "             config_file=config_file, skip_first=2, batch_size=128)\n",
    "    \n",
    "    ood_data = {\n",
    "        \"mnist\": \"fashion_mnist\",\n",
    "        \"fashion_mnist\": \"mnist\",\n",
    "        \"cifar10\": \"svhn\",\n",
    "        \"cifar10_augmented\": \"svhn\",\n",
    "    }[run[\"data\"]]    \n",
    "    \n",
    "    eval_bnn(is_run_sgd=True, ood_eval=True, eval_data=ood_data,\n",
    "             config_file=config_file, skip_first=2, batch_size=128)"
   ]
  },
  {
   "cell_type": "code",
   "execution_count": 8,
   "metadata": {},
   "outputs": [],
   "source": [
    "runs_with_eval = []\n",
    "\n",
    "for _, run in good_runs.iterrows():\n",
    "    corresponding = collect_runs(run[\"the_dir\"]/\"eval\", metrics_must_exist=False)\n",
    "    \n",
    "    new_run = [run]\n",
    "    for _, corr in corresponding.iterrows():\n",
    "        orig_keys = [k for k in corr.index if k.startswith(\"result.\")]\n",
    "        if corr[\"calibration_eval\"]:\n",
    "            purpose = \"calibration\"\n",
    "            assert not corr[\"ood_eval\"]\n",
    "        elif corr[\"ood_eval\"]:\n",
    "            purpose = \"ood\"\n",
    "        else:\n",
    "            raise ValueError(\"unknown purpose\")\n",
    "        new_keys = [k.replace(\"result.\", purpose+\".\") for k in orig_keys]\n",
    "        for k in new_keys:\n",
    "            assert k not in run.index\n",
    "\n",
    "        new_corr = corr[orig_keys]\n",
    "        new_corr.index = new_keys\n",
    "        new_run.append(new_corr)\n",
    "    runs_with_eval.append(pd.concat(new_run))\n",
    "runs_with_eval = pd.DataFrame(runs_with_eval)"
   ]
  },
  {
   "cell_type": "code",
   "execution_count": 9,
   "metadata": {},
   "outputs": [],
   "source": [
    "runs_with_eval.to_pickle(\"4.1_sgd_runs.pkl.gz\")"
   ]
  },
  {
   "cell_type": "code",
   "execution_count": 10,
   "metadata": {
    "scrolled": true
   },
   "outputs": [
    {
     "data": {
      "text/plain": [
       "0.023595474550117807"
      ]
     },
     "execution_count": 10,
     "metadata": {},
     "output_type": "execute_result"
    }
   ],
   "source": [
    "df = runs_with_eval\n",
    "df[(df[\"model\"] == \"classificationdensenet\") & (df[\"data\"] == \"fashion_mnist\")][\"ood.auroc\"].std()"
   ]
  },
  {
   "cell_type": "code",
   "execution_count": 11,
   "metadata": {},
   "outputs": [],
   "source": [
    "result_cols = [c for c in df.columns if c.startswith(\"result.\")]\n",
    "\n",
    "# df[[*unique_cols(df), *result_cols]]"
   ]
  },
  {
   "cell_type": "code",
   "execution_count": 12,
   "metadata": {},
   "outputs": [
    {
     "data": {
      "text/html": [
       "<div>\n",
       "<style scoped>\n",
       "    .dataframe tbody tr th:only-of-type {\n",
       "        vertical-align: middle;\n",
       "    }\n",
       "\n",
       "    .dataframe tbody tr th {\n",
       "        vertical-align: top;\n",
       "    }\n",
       "\n",
       "    .dataframe thead th {\n",
       "        text-align: right;\n",
       "    }\n",
       "</style>\n",
       "<table border=\"1\" class=\"dataframe\">\n",
       "  <thead>\n",
       "    <tr style=\"text-align: right;\">\n",
       "      <th></th>\n",
       "      <th>calibration.acc_ensemble</th>\n",
       "      <th>calibration.acc_last</th>\n",
       "      <th>calibration.ace</th>\n",
       "      <th>calibration.ece</th>\n",
       "      <th>calibration.lp_ensemble</th>\n",
       "      <th>calibration.lp_last</th>\n",
       "      <th>calibration.rmsce</th>\n",
       "      <th>ood.acc_ensemble</th>\n",
       "      <th>ood.acc_last</th>\n",
       "      <th>ood.lp_ensemble</th>\n",
       "      <th>ood.lp_last</th>\n",
       "      <th>ood.auprc</th>\n",
       "      <th>ood.auroc</th>\n",
       "    </tr>\n",
       "  </thead>\n",
       "  <tbody>\n",
       "    <tr>\n",
       "      <th>12</th>\n",
       "      <td>0.57992</td>\n",
       "      <td>0.57808</td>\n",
       "      <td>0.070301</td>\n",
       "      <td>0.339098</td>\n",
       "      <td>-3.698604</td>\n",
       "      <td>-5.166851</td>\n",
       "      <td>0.017816</td>\n",
       "      <td>0.111593</td>\n",
       "      <td>0.112208</td>\n",
       "      <td>-14.327375</td>\n",
       "      <td>-18.859972</td>\n",
       "      <td>0.812479</td>\n",
       "      <td>0.850937</td>\n",
       "    </tr>\n",
       "    <tr>\n",
       "      <th>19</th>\n",
       "      <td>0.60062</td>\n",
       "      <td>0.60092</td>\n",
       "      <td>0.066438</td>\n",
       "      <td>0.310371</td>\n",
       "      <td>-3.296371</td>\n",
       "      <td>-4.026644</td>\n",
       "      <td>0.016069</td>\n",
       "      <td>0.112093</td>\n",
       "      <td>0.111670</td>\n",
       "      <td>-13.750171</td>\n",
       "      <td>-18.311346</td>\n",
       "      <td>0.788291</td>\n",
       "      <td>0.857452</td>\n",
       "    </tr>\n",
       "    <tr>\n",
       "      <th>28</th>\n",
       "      <td>0.58688</td>\n",
       "      <td>0.59300</td>\n",
       "      <td>0.069103</td>\n",
       "      <td>0.328934</td>\n",
       "      <td>-3.722222</td>\n",
       "      <td>-4.910019</td>\n",
       "      <td>0.017433</td>\n",
       "      <td>0.109096</td>\n",
       "      <td>0.108789</td>\n",
       "      <td>-13.546185</td>\n",
       "      <td>-17.383140</td>\n",
       "      <td>0.822754</td>\n",
       "      <td>0.866951</td>\n",
       "    </tr>\n",
       "    <tr>\n",
       "      <th>31</th>\n",
       "      <td>0.62360</td>\n",
       "      <td>0.61988</td>\n",
       "      <td>0.062100</td>\n",
       "      <td>0.295627</td>\n",
       "      <td>-3.221409</td>\n",
       "      <td>-4.042280</td>\n",
       "      <td>0.015735</td>\n",
       "      <td>0.121351</td>\n",
       "      <td>0.120698</td>\n",
       "      <td>-14.441580</td>\n",
       "      <td>-17.357203</td>\n",
       "      <td>0.829252</td>\n",
       "      <td>0.872803</td>\n",
       "    </tr>\n",
       "    <tr>\n",
       "      <th>33</th>\n",
       "      <td>0.59562</td>\n",
       "      <td>0.59636</td>\n",
       "      <td>0.066751</td>\n",
       "      <td>0.317080</td>\n",
       "      <td>-3.818526</td>\n",
       "      <td>-4.744672</td>\n",
       "      <td>0.016639</td>\n",
       "      <td>0.128150</td>\n",
       "      <td>0.128380</td>\n",
       "      <td>-14.503687</td>\n",
       "      <td>-17.094838</td>\n",
       "      <td>0.802936</td>\n",
       "      <td>0.865113</td>\n",
       "    </tr>\n",
       "    <tr>\n",
       "      <th>37</th>\n",
       "      <td>0.62906</td>\n",
       "      <td>0.62604</td>\n",
       "      <td>0.061356</td>\n",
       "      <td>0.292350</td>\n",
       "      <td>-3.127157</td>\n",
       "      <td>-3.934229</td>\n",
       "      <td>0.015735</td>\n",
       "      <td>0.112861</td>\n",
       "      <td>0.112976</td>\n",
       "      <td>-12.441857</td>\n",
       "      <td>-15.471169</td>\n",
       "      <td>0.839574</td>\n",
       "      <td>0.872455</td>\n",
       "    </tr>\n",
       "    <tr>\n",
       "      <th>41</th>\n",
       "      <td>0.58856</td>\n",
       "      <td>0.58854</td>\n",
       "      <td>0.067116</td>\n",
       "      <td>0.319498</td>\n",
       "      <td>-3.133624</td>\n",
       "      <td>-4.129319</td>\n",
       "      <td>0.016887</td>\n",
       "      <td>0.110479</td>\n",
       "      <td>0.110633</td>\n",
       "      <td>-12.430272</td>\n",
       "      <td>-15.962485</td>\n",
       "      <td>0.825453</td>\n",
       "      <td>0.875109</td>\n",
       "    </tr>\n",
       "    <tr>\n",
       "      <th>45</th>\n",
       "      <td>0.59692</td>\n",
       "      <td>0.59304</td>\n",
       "      <td>0.067098</td>\n",
       "      <td>0.313685</td>\n",
       "      <td>-3.678192</td>\n",
       "      <td>-4.397396</td>\n",
       "      <td>0.016606</td>\n",
       "      <td>0.112784</td>\n",
       "      <td>0.113360</td>\n",
       "      <td>-12.673069</td>\n",
       "      <td>-15.458246</td>\n",
       "      <td>0.838132</td>\n",
       "      <td>0.878780</td>\n",
       "    </tr>\n",
       "    <tr>\n",
       "      <th>47</th>\n",
       "      <td>0.63326</td>\n",
       "      <td>0.62900</td>\n",
       "      <td>0.060622</td>\n",
       "      <td>0.284013</td>\n",
       "      <td>-2.971198</td>\n",
       "      <td>-3.680176</td>\n",
       "      <td>0.014833</td>\n",
       "      <td>0.112477</td>\n",
       "      <td>0.111862</td>\n",
       "      <td>-10.273316</td>\n",
       "      <td>-13.039008</td>\n",
       "      <td>0.854017</td>\n",
       "      <td>0.892781</td>\n",
       "    </tr>\n",
       "    <tr>\n",
       "      <th>57</th>\n",
       "      <td>0.59296</td>\n",
       "      <td>0.59576</td>\n",
       "      <td>0.067770</td>\n",
       "      <td>0.317320</td>\n",
       "      <td>-4.211191</td>\n",
       "      <td>-4.721933</td>\n",
       "      <td>0.016419</td>\n",
       "      <td>0.115781</td>\n",
       "      <td>0.117893</td>\n",
       "      <td>-16.807369</td>\n",
       "      <td>-19.767828</td>\n",
       "      <td>0.847471</td>\n",
       "      <td>0.887134</td>\n",
       "    </tr>\n",
       "  </tbody>\n",
       "</table>\n",
       "</div>"
      ],
      "text/plain": [
       "    calibration.acc_ensemble  calibration.acc_last  calibration.ace  \\\n",
       "12                   0.57992               0.57808         0.070301   \n",
       "19                   0.60062               0.60092         0.066438   \n",
       "28                   0.58688               0.59300         0.069103   \n",
       "31                   0.62360               0.61988         0.062100   \n",
       "33                   0.59562               0.59636         0.066751   \n",
       "37                   0.62906               0.62604         0.061356   \n",
       "41                   0.58856               0.58854         0.067116   \n",
       "45                   0.59692               0.59304         0.067098   \n",
       "47                   0.63326               0.62900         0.060622   \n",
       "57                   0.59296               0.59576         0.067770   \n",
       "\n",
       "    calibration.ece  calibration.lp_ensemble  calibration.lp_last  \\\n",
       "12         0.339098                -3.698604            -5.166851   \n",
       "19         0.310371                -3.296371            -4.026644   \n",
       "28         0.328934                -3.722222            -4.910019   \n",
       "31         0.295627                -3.221409            -4.042280   \n",
       "33         0.317080                -3.818526            -4.744672   \n",
       "37         0.292350                -3.127157            -3.934229   \n",
       "41         0.319498                -3.133624            -4.129319   \n",
       "45         0.313685                -3.678192            -4.397396   \n",
       "47         0.284013                -2.971198            -3.680176   \n",
       "57         0.317320                -4.211191            -4.721933   \n",
       "\n",
       "    calibration.rmsce  ood.acc_ensemble  ood.acc_last  ood.lp_ensemble  \\\n",
       "12           0.017816          0.111593      0.112208       -14.327375   \n",
       "19           0.016069          0.112093      0.111670       -13.750171   \n",
       "28           0.017433          0.109096      0.108789       -13.546185   \n",
       "31           0.015735          0.121351      0.120698       -14.441580   \n",
       "33           0.016639          0.128150      0.128380       -14.503687   \n",
       "37           0.015735          0.112861      0.112976       -12.441857   \n",
       "41           0.016887          0.110479      0.110633       -12.430272   \n",
       "45           0.016606          0.112784      0.113360       -12.673069   \n",
       "47           0.014833          0.112477      0.111862       -10.273316   \n",
       "57           0.016419          0.115781      0.117893       -16.807369   \n",
       "\n",
       "    ood.lp_last  ood.auprc  ood.auroc  \n",
       "12   -18.859972   0.812479   0.850937  \n",
       "19   -18.311346   0.788291   0.857452  \n",
       "28   -17.383140   0.822754   0.866951  \n",
       "31   -17.357203   0.829252   0.872803  \n",
       "33   -17.094838   0.802936   0.865113  \n",
       "37   -15.471169   0.839574   0.872455  \n",
       "41   -15.962485   0.825453   0.875109  \n",
       "45   -15.458246   0.838132   0.878780  \n",
       "47   -13.039008   0.854017   0.892781  \n",
       "57   -19.767828   0.847471   0.887134  "
      ]
     },
     "execution_count": 12,
     "metadata": {},
     "output_type": "execute_result"
    }
   ],
   "source": [
    "selected_df = df[(df[\"model\"] == \"googleresnet\") &\n",
    "    (df[\"sampling_decay\"] == \"stairs\") & (\n",
    "    df[\"weight_decay\"] == 0.0) & (df[\"data\"] == \"cifar10_augmented\") & (df[\"n_epochs\"] == 600)]\n",
    "\n",
    "selected_df[unique_cols(selected_df)]"
   ]
  },
  {
   "cell_type": "code",
   "execution_count": 13,
   "metadata": {},
   "outputs": [
    {
     "data": {
      "text/plain": [
       "result.lp_ensemble    NaN\n",
       "result.lp_last        NaN\n",
       "result.acc_ensemble   NaN\n",
       "result.acc_last       NaN\n",
       "result.ece            NaN\n",
       "result.ace            NaN\n",
       "result.rmsce          NaN\n",
       "dtype: float64"
      ]
     },
     "execution_count": 13,
     "metadata": {},
     "output_type": "execute_result"
    }
   ],
   "source": [
    "df[(df[\"lr\"] == 0.1) & (df[\"sampling_decay\"] == \"stairs2\") & (\n",
    "    df[\"weight_decay\"] == 0.002) ][result_cols].mean()"
   ]
  },
  {
   "cell_type": "code",
   "execution_count": 14,
   "metadata": {},
   "outputs": [
    {
     "data": {
      "text/plain": [
       "result.lp_ensemble    -0.139037\n",
       "result.lp_last        -0.139228\n",
       "result.acc_ensemble    0.980150\n",
       "result.acc_last        0.980150\n",
       "result.ece             0.015937\n",
       "result.ace             0.002136\n",
       "result.rmsce           0.005417\n",
       "dtype: float64"
      ]
     },
     "execution_count": 14,
     "metadata": {},
     "output_type": "execute_result"
    }
   ],
   "source": [
    "df[(df[\"data\"] == \"mnist\") & (df[\"model\"] == \"classificationdensenet\")][result_cols].mean()"
   ]
  },
  {
   "cell_type": "code",
   "execution_count": 15,
   "metadata": {},
   "outputs": [
    {
     "data": {
      "text/plain": [
       "result.lp_ensemble    -0.056233\n",
       "result.lp_last        -0.056345\n",
       "result.acc_ensemble    0.990860\n",
       "result.acc_last        0.990850\n",
       "result.ece             0.007469\n",
       "result.ace             0.000750\n",
       "result.rmsce           0.003355\n",
       "dtype: float64"
      ]
     },
     "execution_count": 15,
     "metadata": {},
     "output_type": "execute_result"
    }
   ],
   "source": [
    "df[(df[\"data\"] == \"mnist\") & (df[\"model\"] == \"classificationconvnet\")][result_cols].mean()"
   ]
  },
  {
   "cell_type": "code",
   "execution_count": 16,
   "metadata": {},
   "outputs": [
    {
     "data": {
      "text/plain": [
       "result.lp_ensemble     2.249626\n",
       "result.lp_last         2.267479\n",
       "result.acc_ensemble    0.163700\n",
       "result.acc_last        0.163770\n",
       "result.ece             0.869031\n",
       "result.ace             0.974145\n",
       "result.rmsce           0.980767\n",
       "dtype: float64"
      ]
     },
     "execution_count": 16,
     "metadata": {},
     "output_type": "execute_result"
    }
   ],
   "source": [
    "1 - df[(df[\"data\"] == \"cifar10\") & (df[\"model\"] == \"googleresnet\")][result_cols].mean()"
   ]
  },
  {
   "cell_type": "code",
   "execution_count": 17,
   "metadata": {},
   "outputs": [
    {
     "data": {
      "text/plain": [
       "result.lp_ensemble    NaN\n",
       "result.lp_last        NaN\n",
       "result.acc_ensemble   NaN\n",
       "result.acc_last       NaN\n",
       "result.ece            NaN\n",
       "result.ace            NaN\n",
       "result.rmsce          NaN\n",
       "dtype: float64"
      ]
     },
     "execution_count": 17,
     "metadata": {},
     "output_type": "execute_result"
    }
   ],
   "source": [
    "df[(df[\"data\"] == 0.1) & (df[\"sampling_decay\"] == \"stairs2\") & (\n",
    "    df[\"weight_decay\"] == 0) ][result_cols].mean()"
   ]
  },
  {
   "cell_type": "markdown",
   "metadata": {},
   "source": [
    "# Get the lengthscales and df's from each layer"
   ]
  },
  {
   "cell_type": "code",
   "execution_count": 18,
   "metadata": {},
   "outputs": [],
   "source": [
    "import pickle\n",
    "\n",
    "def collect_weights(df):\n",
    "    samples = collections.defaultdict( lambda: [], {})\n",
    "    for _, row in df.iterrows():\n",
    "        try:\n",
    "            s = load_samples(row[\"the_dir\"]/\"samples.pt\", idx=-1, keep_steps=False)\n",
    "        except pickle.UnpicklingError:\n",
    "            continue\n",
    "        assert len(samples.keys()) == 0 or set(s.keys()) == set(samples.keys())\n",
    "        for k in s.keys():\n",
    "            samples[k].append(s[k])\n",
    "    return {k: torch.stack(v, dim=0) for k, v in samples.items()}"
   ]
  },
  {
   "cell_type": "code",
   "execution_count": 19,
   "metadata": {},
   "outputs": [],
   "source": [
    "samples = collect_weights(good_runs[good_runs[\"data\"] == \"cifar10_augmented\"])"
   ]
  },
  {
   "cell_type": "code",
   "execution_count": 20,
   "metadata": {},
   "outputs": [
    {
     "data": {
      "text/plain": [
       "torch.Size([10, 16, 3, 3, 3])"
      ]
     },
     "execution_count": 20,
     "metadata": {},
     "output_type": "execute_result"
    }
   ],
   "source": [
    "samples['net.module.0.weight_prior.p'].shape"
   ]
  },
  {
   "cell_type": "code",
   "execution_count": 21,
   "metadata": {},
   "outputs": [
    {
     "name": "stdout",
     "output_type": "stream",
     "text": [
      "net.module.0.weight_prior.p (10, 16, 3, 3, 3)\n",
      "net.module.10.main.0.weight_prior.p (10, 64, 64, 3, 3)\n",
      "net.module.10.main.3.weight_prior.p (10, 64, 64, 3, 3)\n",
      "net.module.11.main.0.weight_prior.p (10, 64, 64, 3, 3)\n",
      "net.module.11.main.3.weight_prior.p (10, 64, 64, 3, 3)\n",
      "net.module.14.bias_prior.p (10, 10)\n",
      "net.module.14.weight_prior.p (10, 10, 64)\n",
      "net.module.3.main.0.weight_prior.p (10, 16, 16, 3, 3)\n",
      "net.module.3.main.3.weight_prior.p (10, 16, 16, 3, 3)\n",
      "net.module.4.main.0.weight_prior.p (10, 16, 16, 3, 3)\n",
      "net.module.4.main.3.weight_prior.p (10, 16, 16, 3, 3)\n",
      "net.module.5.main.0.weight_prior.p (10, 16, 16, 3, 3)\n",
      "net.module.5.main.3.weight_prior.p (10, 16, 16, 3, 3)\n",
      "net.module.6.main.0.weight_prior.p (10, 32, 16, 3, 3)\n",
      "net.module.6.main.3.weight_prior.p (10, 32, 32, 3, 3)\n",
      "net.module.6.shortcut.0.weight_prior.p (10, 32, 16, 1, 1)\n",
      "net.module.7.main.0.weight_prior.p (10, 32, 32, 3, 3)\n",
      "net.module.7.main.3.weight_prior.p (10, 32, 32, 3, 3)\n",
      "net.module.8.main.0.weight_prior.p (10, 32, 32, 3, 3)\n",
      "net.module.8.main.3.weight_prior.p (10, 32, 32, 3, 3)\n",
      "net.module.9.main.0.weight_prior.p (10, 64, 32, 3, 3)\n",
      "net.module.9.main.3.weight_prior.p (10, 64, 64, 3, 3)\n",
      "net.module.9.shortcut.0.weight_prior.p (10, 64, 32, 1, 1)\n"
     ]
    }
   ],
   "source": [
    "for k in samples.keys():\n",
    "    if k.endswith(\".p\"):\n",
    "        print(k, tuple(samples[k].shape))"
   ]
  },
  {
   "cell_type": "code",
   "execution_count": 22,
   "metadata": {},
   "outputs": [],
   "source": [
    "conv_keys = [\"net.module.0.weight_prior.p\", *filter(\n",
    "    lambda k: k.endswith(\".p\") and \"main\" in k, samples.keys())]\n",
    "conv_keys.sort(key=lambda k: (int(k.split('.')[2]), k))"
   ]
  },
  {
   "cell_type": "code",
   "execution_count": 23,
   "metadata": {},
   "outputs": [],
   "source": [
    "covs = {}\n",
    "lens = {}\n",
    "for k in conv_keys:\n",
    "    M = samples[k].view(-1, 3*3)\n",
    "    covs[k] = (M.t() @ M)\n",
    "    lens[k] = len(M)"
   ]
  },
  {
   "cell_type": "code",
   "execution_count": 24,
   "metadata": {},
   "outputs": [],
   "source": [
    "points = torch.from_numpy(np.mgrid[:3, :3].reshape(2, -1).T).contiguous().to(torch.float64)\n"
   ]
  },
  {
   "cell_type": "code",
   "execution_count": 25,
   "metadata": {},
   "outputs": [],
   "source": [
    "import gpytorch\n",
    "import math\n",
    "torch.set_default_dtype(torch.float64)\n",
    "kern = gpytorch.kernels.RBFKernel(batch_shape=torch.Size([1000]))\n",
    "kern.lengthscale = torch.linspace(0.001**.5, 30**.5, 1000).unsqueeze(-1).pow(2)"
   ]
  },
  {
   "cell_type": "code",
   "execution_count": 26,
   "metadata": {},
   "outputs": [],
   "source": [
    "S_inverse = kern(points).inv_matmul(torch.eye(9))\n",
    "S_logdet = kern(points).logdet()"
   ]
  },
  {
   "cell_type": "code",
   "execution_count": 27,
   "metadata": {},
   "outputs": [],
   "source": [
    "log_liks = {}\n",
    "opt_lengthscale = {}\n",
    "for k in covs.keys():\n",
    "    with torch.no_grad():\n",
    "        log_liks[k] = S_logdet.mul(lens[k] / -2) - 0.5 * S_inverse.mul(covs[k]).sum((-2, -1))\n",
    "        opt_lengthscale[k] = kern.lengthscale[torch.argmax(log_liks[k])].item()"
   ]
  },
  {
   "cell_type": "code",
   "execution_count": 28,
   "metadata": {},
   "outputs": [
    {
     "data": {
      "text/plain": [
       "(-10000.0, 0.0)"
      ]
     },
     "execution_count": 28,
     "metadata": {},
     "output_type": "execute_result"
    },
    {
     "data": {
      "image/png": "[encoded data removed]",
      "text/plain": [
       "<Figure size 432x288 with 1 Axes>"
      ]
     },
     "metadata": {
      "needs_background": "light"
     },
     "output_type": "display_data"
    }
   ],
   "source": [
    "k = next(iter(log_liks.keys()))\n",
    "\n",
    "plt.plot(kern.lengthscale.squeeze(-1).detach(), log_liks[k])\n",
    "plt.ylim((-10000, 0))"
   ]
  },
  {
   "cell_type": "code",
   "execution_count": 29,
   "metadata": {},
   "outputs": [
    {
     "data": {
      "text/plain": [
       "[<matplotlib.lines.Line2D at 0x7fa8f80ff190>]"
      ]
     },
     "execution_count": 29,
     "metadata": {},
     "output_type": "execute_result"
    },
    {
     "data": {
      "image/png": "[encoded data removed]",
      "text/plain": [
       "<Figure size 432x288 with 1 Axes>"
      ]
     },
     "metadata": {
      "needs_background": "light"
     },
     "output_type": "display_data"
    }
   ],
   "source": [
    "plt.plot(np.arange(len(conv_keys)), [opt_lengthscale[k] for k in conv_keys])"
   ]
  },
  {
   "cell_type": "code",
   "execution_count": 30,
   "metadata": {},
   "outputs": [
    {
     "data": {
      "text/plain": [
       "(tensor(-5513.4573, grad_fn=<SumBackward0>), tensor(-5513.4573))"
      ]
     },
     "execution_count": 30,
     "metadata": {},
     "output_type": "execute_result"
    }
   ],
   "source": [
    "# check that log-likelihoods aren't buggy\n",
    "dist = gpytorch.distributions.MultivariateNormal(torch.zeros(9), kern[100](points))\n",
    "dist.log_prob(samples[k].view(-1, 9)).sum(), log_liks[k][100] - math.log(2*math.pi) * 9 * lens[k]/2"
   ]
  },
  {
   "cell_type": "markdown",
   "metadata": {},
   "source": [
    "# Get max df of multivariate-T"
   ]
  },
  {
   "cell_type": "code",
   "execution_count": 31,
   "metadata": {},
   "outputs": [],
   "source": [
    "class MVTFitter(torch.nn.Module):\n",
    "    def __init__(self, p, df, permute=None, event_dim=2):\n",
    "        flat_p = p.view(-1, 9)\n",
    "        cov = (flat_p.t() @ flat_p) / len(flat_p)\n",
    "        \n",
    "        super().__init__()\n",
    "        self.dist = prior.MultivariateT(\n",
    "            p.size(), torch.zeros(9), cov.cholesky().detach().to(torch.get_default_dtype()),\n",
    "            df=torch.nn.Parameter(torch.tensor(df, requires_grad=True)),\n",
    "            event_dim=event_dim, permute=permute)\n",
    "        \n",
    "        self.dist.p.requires_grad_(False)\n",
    "        self.dist.p[...] = p\n",
    "        \n",
    "    def closure(self):\n",
    "        self.zero_grad()\n",
    "        lp = -self.dist.log_prob()\n",
    "        lp.backward()\n",
    "        return lp"
   ]
  },
  {
   "cell_type": "code",
   "execution_count": 32,
   "metadata": {
    "scrolled": true
   },
   "outputs": [],
   "source": [
    "opt_dfs = {}\n",
    "\n",
    "try_df_inits = torch.linspace(math.log(2.1), math.log(1000), 300).exp()\n",
    "\n",
    "for key in conv_keys:\n",
    "    max_lik = -np.inf\n",
    "    \n",
    "    for permute, event_dim in [(None, 2), (None, 3), (None, 4), ((0, 2, 1, 3, 4), 3)]:\n",
    "        mvt = MVTFitter(samples[key], 3., permute=permute, event_dim=event_dim).cuda()\n",
    "        for df_init in try_df_inits:\n",
    "            with torch.no_grad():\n",
    "                mvt.dist.df[...] = df_init\n",
    "\n",
    "            lik = mvt.dist.log_prob().item()\n",
    "            df = mvt.dist.df.item()\n",
    "            if np.isnan(lik) or np.isnan(df):\n",
    "                print(\"key\", key, \"saw a nan with lik\", lik)\n",
    "\n",
    "            if lik > max_lik:\n",
    "                opt_dfs[key] = (lik, df, (permute, event_dim))\n",
    "                max_lik = lik"
   ]
  },
  {
   "cell_type": "code",
   "execution_count": 33,
   "metadata": {
    "scrolled": true
   },
   "outputs": [
    {
     "data": {
      "text/plain": [
       "{'net.module.0.weight_prior.p': (-4112.993846305028,\n",
       "  6.011245966063856,\n",
       "  (None, 3)),\n",
       " 'net.module.3.main.0.weight_prior.p': (-3222.278865661859,\n",
       "  5.097041764391427,\n",
       "  (None, 2)),\n",
       " 'net.module.3.main.3.weight_prior.p': (-3408.6396281560174,\n",
       "  6.9447244207846515,\n",
       "  (None, 2)),\n",
       " 'net.module.4.main.0.weight_prior.p': (-2008.4077003764319,\n",
       "  6.802980537736434,\n",
       "  (None, 2)),\n",
       " 'net.module.4.main.3.weight_prior.p': (-666.6245776566849,\n",
       "  8.535184234833107,\n",
       "  (None, 2)),\n",
       " 'net.module.5.main.0.weight_prior.p': (-4561.387973894467,\n",
       "  5.768367509654538,\n",
       "  (None, 2)),\n",
       " 'net.module.5.main.3.weight_prior.p': (2428.525077553126,\n",
       "  15.844792250684804,\n",
       "  (None, 3)),\n",
       " 'net.module.6.main.0.weight_prior.p': (5952.406233850634,\n",
       "  6.264350876402998,\n",
       "  (None, 2)),\n",
       " 'net.module.6.main.3.weight_prior.p': (14278.932825181124,\n",
       "  16.51194091580221,\n",
       "  (None, 2)),\n",
       " 'net.module.7.main.0.weight_prior.p': (14380.752107462999,\n",
       "  33.982139380106915,\n",
       "  ((0, 2, 1, 3, 4), 3)),\n",
       " 'net.module.7.main.3.weight_prior.p': (31983.19689334691,\n",
       "  61.7971686982526,\n",
       "  (None, 3)),\n",
       " 'net.module.8.main.0.weight_prior.p': (22339.614740765057,\n",
       "  14.894268696601973,\n",
       "  (None, 2)),\n",
       " 'net.module.8.main.3.weight_prior.p': (48795.605454744444,\n",
       "  68.50898282385658,\n",
       "  (None, 3)),\n",
       " 'net.module.9.main.0.weight_prior.p': (107838.11160960098,\n",
       "  176.89427669120886,\n",
       "  ((0, 2, 1, 3, 4), 3)),\n",
       " 'net.module.9.main.3.weight_prior.p': (106757.2631735626,\n",
       "  99.3005626025361,\n",
       "  ((0, 2, 1, 3, 4), 3)),\n",
       " 'net.module.10.main.0.weight_prior.p': (121434.1508693131,\n",
       "  85.95302998429463,\n",
       "  ((0, 2, 1, 3, 4), 3)),\n",
       " 'net.module.10.main.3.weight_prior.p': (203662.85661748712,\n",
       "  67.1106941862147,\n",
       "  (None, 3)),\n",
       " 'net.module.11.main.0.weight_prior.p': (268671.03622339456,\n",
       "  36.15081409364197,\n",
       "  (None, 3)),\n",
       " 'net.module.11.main.3.weight_prior.p': (519471.9006328897,\n",
       "  41.764626316189975,\n",
       "  (None, 3))}"
      ]
     },
     "execution_count": 33,
     "metadata": {},
     "output_type": "execute_result"
    }
   ],
   "source": [
    "opt_dfs"
   ]
  },
  {
   "cell_type": "code",
   "execution_count": 34,
   "metadata": {},
   "outputs": [
    {
     "data": {
      "image/png": "[encoded data removed]",
      "text/plain": [
       "<Figure size 648x165.6 with 2 Axes>"
      ]
     },
     "metadata": {
      "needs_background": "light"
     },
     "output_type": "display_data"
    }
   ],
   "source": [
    "fig, axes = plt.subplots(1, 2, figsize=(9, 2.3), sharex=True)\n",
    "\n",
    "ax = axes[1]\n",
    "ax.set_title(\"Degrees of freedom\")\n",
    "ax.plot([opt_dfs[k][1] for k in conv_keys])\n",
    "ax.set_xticks([1, 7, 13, 18])\n",
    "ax.set_xticklabels([\"*L2\", \"*L8\", \"*L14\", \"L19\"])\n",
    "ax.set_yscale('log')\n",
    "\n",
    "ax = axes[0] \n",
    "ax.set_title(\"Lengthscale\")\n",
    "ax.plot([opt_lengthscale[k] for k in conv_keys])\n",
    "\n",
    "fig.text(0.5, 0, 'Layer index (input = L0)', ha='center')\n",
    "#fig.suptitle(\"ResNet-20, CIFAR-10 SGD: fitted parameters for T-distribution and Gaussian\")\n",
    "fig.tight_layout()\n",
    "fig.savefig(\"../figures/210122_resnet_fitted.pdf\", bbox_inches=\"tight\")"
   ]
  },
  {
   "cell_type": "code",
   "execution_count": 42,
   "metadata": {},
   "outputs": [
    {
     "data": {
      "image/png": "[encoded data removed]",
      "text/plain": [
       "<Figure size 975x510 with 1 Axes>"
      ]
     },
     "metadata": {
      "needs_background": "light"
     },
     "output_type": "display_data"
    }
   ],
   "source": [
    "plt.rcParams.update({\n",
    "    \"axes.linewidth\": 0.5,\n",
    "    'ytick.major.width': 0.5,\n",
    "    'xtick.major.width': 0.5,\n",
    "    'ytick.minor.width': 0.5,\n",
    "    'xtick.minor.width': 0.5,\n",
    "    \"figure.dpi\": 300,\n",
    "})\n",
    "fig_width_pt = 234.8775\n",
    "inches_per_pt = 1.0/72.27               # Convert pt to inches\n",
    "fig_width = fig_width_pt*inches_per_pt  # width in inches\n",
    "\n",
    "fig, axes = plt.subplots(1, 1, figsize=(fig_width, 1.7), sharex=True)\n",
    "\n",
    "ax = axes\n",
    "ax.set_ylabel(\"Degrees of freedom\", horizontalalignment=\"right\", position=(0, 1))\n",
    "ax.plot([opt_dfs[k][1] for k in conv_keys])\n",
    "ax.set_xticks([1, 7, 13, 18])\n",
    "ax.set_xticklabels([\"*L2\", \"*L8\", \"*L14\", \"L19\"])\n",
    "ax.set_yscale('log')\n",
    "ax.set_xlabel('Layer index (input = L0)')\n",
    "\n",
    "fig.tight_layout()\n",
    "fig.savefig(\"../figures/210126-resnet-dof.pdf\")"
   ]
  },
  {
   "cell_type": "markdown",
   "metadata": {},
   "source": [
    "# Plot covariance matrices of every layer"
   ]
  },
  {
   "cell_type": "code",
   "execution_count": 40,
   "metadata": {},
   "outputs": [
    {
     "data": {
      "image/png": "[encoded data removed]",
      "text/plain": [
       "<Figure size 1800x1200 with 172 Axes>"
      ]
     },
     "metadata": {
      "needs_background": "light"
     },
     "output_type": "display_data"
    }
   ],
   "source": [
    "plt.rcParams.update({\n",
    "    \"text.usetex\": False,\n",
    "    \"font.family\": \"sans-serif\"})\n",
    "\n",
    "fig = plt.figure()\n",
    "\n",
    "mean_covs = {k: covs[k]/lens[k] * samples[k].size(-3) for k in conv_keys}\n",
    "\n",
    "plots_x = 5\n",
    "plots_y = 4\n",
    "\n",
    "wsep = -0.04\n",
    "hsep = 0.01\n",
    "w_cov_sep = 0.05\n",
    "h_cov_sep = 0.1\n",
    "width = height = (1 - w_cov_sep*(plots_x-1) - wsep*3*plots_x)/plots_x / 2\n",
    "ttl_marg=12\n",
    "\n",
    "\n",
    "extreme = max(*(mean_covs[key].abs().max().item() for k in mean_covs.keys()))  #1.68\n",
    "assert extreme < 1.7\n",
    "extreme = 1.7\n",
    "norm = Normalize(-extreme, extreme)\n",
    "    \n",
    "def plot_at(key, base_bottom, base_left, is_bottom_row=False, is_left_col=False, title=\"title\"):\n",
    "    max_bottom = base_bottom\n",
    "    max_left = base_left\n",
    "    \n",
    "    for y in range(3):\n",
    "        for x in range(3):\n",
    "            bottom = base_bottom + (height+hsep) * (2-y)\n",
    "            left = base_left + (width+wsep) * x\n",
    "            max_bottom = max(max_bottom, bottom+height+hsep)\n",
    "            max_left = max(max_left, left+width+wsep)\n",
    "            \n",
    "            if x == 0 and is_left_col:\n",
    "                yticks = [1, 2, 3]\n",
    "            else:\n",
    "                yticks = []\n",
    "\n",
    "            if (y == 2 and is_bottom_row) or title==\"Layer 15\":\n",
    "                xticks = [1, 2, 3]\n",
    "            else:\n",
    "                xticks = []\n",
    "            ax = fig.add_axes([left, bottom, width, height], xticks=xticks, yticks=yticks)\n",
    "                              #title=f\"cov. w/ ({x + 1}, {y +1})\")\n",
    "            mappable = ax.imshow(\n",
    "                mean_covs[key][y*3+x, :].reshape((3, 3)),\n",
    "                cmap=plt.get_cmap('RdBu'),\n",
    "                extent=[0.5, 3.5, 3.5, 0.5], norm=norm)\n",
    "            ax.plot([x+1], [y+1], marker='x', ls='none', color=('black' if title == \"Layer 19\" else 'white'))\n",
    "            ax.tick_params(left=False, bottom=False)  # remove ticks\n",
    "\n",
    "            if y==0 and x==1:\n",
    "                ttl = ax.set_title(title, pad=ttl_marg)\n",
    "    return max_bottom, max_left, mappable\n",
    "\n",
    "# Iterate over the indices for axes, starting from the bottom-left of the plots\n",
    "cur_bottom = 0\n",
    "for y_idx in reversed(range(0, plots_y)):\n",
    "    cur_left = 0\n",
    "    for x_idx in range(min(len(conv_keys)-y_idx*plots_x, plots_x)):\n",
    "        key = conv_keys[y_idx*plots_x + x_idx]\n",
    "        if key in ['net.module.3.main.0.weight_prior.p',\n",
    "                   'net.module.6.main.0.weight_prior.p',\n",
    "                   'net.module.9.main.0.weight_prior.p',]:\n",
    "            marker = \"*\"\n",
    "        else:\n",
    "            marker = \"\"\n",
    "        \n",
    "        \n",
    "        next_bottom, cur_left, mappable = plot_at(\n",
    "            key, cur_bottom, cur_left,\n",
    "            is_bottom_row=(y_idx == plots_y-1),\n",
    "            is_left_col=(x_idx == 0),\n",
    "            title=f\"{marker}Layer {conv_keys.index(key) + 1}\")\n",
    "        cur_left += w_cov_sep\n",
    "        \n",
    "    if cur_bottom == 0:\n",
    "        cbar_ax = fig.add_axes([cur_left+0.03, cur_bottom, width/3, next_bottom-cur_bottom])\n",
    "        fig.colorbar(mappable, cax=cbar_ax, ticks=[-extreme, -1, 0, 1, extreme])\n",
    "    cur_bottom = next_bottom + h_cov_sep\n",
    "    \n",
    "fig.savefig(\"../figures/210122_googleresnet_covariances_all.pdf\", bbox_inches='tight')"
   ]
  },
  {
   "cell_type": "code",
   "execution_count": null,
   "metadata": {},
   "outputs": [],
   "source": []
  },
  {
   "cell_type": "code",
   "execution_count": 37,
   "metadata": {},
   "outputs": [
    {
     "data": {
      "text/plain": [
       "(1.7499999999999996, 2.1999999999999997, 1.7)"
      ]
     },
     "execution_count": 37,
     "metadata": {},
     "output_type": "execute_result"
    }
   ],
   "source": [
    "cur_left, cur_bottom, extreme"
   ]
  },
  {
   "cell_type": "code",
   "execution_count": 38,
   "metadata": {},
   "outputs": [
    {
     "data": {
      "text/plain": [
       "['net.module.0.weight_prior.p',\n",
       " 'net.module.3.main.0.weight_prior.p',\n",
       " 'net.module.3.main.3.weight_prior.p',\n",
       " 'net.module.4.main.0.weight_prior.p',\n",
       " 'net.module.4.main.3.weight_prior.p',\n",
       " 'net.module.5.main.0.weight_prior.p',\n",
       " 'net.module.5.main.3.weight_prior.p',\n",
       " 'net.module.6.main.0.weight_prior.p',\n",
       " 'net.module.6.main.3.weight_prior.p',\n",
       " 'net.module.7.main.0.weight_prior.p',\n",
       " 'net.module.7.main.3.weight_prior.p',\n",
       " 'net.module.8.main.0.weight_prior.p',\n",
       " 'net.module.8.main.3.weight_prior.p',\n",
       " 'net.module.9.main.0.weight_prior.p',\n",
       " 'net.module.9.main.3.weight_prior.p',\n",
       " 'net.module.10.main.0.weight_prior.p',\n",
       " 'net.module.10.main.3.weight_prior.p',\n",
       " 'net.module.11.main.0.weight_prior.p',\n",
       " 'net.module.11.main.3.weight_prior.p']"
      ]
     },
     "execution_count": 38,
     "metadata": {},
     "output_type": "execute_result"
    }
   ],
   "source": [
    "conv_keys"
   ]
  },
  {
   "cell_type": "code",
   "execution_count": null,
   "metadata": {},
   "outputs": [],
   "source": []
  }
 ],
 "metadata": {
  "kernelspec": {
   "display_name": "Python 3",
   "language": "python",
   "name": "python3"
  },
  "language_info": {
   "codemirror_mode": {
    "name": "ipython",
    "version": 3
   },
   "file_extension": ".py",
   "mimetype": "text/x-python",
   "name": "python",
   "nbconvert_exporter": "python",
   "pygments_lexer": "ipython3",
   "version": "3.7.6"
  }
 },
 "nbformat": 4,
 "nbformat_minor": 4
}
