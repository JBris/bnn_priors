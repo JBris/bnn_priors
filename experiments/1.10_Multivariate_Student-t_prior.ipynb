{
 "cells": [
  {
   "cell_type": "code",
   "execution_count": 1,
   "metadata": {},
   "outputs": [],
   "source": [
    "import math\n",
    "import numpy as np\n",
    "import torch\n",
    "import torch.distributions as td\n",
    "from torch.distributions import constraints, Gamma, MultivariateNormal\n",
    "from torch.distributions.multivariate_normal import _batch_mv, _batch_mahalanobis\n",
    "from torch.distributions.distribution import Distribution\n",
    "from torch.distributions.utils import broadcast_all, lazy_property, _standard_normal\n",
    "from scipy import stats\n",
    "from matplotlib import pyplot as plt\n",
    "import seaborn as sns\n",
    "\n",
    "sns.set(context=\"paper\", style=\"whitegrid\", font_scale=1.5)"
   ]
  },
  {
   "cell_type": "code",
   "execution_count": 2,
   "metadata": {},
   "outputs": [],
   "source": [
    "class MultivariateT(MultivariateNormal):\n",
    "    \"\"\"\n",
    "    Multivariate Student-t distribution, using hierarchical Gamma sampling.\n",
    "    (see https://arxiv.org/abs/1402.4306)\n",
    "    We only allow degrees of freedom >= 2 for now,\n",
    "    because otherwise the covariance is undefined.\n",
    "    \"\"\"\n",
    "    arg_constraints = {'df': constraints.positive,\n",
    "                       'loc': constraints.real_vector,\n",
    "                       'covariance_matrix': constraints.positive_definite,\n",
    "                       'precision_matrix': constraints.positive_definite,\n",
    "                       'scale_tril': constraints.lower_cholesky}\n",
    "    support = constraints.real\n",
    "    has_rsample = True\n",
    "    \n",
    "    def __init__(self,\n",
    "                 df=3.,\n",
    "                 loc=0.,\n",
    "                 covariance_matrix=None,\n",
    "                 precision_matrix=None,\n",
    "                 scale_tril=None,\n",
    "                 validate_args=None):\n",
    "        assert df >= 2., \"We need more than 2 degrees of freedom for nice properties\"\n",
    "        super().__init__(loc=loc,\n",
    "                 covariance_matrix=covariance_matrix,\n",
    "                 precision_matrix=precision_matrix,\n",
    "                 scale_tril=scale_tril,\n",
    "                 validate_args=validate_args)\n",
    "        self.df, = broadcast_all(df)\n",
    "        self.gamma = Gamma(concentration=self.df/2., rate=1./2.)\n",
    "        \n",
    "\n",
    "    def rsample(self, sample_shape=torch.Size()):\n",
    "        shape = self._extended_shape(sample_shape)\n",
    "        eps = _standard_normal(shape, dtype=self.loc.dtype, device=self.loc.device)\n",
    "        r_inv = self.gamma.sample(sample_shape=sample_shape)\n",
    "        r_inv = torch.unsqueeze(r_inv, -1)\n",
    "        eps, r_inv = broadcast_all(eps, r_inv)\n",
    "        r = 1/r_inv\n",
    "        return self.loc + (r * (self.df - 2.))*_batch_mv(self._unbroadcasted_scale_tril, eps)\n",
    "    \n",
    "    \n",
    "    def log_prob(self, value):\n",
    "        if self._validate_args:\n",
    "            self._validate_sample(value)\n",
    "        diff = value - self.loc\n",
    "        M = _batch_mahalanobis(self._unbroadcasted_scale_tril, diff)\n",
    "        half_log_det = self._unbroadcasted_scale_tril.diagonal(dim1=-2, dim2=-1).log().sum(-1)\n",
    "        dim = self._event_shape[0]\n",
    "        lp = torch.lgamma((dim+self.df)/2.) \\\n",
    "                - ((dim/2.) * torch.log(math.pi * (self.df - 2.))) \\\n",
    "                - torch.lgamma(self.df / 2.) \\\n",
    "                - half_log_det \\\n",
    "                - ((self.df+dim)/2.) * torch.log(1 + (M/(self.df-2.)))\n",
    "        return lp\n",
    "    \n",
    "    \n",
    "    def cdf(self, value):\n",
    "        raise NotImplementedError\n",
    "\n",
    "\n",
    "    def icdf(self, value):\n",
    "        raise NotImplementedError\n",
    "\n",
    "\n",
    "    def entropy(self):\n",
    "        raise NotImplementedError"
   ]
  },
  {
   "cell_type": "code",
   "execution_count": 3,
   "metadata": {},
   "outputs": [],
   "source": [
    "t_dist = MultivariateT(df=3., loc=torch.tensor([0., 0.]), covariance_matrix=torch.tensor([[2.,1.],[1.,2.]]))"
   ]
  },
  {
   "cell_type": "code",
   "execution_count": 4,
   "metadata": {},
   "outputs": [
    {
     "data": {
      "text/plain": [
       "tensor(-2.5656)"
      ]
     },
     "execution_count": 4,
     "metadata": {},
     "output_type": "execute_result"
    }
   ],
   "source": [
    "t_dist.log_prob(torch.tensor([1.,1.]))"
   ]
  },
  {
   "cell_type": "code",
   "execution_count": 5,
   "metadata": {},
   "outputs": [],
   "source": [
    "sample = t_dist.sample(sample_shape=(1000,))"
   ]
  },
  {
   "cell_type": "code",
   "execution_count": 6,
   "metadata": {},
   "outputs": [
    {
     "data": {
      "text/plain": [
       "tensor([-2.1667, -2.2166, -1.4190, -8.8037, -3.6343, -1.4008, -1.3458, -2.2257,\n",
       "        -3.0618, -3.7272])"
      ]
     },
     "execution_count": 6,
     "metadata": {},
     "output_type": "execute_result"
    }
   ],
   "source": [
    "t_dist.log_prob(sample)[:10]"
   ]
  },
  {
   "cell_type": "code",
   "execution_count": 7,
   "metadata": {},
   "outputs": [
    {
     "data": {
      "image/png": "[encoded data removed]",
      "text/plain": [
       "<Figure size 432x288 with 1 Axes>"
      ]
     },
     "metadata": {},
     "output_type": "display_data"
    }
   ],
   "source": [
    "fig, ax = plt.subplots()\n",
    "sns.scatterplot(x=sample[:,0], y=sample[:,1], s=10, alpha=0.5)\n",
    "ax.set_xlim(-5,5)\n",
    "ax.set_ylim(-5,5);"
   ]
  },
  {
   "cell_type": "code",
   "execution_count": null,
   "metadata": {},
   "outputs": [],
   "source": []
  }
 ],
 "metadata": {
  "kernelspec": {
   "display_name": "Python 3",
   "language": "python",
   "name": "python3"
  },
  "language_info": {
   "codemirror_mode": {
    "name": "ipython",
    "version": 3
   },
   "file_extension": ".py",
   "mimetype": "text/x-python",
   "name": "python",
   "nbconvert_exporter": "python",
   "pygments_lexer": "ipython3",
   "version": "3.8.5"
  }
 },
 "nbformat": 4,
 "nbformat_minor": 4
}
