{
 "cells": [
  {
   "cell_type": "code",
   "execution_count": 2,
   "metadata": {},
   "outputs": [],
   "source": [
    "import os\n",
    "import math\n",
    "\n",
    "import numpy as np\n",
    "import torch as t\n",
    "from pathlib import Path\n",
    "import matplotlib.pyplot as plt\n",
    "from pyro.infer.mcmc import NUTS, HMC\n",
    "from pyro.infer.mcmc.api import MCMC\n",
    "\n",
    "from bnn_priors.data import UCI\n",
    "from bnn_priors.models import RaoBDenseNet, DenseNet\n",
    "from bnn_priors.prior import LogNormal\n",
    "from bnn_priors.inference import SGLDRunner"
   ]
  },
  {
   "cell_type": "code",
   "execution_count": 3,
   "metadata": {},
   "outputs": [],
   "source": [
    "# TODO: try different data sets\n",
    "# data = UCI(\"yacht\", 0)\n",
    "data = UCI(\"boston\", 0)"
   ]
  },
  {
   "cell_type": "code",
   "execution_count": 4,
   "metadata": {},
   "outputs": [],
   "source": [
    "device = ('cuda' if t.cuda.is_available() else 'cpu')\n",
    "x_train = data.norm.train_X\n",
    "y_train = data.norm.train_y\n",
    "\n",
    "x_test = data.norm.test_X\n",
    "y_test = data.norm.test_y"
   ]
  },
  {
   "cell_type": "code",
   "execution_count": 5,
   "metadata": {},
   "outputs": [],
   "source": [
    "# TODO: change model type\n",
    "# model = RaoBDenseNet(x_train, y_train, 50, noise_std=LogNormal((), -1., 0.2)).to(x_train)\n",
    "model = DenseNet(x_train.size(-1), y_train.size(-1), 50, noise_std=LogNormal((), -1., 0.2)).to(x_train)"
   ]
  },
  {
   "cell_type": "code",
   "execution_count": 8,
   "metadata": {},
   "outputs": [
    {
     "data": {
      "text/plain": [
       "['__abstractmethods__',\n",
       " '__call__',\n",
       " '__class__',\n",
       " '__delattr__',\n",
       " '__dict__',\n",
       " '__dir__',\n",
       " '__doc__',\n",
       " '__eq__',\n",
       " '__format__',\n",
       " '__ge__',\n",
       " '__getattr__',\n",
       " '__getattribute__',\n",
       " '__gt__',\n",
       " '__hash__',\n",
       " '__init__',\n",
       " '__init_subclass__',\n",
       " '__le__',\n",
       " '__lt__',\n",
       " '__module__',\n",
       " '__ne__',\n",
       " '__new__',\n",
       " '__reduce__',\n",
       " '__reduce_ex__',\n",
       " '__repr__',\n",
       " '__setattr__',\n",
       " '__setstate__',\n",
       " '__sizeof__',\n",
       " '__slots__',\n",
       " '__str__',\n",
       " '__subclasshook__',\n",
       " '__weakref__',\n",
       " '_abc_impl',\n",
       " '_apply',\n",
       " '_backward_hooks',\n",
       " '_buffers',\n",
       " '_forward_hooks',\n",
       " '_forward_pre_hooks',\n",
       " '_get_name',\n",
       " '_load_from_state_dict',\n",
       " '_load_state_dict_pre_hooks',\n",
       " '_modules',\n",
       " '_named_members',\n",
       " '_parameters',\n",
       " '_register_load_state_dict_pre_hook',\n",
       " '_register_state_dict_hook',\n",
       " '_replicate_for_data_parallel',\n",
       " '_save_to_state_dict',\n",
       " '_slow_forward',\n",
       " '_state_dict_hooks',\n",
       " '_version',\n",
       " 'add_module',\n",
       " 'apply',\n",
       " 'bfloat16',\n",
       " 'buffers',\n",
       " 'children',\n",
       " 'cpu',\n",
       " 'cuda',\n",
       " 'double',\n",
       " 'dump_patches',\n",
       " 'eval',\n",
       " 'extra_repr',\n",
       " 'float',\n",
       " 'forward',\n",
       " 'get_potential',\n",
       " 'half',\n",
       " 'likelihood_dist',\n",
       " 'load_state_dict',\n",
       " 'log_likelihood',\n",
       " 'log_likelihood_avg',\n",
       " 'log_prior',\n",
       " 'modules',\n",
       " 'named_buffers',\n",
       " 'named_children',\n",
       " 'named_modules',\n",
       " 'named_parameters',\n",
       " 'net',\n",
       " 'noise_std',\n",
       " 'parameters',\n",
       " 'params_with_prior_dict',\n",
       " 'potential',\n",
       " 'potential_avg',\n",
       " 'register_backward_hook',\n",
       " 'register_buffer',\n",
       " 'register_forward_hook',\n",
       " 'register_forward_pre_hook',\n",
       " 'register_parameter',\n",
       " 'requires_grad_',\n",
       " 'sample_all_priors',\n",
       " 'share_memory',\n",
       " 'state_dict',\n",
       " 'to',\n",
       " 'train',\n",
       " 'training',\n",
       " 'type',\n",
       " 'using_params',\n",
       " 'zero_grad']"
      ]
     },
     "execution_count": 8,
     "metadata": {},
     "output_type": "execute_result"
    }
   ],
   "source": [
    "dir(model)"
   ]
  },
  {
   "cell_type": "code",
   "execution_count": null,
   "metadata": {},
   "outputs": [],
   "source": []
  },
  {
   "cell_type": "code",
   "execution_count": null,
   "metadata": {},
   "outputs": [],
   "source": []
  },
  {
   "cell_type": "code",
   "execution_count": 5,
   "metadata": {},
   "outputs": [],
   "source": [
    "N_steps = 200 # 2000\n",
    "warmup = 200 # 2000"
   ]
  },
  {
   "cell_type": "code",
   "execution_count": 58,
   "metadata": {},
   "outputs": [],
   "source": [
    "# TODO: use SVGD\n",
    "kernel = HMC(potential_fn=lambda p: model.get_potential(x_train, y_train, eff_num_data=1*x_train.shape[0])(p),\n",
    "             adapt_step_size=False, adapt_mass_matrix=False,\n",
    "             step_size=1E-3, num_steps=32)\n",
    "mcmc = MCMC(kernel, num_samples=N_steps, warmup_steps=warmup, initial_params = model.params_dict())"
   ]
  },
  {
   "cell_type": "code",
   "execution_count": 74,
   "metadata": {},
   "outputs": [],
   "source": [
    "skip = 5 # 50\n",
    "cycles =  2\n",
    "warmup_epochs = warmup\n",
    "sample_epochs = N_steps * skip // cycles\n",
    "epochs_per_cycle = 2 * warmup + sample_epochs\n",
    "temperature = 1.0\n",
    "momentum = 0.9\n",
    "precond_update = None\n",
    "lr = 5E-4\n",
    "\n",
    "dataloader = t.utils.data.DataLoader(data.norm.train, batch_size = len(data.norm.train), shuffle=True)\n",
    "\n",
    "mcmc = SGLDRunner(model=model, dataloader=dataloader, epochs_per_cycle=epochs_per_cycle,\n",
    "                  warmup_epochs=warmup_epochs, sample_epochs=sample_epochs, learning_rate=lr,\n",
    "                  skip=skip, sampling_decay=True, cycles=cycles, temperature=temperature,\n",
    "                  momentum=momentum, precond_update=precond_update)"
   ]
  },
  {
   "cell_type": "code",
   "execution_count": 90,
   "metadata": {},
   "outputs": [
    {
     "name": "stderr",
     "output_type": "stream",
     "text": [
      "Cycle 0, Sampling: 100%|██████████| 900/900 [00:17<00:00, 50.11it/s]\n",
      "Cycle 1, Sampling: 100%|██████████| 900/900 [00:18<00:00, 48.91it/s]\n"
     ]
    }
   ],
   "source": [
    "mcmc.run(progressbar=True)\n",
    "samples = mcmc.get_samples()"
   ]
  },
  {
   "cell_type": "code",
   "execution_count": 91,
   "metadata": {},
   "outputs": [],
   "source": [
    "# TODO: finally fix this '.p' shenanigans\n",
    "samples = {(key[:-2] if key[-2:] == \".p\" else key) : val for key, val in samples.items()}\n",
    "# TODO: do we still need the learning rate in SVGD?\n",
    "if \"lr\" in samples:\n",
    "    del samples[\"lr\"] "
   ]
  },
  {
   "cell_type": "code",
   "execution_count": 92,
   "metadata": {},
   "outputs": [],
   "source": [
    "lps = t.zeros(N_steps, *y_test.shape)\n",
    "\n",
    "for i in range(N_steps):\n",
    "    sample = dict((k, v[i]) for k, v in samples.items())\n",
    "    with t.no_grad(), model.using_params(sample):\n",
    "        lps[i] = model(x_test).log_prob(y_test)\n",
    "\n",
    "final_params = dict((k, v[-1]) for k, v in samples.items())\n",
    "with t.no_grad(), model.using_params(sample):\n",
    "    P = model(x_test)\n",
    "    noise_std = model.noise_std()\n",
    "\n",
    "lps = lps.logsumexp(0) - math.log(N_steps)\n",
    "lp = lps.mean()"
   ]
  },
  {
   "cell_type": "code",
   "execution_count": 93,
   "metadata": {},
   "outputs": [
    {
     "name": "stdout",
     "output_type": "stream",
     "text": [
      "tensor(-1.2337) tensor(1.0185)\n"
     ]
    }
   ],
   "source": [
    "print(lps.mean(), lps.std())"
   ]
  },
  {
   "cell_type": "code",
   "execution_count": null,
   "metadata": {},
   "outputs": [],
   "source": []
  }
 ],
 "metadata": {
  "kernelspec": {
   "display_name": "Python 3",
   "language": "python",
   "name": "python3"
  },
  "language_info": {
   "codemirror_mode": {
    "name": "ipython",
    "version": 3
   },
   "file_extension": ".py",
   "mimetype": "text/x-python",
   "name": "python",
   "nbconvert_exporter": "python",
   "pygments_lexer": "ipython3",
   "version": "3.7.7"
  }
 },
 "nbformat": 4,
 "nbformat_minor": 4
}
