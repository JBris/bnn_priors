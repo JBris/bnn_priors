{
 "cells": [
  {
   "cell_type": "code",
   "execution_count": null,
   "metadata": {},
   "outputs": [],
   "source": [
    "import numpy as np\n",
    "import torch\n",
    "from pathlib import Path\n",
    "from pyro.distributions import Normal\n",
    "import os\n",
    "import matplotlib.pyplot as plt\n",
    "\n",
    "from bnn_priors.models import DenseNet\n",
    "from bnn_priors.inference import SGLDRunner\n",
    "from bnn_priors import prior\n",
    "\n",
    "%load_ext autoreload\n",
    "%autoreload 2"
   ]
  },
  {
   "cell_type": "code",
   "execution_count": null,
   "metadata": {},
   "outputs": [],
   "source": [
    "data = np.load(\"../bnn_priors/data/snelson.npz\")\n",
    "\n",
    "device = ('cuda' if torch.cuda.is_available() else 'cpu')\n",
    "x_train = torch.from_numpy(data['x_train']).unsqueeze(1).to(device=device, dtype=torch.get_default_dtype())\n",
    "y_train = torch.from_numpy(data['y_train']).unsqueeze(1).to(x_train)\n",
    "\n",
    "dataset = torch.utils.data.TensorDataset(x_train, y_train)\n",
    "dataloader = torch.utils.data.DataLoader(dataset, batch_size = len(dataset))\n",
    "\n",
    "x_test = torch.from_numpy(data['x_test']).unsqueeze(1).to(x_train)"
   ]
  },
  {
   "cell_type": "code",
   "execution_count": null,
   "metadata": {},
   "outputs": [],
   "source": [
    "epochs_per_cycle = 2000\n",
    "warmup_epochs = 500\n",
    "sample_epochs = 500\n",
    "#N_steps = 10\n",
    "skip = 50\n",
    "#warmup = 500\n",
    "cycles =  5\n",
    "temperature = 1.0\n",
    "momentum = 0.5\n",
    "precond_update = 50\n",
    "lr = 5E-4\n",
    "\n",
    "\n",
    "model = DenseNet(x_train.shape[-1], y_train.shape[-1], 128, noise_std=0.3)\n",
    "model.to(x_train)\n",
    "if torch.cuda.is_available():\n",
    "    model = model.cuda()   # Resample model with He initialization so SGLD works.\n",
    "model.train()\n",
    "\n",
    "sgld = SGLDRunner(model=model, dataloader=dataloader, epochs_per_cycle=epochs_per_cycle, warmup_epochs=warmup_epochs, sample_epochs=sample_epochs, learning_rate=lr,\n",
    "                  skip=skip, sampling_decay=True, cycles=cycles, temperature=temperature,\n",
    "                  momentum=momentum, precond_update=precond_update)\n",
    "sgld.run(progressbar=True)\n",
    "\n",
    "samples = sgld.get_samples()"
   ]
  },
  {
   "cell_type": "code",
   "execution_count": null,
   "metadata": {},
   "outputs": [],
   "source": [
    "_, ax = plt.subplots(1, 1, figsize=(10, 6))\n",
    "for i in range(cycles*sgld.num_samples):\n",
    "    param_sample = {param : value[i] for param, value in samples.items() if param != \"lr\"}\n",
    "    model.load_state_dict(param_sample)\n",
    "    with torch.no_grad():\n",
    "        ax.plot(x_test.cpu(), model(x_test).loc.cpu(), color=\"C2\", alpha=0.5)\n",
    "ax.scatter(x_train.cpu(), y_train.cpu())\n",
    "ax.set_ylim(-3, 3);"
   ]
  },
  {
   "cell_type": "code",
   "execution_count": null,
   "metadata": {},
   "outputs": [],
   "source": [
    "_, axes = plt.subplots(3, 2, figsize=(12, 6))\n",
    "axes[0, 0].plot(sgld.metrics[\"lr\"])\n",
    "axes[0, 1].plot(sgld.metrics[\"log_prob_accept\"])\n",
    "\n",
    "ax = axes[2, 0]\n",
    "ax.plot(sgld.metrics[\"loss\"])\n",
    "ax.set_ylim(115, 125)\n",
    "\n",
    "ax = axes[1, 0]\n",
    "ax.plot(sgld.metrics[\"est_temperature/net.0.weight_prior\"])\n",
    "ax.set_ylim(0, 5)\n",
    "\n",
    "axes[1, 1].plot(sgld.metrics[\"preconditioner/net.0.weight_prior\"]);\n",
    "\n",
    "ax = axes[2, 1]\n",
    "ax.plot(sgld.metrics[\"est_config_temp/net.0.weight_prior\"])\n",
    "ax.set_ylim(0, 5)"
   ]
  },
  {
   "cell_type": "code",
   "execution_count": null,
   "metadata": {},
   "outputs": [],
   "source": []
  },
  {
   "cell_type": "code",
   "execution_count": null,
   "metadata": {},
   "outputs": [],
   "source": []
  }
 ],
 "metadata": {
  "kernelspec": {
   "display_name": "Python 3",
   "language": "python",
   "name": "python3"
  },
  "language_info": {
   "codemirror_mode": {
    "name": "ipython",
    "version": 3
   },
   "file_extension": ".py",
   "mimetype": "text/x-python",
   "name": "python",
   "nbconvert_exporter": "python",
   "pygments_lexer": "ipython3",
   "version": "3.7.3"
  }
 },
 "nbformat": 4,
 "nbformat_minor": 4
}
